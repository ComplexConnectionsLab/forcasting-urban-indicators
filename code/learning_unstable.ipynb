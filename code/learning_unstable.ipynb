{
 "cells": [
  {
   "cell_type": "code",
   "execution_count": 1,
   "metadata": {},
   "outputs": [],
   "source": [
    "import numpy as np\n",
    "import pandas as pd\n",
    "from sklearn.linear_model import LinearRegression\n",
    "from sklearn.ensemble import GradientBoostingRegressor, RandomForestRegressor\n",
    "from sklearn.multioutput import MultiOutputRegressor\n",
    "from sklearn.model_selection import train_test_split\n",
    "import matplotlib.pyplot as plt\n",
    "import seaborn as sns\n",
    "import warnings\n",
    "warnings.filterwarnings(\"ignore\")"
   ]
  },
  {
   "cell_type": "markdown",
   "metadata": {},
   "source": [
    "## EMP"
   ]
  },
  {
   "cell_type": "code",
   "execution_count": 2,
   "metadata": {},
   "outputs": [
    {
     "data": {
      "text/html": [
       "<div>\n",
       "<style scoped>\n",
       "    .dataframe tbody tr th:only-of-type {\n",
       "        vertical-align: middle;\n",
       "    }\n",
       "\n",
       "    .dataframe tbody tr th {\n",
       "        vertical-align: top;\n",
       "    }\n",
       "\n",
       "    .dataframe thead th {\n",
       "        text-align: right;\n",
       "    }\n",
       "</style>\n",
       "<table border=\"1\" class=\"dataframe\">\n",
       "  <thead>\n",
       "    <tr style=\"text-align: right;\">\n",
       "      <th></th>\n",
       "      <th></th>\n",
       "      <th>2000</th>\n",
       "      <th>2001</th>\n",
       "      <th>2002</th>\n",
       "      <th>2003</th>\n",
       "      <th>2004</th>\n",
       "      <th>2005</th>\n",
       "      <th>2006</th>\n",
       "      <th>2007</th>\n",
       "      <th>2008</th>\n",
       "      <th>2009</th>\n",
       "      <th>2010</th>\n",
       "      <th>2011</th>\n",
       "      <th>2012</th>\n",
       "      <th>2013</th>\n",
       "      <th>2014</th>\n",
       "      <th>2015</th>\n",
       "      <th>2016</th>\n",
       "      <th>2017</th>\n",
       "      <th>2018</th>\n",
       "      <th>2019</th>\n",
       "    </tr>\n",
       "    <tr>\n",
       "      <th>Area Code</th>\n",
       "      <th>Area</th>\n",
       "      <th></th>\n",
       "      <th></th>\n",
       "      <th></th>\n",
       "      <th></th>\n",
       "      <th></th>\n",
       "      <th></th>\n",
       "      <th></th>\n",
       "      <th></th>\n",
       "      <th></th>\n",
       "      <th></th>\n",
       "      <th></th>\n",
       "      <th></th>\n",
       "      <th></th>\n",
       "      <th></th>\n",
       "      <th></th>\n",
       "      <th></th>\n",
       "      <th></th>\n",
       "      <th></th>\n",
       "      <th></th>\n",
       "      <th></th>\n",
       "    </tr>\n",
       "  </thead>\n",
       "  <tbody>\n",
       "    <tr>\n",
       "      <th>1001</th>\n",
       "      <th>Autauga County, Alabama</th>\n",
       "      <td>-1.147398</td>\n",
       "      <td>-1.044572</td>\n",
       "      <td>-1.211470</td>\n",
       "      <td>-1.161665</td>\n",
       "      <td>-1.270346</td>\n",
       "      <td>-1.314663</td>\n",
       "      <td>-1.495004</td>\n",
       "      <td>-1.512254</td>\n",
       "      <td>-1.542879</td>\n",
       "      <td>-1.513057</td>\n",
       "      <td>-1.597179</td>\n",
       "      <td>-1.641012</td>\n",
       "      <td>-1.788900</td>\n",
       "      <td>-1.779757</td>\n",
       "      <td>-1.733870</td>\n",
       "      <td>-1.729079</td>\n",
       "      <td>-1.731139</td>\n",
       "      <td>-1.721452</td>\n",
       "      <td>-1.696933</td>\n",
       "      <td>-1.689105</td>\n",
       "    </tr>\n",
       "    <tr>\n",
       "      <th>1005</th>\n",
       "      <th>Barbour County, Alabama</th>\n",
       "      <td>0.726060</td>\n",
       "      <td>0.686478</td>\n",
       "      <td>0.603743</td>\n",
       "      <td>0.654230</td>\n",
       "      <td>0.533889</td>\n",
       "      <td>0.648111</td>\n",
       "      <td>0.630041</td>\n",
       "      <td>0.518347</td>\n",
       "      <td>0.413672</td>\n",
       "      <td>0.296486</td>\n",
       "      <td>0.340317</td>\n",
       "      <td>0.204037</td>\n",
       "      <td>0.003071</td>\n",
       "      <td>-0.024041</td>\n",
       "      <td>-0.124926</td>\n",
       "      <td>-0.071387</td>\n",
       "      <td>-0.115705</td>\n",
       "      <td>-0.007882</td>\n",
       "      <td>0.048852</td>\n",
       "      <td>0.107775</td>\n",
       "    </tr>\n",
       "    <tr>\n",
       "      <th>1009</th>\n",
       "      <th>Blount County, Alabama</th>\n",
       "      <td>-2.245631</td>\n",
       "      <td>-2.257787</td>\n",
       "      <td>-2.540120</td>\n",
       "      <td>-2.641219</td>\n",
       "      <td>-2.730702</td>\n",
       "      <td>-2.668597</td>\n",
       "      <td>-2.659303</td>\n",
       "      <td>-2.501962</td>\n",
       "      <td>-2.458838</td>\n",
       "      <td>-2.486581</td>\n",
       "      <td>-2.553233</td>\n",
       "      <td>-2.611637</td>\n",
       "      <td>-2.595483</td>\n",
       "      <td>-2.629756</td>\n",
       "      <td>-2.726014</td>\n",
       "      <td>-2.725867</td>\n",
       "      <td>-2.724210</td>\n",
       "      <td>-2.676603</td>\n",
       "      <td>-2.603089</td>\n",
       "      <td>-2.550054</td>\n",
       "    </tr>\n",
       "    <tr>\n",
       "      <th>1017</th>\n",
       "      <th>Chambers County, Alabama</th>\n",
       "      <td>-0.037656</td>\n",
       "      <td>-0.018474</td>\n",
       "      <td>-0.028736</td>\n",
       "      <td>-0.098932</td>\n",
       "      <td>-0.213353</td>\n",
       "      <td>-0.222929</td>\n",
       "      <td>-0.450896</td>\n",
       "      <td>-0.538875</td>\n",
       "      <td>-1.097035</td>\n",
       "      <td>-1.286839</td>\n",
       "      <td>-1.121609</td>\n",
       "      <td>-0.948491</td>\n",
       "      <td>-0.947538</td>\n",
       "      <td>-0.927398</td>\n",
       "      <td>-0.907891</td>\n",
       "      <td>-0.987236</td>\n",
       "      <td>-0.969645</td>\n",
       "      <td>-0.874815</td>\n",
       "      <td>-0.864325</td>\n",
       "      <td>-0.793960</td>\n",
       "    </tr>\n",
       "    <tr>\n",
       "      <th>1027</th>\n",
       "      <th>Clay County, Alabama</th>\n",
       "      <td>0.605374</td>\n",
       "      <td>0.471002</td>\n",
       "      <td>0.385399</td>\n",
       "      <td>0.163451</td>\n",
       "      <td>0.178227</td>\n",
       "      <td>0.262632</td>\n",
       "      <td>0.443818</td>\n",
       "      <td>0.310342</td>\n",
       "      <td>-0.030314</td>\n",
       "      <td>-0.284833</td>\n",
       "      <td>-0.295972</td>\n",
       "      <td>-0.352865</td>\n",
       "      <td>-0.384057</td>\n",
       "      <td>-0.395700</td>\n",
       "      <td>-0.256311</td>\n",
       "      <td>-0.177727</td>\n",
       "      <td>-0.103037</td>\n",
       "      <td>0.040383</td>\n",
       "      <td>0.162216</td>\n",
       "      <td>0.179184</td>\n",
       "    </tr>\n",
       "    <tr>\n",
       "      <th>...</th>\n",
       "      <th>...</th>\n",
       "      <td>...</td>\n",
       "      <td>...</td>\n",
       "      <td>...</td>\n",
       "      <td>...</td>\n",
       "      <td>...</td>\n",
       "      <td>...</td>\n",
       "      <td>...</td>\n",
       "      <td>...</td>\n",
       "      <td>...</td>\n",
       "      <td>...</td>\n",
       "      <td>...</td>\n",
       "      <td>...</td>\n",
       "      <td>...</td>\n",
       "      <td>...</td>\n",
       "      <td>...</td>\n",
       "      <td>...</td>\n",
       "      <td>...</td>\n",
       "      <td>...</td>\n",
       "      <td>...</td>\n",
       "      <td>...</td>\n",
       "    </tr>\n",
       "    <tr>\n",
       "      <th>55119</th>\n",
       "      <th>Taylor County, Wisconsin</th>\n",
       "      <td>1.090859</td>\n",
       "      <td>1.097276</td>\n",
       "      <td>1.124239</td>\n",
       "      <td>1.202458</td>\n",
       "      <td>1.140860</td>\n",
       "      <td>1.030489</td>\n",
       "      <td>0.921073</td>\n",
       "      <td>0.783831</td>\n",
       "      <td>0.725812</td>\n",
       "      <td>0.652072</td>\n",
       "      <td>0.749257</td>\n",
       "      <td>0.744739</td>\n",
       "      <td>0.779675</td>\n",
       "      <td>0.772872</td>\n",
       "      <td>0.626426</td>\n",
       "      <td>0.676268</td>\n",
       "      <td>0.750721</td>\n",
       "      <td>0.753625</td>\n",
       "      <td>0.712544</td>\n",
       "      <td>0.715323</td>\n",
       "    </tr>\n",
       "    <tr>\n",
       "      <th>56001</th>\n",
       "      <th>Albany County, Wyoming</th>\n",
       "      <td>0.939727</td>\n",
       "      <td>0.949547</td>\n",
       "      <td>1.007492</td>\n",
       "      <td>1.062891</td>\n",
       "      <td>1.376398</td>\n",
       "      <td>1.037218</td>\n",
       "      <td>0.945866</td>\n",
       "      <td>0.985085</td>\n",
       "      <td>0.967520</td>\n",
       "      <td>1.019678</td>\n",
       "      <td>0.874182</td>\n",
       "      <td>0.849554</td>\n",
       "      <td>0.761280</td>\n",
       "      <td>0.741204</td>\n",
       "      <td>0.705748</td>\n",
       "      <td>0.706995</td>\n",
       "      <td>0.720657</td>\n",
       "      <td>0.607441</td>\n",
       "      <td>0.573644</td>\n",
       "      <td>0.574621</td>\n",
       "    </tr>\n",
       "    <tr>\n",
       "      <th>56009</th>\n",
       "      <th>Converse County, Wyoming</th>\n",
       "      <td>0.622198</td>\n",
       "      <td>0.622161</td>\n",
       "      <td>0.486719</td>\n",
       "      <td>0.642640</td>\n",
       "      <td>0.665493</td>\n",
       "      <td>0.705571</td>\n",
       "      <td>0.660120</td>\n",
       "      <td>0.691550</td>\n",
       "      <td>0.856888</td>\n",
       "      <td>0.864262</td>\n",
       "      <td>0.929382</td>\n",
       "      <td>0.970035</td>\n",
       "      <td>1.054815</td>\n",
       "      <td>1.062340</td>\n",
       "      <td>1.256384</td>\n",
       "      <td>1.215034</td>\n",
       "      <td>0.932298</td>\n",
       "      <td>0.916436</td>\n",
       "      <td>1.091853</td>\n",
       "      <td>1.683008</td>\n",
       "    </tr>\n",
       "    <tr>\n",
       "      <th>56023</th>\n",
       "      <th>Lincoln County, Wyoming</th>\n",
       "      <td>0.362024</td>\n",
       "      <td>0.507892</td>\n",
       "      <td>0.514543</td>\n",
       "      <td>0.937287</td>\n",
       "      <td>0.730066</td>\n",
       "      <td>0.577405</td>\n",
       "      <td>0.688145</td>\n",
       "      <td>0.967268</td>\n",
       "      <td>0.597803</td>\n",
       "      <td>0.440254</td>\n",
       "      <td>0.337596</td>\n",
       "      <td>0.367344</td>\n",
       "      <td>0.126956</td>\n",
       "      <td>0.018850</td>\n",
       "      <td>0.001824</td>\n",
       "      <td>0.063383</td>\n",
       "      <td>0.088161</td>\n",
       "      <td>0.108346</td>\n",
       "      <td>0.098088</td>\n",
       "      <td>0.107677</td>\n",
       "    </tr>\n",
       "    <tr>\n",
       "      <th>56035</th>\n",
       "      <th>Sublette County, Wyoming</th>\n",
       "      <td>0.910870</td>\n",
       "      <td>1.153574</td>\n",
       "      <td>1.205619</td>\n",
       "      <td>1.289706</td>\n",
       "      <td>1.446394</td>\n",
       "      <td>1.672510</td>\n",
       "      <td>1.975987</td>\n",
       "      <td>2.219485</td>\n",
       "      <td>2.162482</td>\n",
       "      <td>2.013853</td>\n",
       "      <td>2.001333</td>\n",
       "      <td>2.166901</td>\n",
       "      <td>1.817157</td>\n",
       "      <td>1.610794</td>\n",
       "      <td>1.479830</td>\n",
       "      <td>1.235972</td>\n",
       "      <td>0.864864</td>\n",
       "      <td>1.058466</td>\n",
       "      <td>1.049459</td>\n",
       "      <td>0.930431</td>\n",
       "    </tr>\n",
       "  </tbody>\n",
       "</table>\n",
       "<p>1136 rows × 20 columns</p>\n",
       "</div>"
      ],
      "text/plain": [
       "                                        2000      2001      2002      2003  \\\n",
       "Area Code Area                                                               \n",
       "1001      Autauga County, Alabama  -1.147398 -1.044572 -1.211470 -1.161665   \n",
       "1005      Barbour County, Alabama   0.726060  0.686478  0.603743  0.654230   \n",
       "1009      Blount County, Alabama   -2.245631 -2.257787 -2.540120 -2.641219   \n",
       "1017      Chambers County, Alabama -0.037656 -0.018474 -0.028736 -0.098932   \n",
       "1027      Clay County, Alabama      0.605374  0.471002  0.385399  0.163451   \n",
       "...                                      ...       ...       ...       ...   \n",
       "55119     Taylor County, Wisconsin  1.090859  1.097276  1.124239  1.202458   \n",
       "56001     Albany County, Wyoming    0.939727  0.949547  1.007492  1.062891   \n",
       "56009     Converse County, Wyoming  0.622198  0.622161  0.486719  0.642640   \n",
       "56023     Lincoln County, Wyoming   0.362024  0.507892  0.514543  0.937287   \n",
       "56035     Sublette County, Wyoming  0.910870  1.153574  1.205619  1.289706   \n",
       "\n",
       "                                        2004      2005      2006      2007  \\\n",
       "Area Code Area                                                               \n",
       "1001      Autauga County, Alabama  -1.270346 -1.314663 -1.495004 -1.512254   \n",
       "1005      Barbour County, Alabama   0.533889  0.648111  0.630041  0.518347   \n",
       "1009      Blount County, Alabama   -2.730702 -2.668597 -2.659303 -2.501962   \n",
       "1017      Chambers County, Alabama -0.213353 -0.222929 -0.450896 -0.538875   \n",
       "1027      Clay County, Alabama      0.178227  0.262632  0.443818  0.310342   \n",
       "...                                      ...       ...       ...       ...   \n",
       "55119     Taylor County, Wisconsin  1.140860  1.030489  0.921073  0.783831   \n",
       "56001     Albany County, Wyoming    1.376398  1.037218  0.945866  0.985085   \n",
       "56009     Converse County, Wyoming  0.665493  0.705571  0.660120  0.691550   \n",
       "56023     Lincoln County, Wyoming   0.730066  0.577405  0.688145  0.967268   \n",
       "56035     Sublette County, Wyoming  1.446394  1.672510  1.975987  2.219485   \n",
       "\n",
       "                                        2008      2009      2010      2011  \\\n",
       "Area Code Area                                                               \n",
       "1001      Autauga County, Alabama  -1.542879 -1.513057 -1.597179 -1.641012   \n",
       "1005      Barbour County, Alabama   0.413672  0.296486  0.340317  0.204037   \n",
       "1009      Blount County, Alabama   -2.458838 -2.486581 -2.553233 -2.611637   \n",
       "1017      Chambers County, Alabama -1.097035 -1.286839 -1.121609 -0.948491   \n",
       "1027      Clay County, Alabama     -0.030314 -0.284833 -0.295972 -0.352865   \n",
       "...                                      ...       ...       ...       ...   \n",
       "55119     Taylor County, Wisconsin  0.725812  0.652072  0.749257  0.744739   \n",
       "56001     Albany County, Wyoming    0.967520  1.019678  0.874182  0.849554   \n",
       "56009     Converse County, Wyoming  0.856888  0.864262  0.929382  0.970035   \n",
       "56023     Lincoln County, Wyoming   0.597803  0.440254  0.337596  0.367344   \n",
       "56035     Sublette County, Wyoming  2.162482  2.013853  2.001333  2.166901   \n",
       "\n",
       "                                        2012      2013      2014      2015  \\\n",
       "Area Code Area                                                               \n",
       "1001      Autauga County, Alabama  -1.788900 -1.779757 -1.733870 -1.729079   \n",
       "1005      Barbour County, Alabama   0.003071 -0.024041 -0.124926 -0.071387   \n",
       "1009      Blount County, Alabama   -2.595483 -2.629756 -2.726014 -2.725867   \n",
       "1017      Chambers County, Alabama -0.947538 -0.927398 -0.907891 -0.987236   \n",
       "1027      Clay County, Alabama     -0.384057 -0.395700 -0.256311 -0.177727   \n",
       "...                                      ...       ...       ...       ...   \n",
       "55119     Taylor County, Wisconsin  0.779675  0.772872  0.626426  0.676268   \n",
       "56001     Albany County, Wyoming    0.761280  0.741204  0.705748  0.706995   \n",
       "56009     Converse County, Wyoming  1.054815  1.062340  1.256384  1.215034   \n",
       "56023     Lincoln County, Wyoming   0.126956  0.018850  0.001824  0.063383   \n",
       "56035     Sublette County, Wyoming  1.817157  1.610794  1.479830  1.235972   \n",
       "\n",
       "                                        2016      2017      2018      2019  \n",
       "Area Code Area                                                              \n",
       "1001      Autauga County, Alabama  -1.731139 -1.721452 -1.696933 -1.689105  \n",
       "1005      Barbour County, Alabama  -0.115705 -0.007882  0.048852  0.107775  \n",
       "1009      Blount County, Alabama   -2.724210 -2.676603 -2.603089 -2.550054  \n",
       "1017      Chambers County, Alabama -0.969645 -0.874815 -0.864325 -0.793960  \n",
       "1027      Clay County, Alabama     -0.103037  0.040383  0.162216  0.179184  \n",
       "...                                      ...       ...       ...       ...  \n",
       "55119     Taylor County, Wisconsin  0.750721  0.753625  0.712544  0.715323  \n",
       "56001     Albany County, Wyoming    0.720657  0.607441  0.573644  0.574621  \n",
       "56009     Converse County, Wyoming  0.932298  0.916436  1.091853  1.683008  \n",
       "56023     Lincoln County, Wyoming   0.088161  0.108346  0.098088  0.107677  \n",
       "56035     Sublette County, Wyoming  0.864864  1.058466  1.049459  0.930431  \n",
       "\n",
       "[1136 rows x 20 columns]"
      ]
     },
     "execution_count": 2,
     "metadata": {},
     "output_type": "execute_result"
    }
   ],
   "source": [
    "emp = pd.read_csv(\"../data/processed/Unstable/emp.csv\", index_col=[0,1])\n",
    "emp"
   ]
  },
  {
   "cell_type": "code",
   "execution_count": 3,
   "metadata": {},
   "outputs": [
    {
     "name": "stdout",
     "output_type": "stream",
     "text": [
      "Train Score: 0.9769265233408978\n",
      "Coefs: [-0.00358521  0.00631335 -0.03249857 -0.06909993  1.08495469]\n",
      "Intercept: -0.0065324333446490634\n"
     ]
    }
   ],
   "source": [
    "X_train = emp[[str(i) for i in range(2000,2005)]]\n",
    "y_train = emp[\"2005\"]\n",
    "lin_reg = LinearRegression().fit(X_train, y_train)\n",
    "print(f\"Train Score: {lin_reg.score(X_train, y_train)}\")\n",
    "print(f\"Coefs: {lin_reg.coef_}\")\n",
    "print(f\"Intercept: {lin_reg.intercept_}\")"
   ]
  },
  {
   "cell_type": "code",
   "execution_count": 4,
   "metadata": {},
   "outputs": [
    {
     "name": "stdout",
     "output_type": "stream",
     "text": [
      "2001-2005: 0.9995607218433306\n",
      "2002-2006: 0.9995235562280673\n",
      "2003-2007: 0.999550585622268\n",
      "2004-2008: 0.9995272535289563\n",
      "2005-2009: 0.9994718450466982\n",
      "2006-2010: 0.999621438262694\n",
      "2007-2011: 0.9996621711520374\n",
      "2008-2012: 0.9996380822111615\n",
      "2009-2013: 0.9996408898715102\n",
      "2010-2014: 0.9996981922730693\n",
      "2011-2015: 0.9996217507477713\n",
      "2012-2016: 0.9995347437556115\n",
      "2013-2017: 0.9996680985916206\n",
      "2014-2018: 0.999690270817372\n",
      "2015-2019: 0.9996843105002081\n"
     ]
    }
   ],
   "source": [
    "for year in range(2001, 2016):\n",
    "\tX_test = emp[[str(i) for i in range(year, year+5)]]\n",
    "\ty_test = emp[str(year+4)]\n",
    "\tprint(f\"{year}-{year+4}: {lin_reg.score(X_test, y_test)}\")"
   ]
  },
  {
   "cell_type": "code",
   "execution_count": 5,
   "metadata": {},
   "outputs": [
    {
     "name": "stdout",
     "output_type": "stream",
     "text": [
      "Train Score: 0.9622266201578354\n",
      "Coefs: [array([-0.00358521,  0.00631335, -0.03249857, -0.06909993,  1.08495469]), array([-0.09593351,  0.07383638, -0.092683  , -0.00122904,  1.08358232])]\n",
      "Intercepts: [-0.0065324333446490634, -0.015480685673543382]\n"
     ]
    }
   ],
   "source": [
    "X_multi_train = emp[[str(i) for i in range(2000,2005)]]\n",
    "y_multi_train = emp[[str(i) for i in range(2005,2007)]]\n",
    "multi_lin_reg = MultiOutputRegressor(LinearRegression()).fit(X_multi_train, y_multi_train)\n",
    "print(f\"Train Score: {multi_lin_reg.score(X_multi_train, y_multi_train)}\")\n",
    "print(f\"Coefs: {[model.coef_ for model in multi_lin_reg.estimators_]}\")\n",
    "print(f\"Intercepts: {[model.intercept_ for model in multi_lin_reg.estimators_]}\")"
   ]
  },
  {
   "cell_type": "code",
   "execution_count": 6,
   "metadata": {},
   "outputs": [
    {
     "name": "stdout",
     "output_type": "stream",
     "text": [
      "2001-2007: 0.9583668661767859\n",
      "2002-2008: 0.9592105863437851\n",
      "2003-2009: 0.9625056155390006\n",
      "2004-2010: 0.955076185370053\n",
      "2005-2011: 0.9718512005138064\n",
      "2006-2012: 0.9675843838128689\n",
      "2007-2013: 0.9705652786536129\n",
      "2008-2014: 0.9744353575704434\n",
      "2009-2015: 0.9738805634326302\n",
      "2010-2016: 0.9645282647329406\n",
      "2011-2017: 0.9707431052856679\n",
      "2012-2018: 0.9759055244132244\n",
      "2013-2019: 0.9770235362795174\n"
     ]
    }
   ],
   "source": [
    "for year in range(2001, 2014):\n",
    "\tX_test = emp[[str(i) for i in range(year, year+5)]]\n",
    "\ty_test = emp[[str(i) for i in range(year+5, year+7)]]\n",
    "\tprint(f\"{year}-{year+6}: {multi_lin_reg.score(X_test, y_test)}\")"
   ]
  },
  {
   "cell_type": "code",
   "execution_count": 7,
   "metadata": {},
   "outputs": [
    {
     "name": "stdout",
     "output_type": "stream",
     "text": [
      "Train Score: 0.9187247485059051\n",
      "Coefs: [array([-0.00358521,  0.00631335, -0.03249857, -0.06909993,  1.08495469]), array([-0.09593351,  0.07383638, -0.092683  , -0.00122904,  1.08358232]), array([-0.14375037,  0.05559452, -0.1337282 ,  0.01292094,  1.15594217]), array([-0.35189063,  0.18902615, -0.1420836 ,  0.06066475,  1.16692948]), array([-0.4982495 ,  0.22634241, -0.04111997,  0.05997371,  1.15677744])]\n",
      "Intercepts: [-0.0065324333446490634, -0.015480685673543382, -0.02111630859305036, -0.032810248032773714, -0.05241121627533038]\n"
     ]
    }
   ],
   "source": [
    "X_multi_5_train = emp[[str(i) for i in range(2000,2005)]]\n",
    "y_multi_5_train = emp[[str(i) for i in range(2005,2010)]]\n",
    "multi_5_lin_reg = MultiOutputRegressor(LinearRegression()).fit(X_multi_5_train, y_multi_5_train)\n",
    "print(f\"Train Score: {multi_5_lin_reg.score(X_multi_5_train, y_multi_5_train)}\")\n",
    "print(f\"Coefs: {[model.coef_ for model in multi_5_lin_reg.estimators_]}\")\n",
    "print(f\"Intercepts: {[model.intercept_ for model in multi_5_lin_reg.estimators_]}\")"
   ]
  },
  {
   "cell_type": "code",
   "execution_count": 8,
   "metadata": {},
   "outputs": [
    {
     "name": "stdout",
     "output_type": "stream",
     "text": [
      "2001-2006, 2006-2011: 0.915743877382765\n",
      "2002-2007, 2007-2012: 0.9181996876127361\n",
      "2003-2008, 2008-2013: 0.919896313863588\n",
      "2004-2009, 2009-2014: 0.9137131088097699\n",
      "2005-2010, 2010-2015: 0.9246917990914045\n",
      "2006-2011, 2011-2016: 0.930405760334996\n",
      "2007-2012, 2012-2017: 0.9363903148766713\n",
      "2008-2013, 2013-2018: 0.9355512710273958\n",
      "2009-2014, 2014-2019: 0.9332599173568491\n"
     ]
    }
   ],
   "source": [
    "for year in range(2001, 2010):\n",
    "\tX_test = emp[[str(i) for i in range(year, year+5)]]\n",
    "\ty_test = emp[[str(i) for i in range(year+5, year+10)]]\n",
    "\tprint(f\"{year}-{year+5}, {year+5}-{year+10}: {multi_5_lin_reg.score(X_test, y_test)}\")"
   ]
  },
  {
   "cell_type": "markdown",
   "metadata": {},
   "source": [
    "## WAGE"
   ]
  },
  {
   "cell_type": "code",
   "execution_count": 9,
   "metadata": {},
   "outputs": [
    {
     "data": {
      "text/html": [
       "<div>\n",
       "<style scoped>\n",
       "    .dataframe tbody tr th:only-of-type {\n",
       "        vertical-align: middle;\n",
       "    }\n",
       "\n",
       "    .dataframe tbody tr th {\n",
       "        vertical-align: top;\n",
       "    }\n",
       "\n",
       "    .dataframe thead th {\n",
       "        text-align: right;\n",
       "    }\n",
       "</style>\n",
       "<table border=\"1\" class=\"dataframe\">\n",
       "  <thead>\n",
       "    <tr style=\"text-align: right;\">\n",
       "      <th></th>\n",
       "      <th></th>\n",
       "      <th>2000</th>\n",
       "      <th>2001</th>\n",
       "      <th>2002</th>\n",
       "      <th>2003</th>\n",
       "      <th>2004</th>\n",
       "      <th>2005</th>\n",
       "      <th>2006</th>\n",
       "      <th>2007</th>\n",
       "      <th>2008</th>\n",
       "      <th>2009</th>\n",
       "      <th>2010</th>\n",
       "      <th>2011</th>\n",
       "      <th>2012</th>\n",
       "      <th>2013</th>\n",
       "      <th>2014</th>\n",
       "      <th>2015</th>\n",
       "      <th>2016</th>\n",
       "      <th>2017</th>\n",
       "      <th>2018</th>\n",
       "      <th>2019</th>\n",
       "    </tr>\n",
       "    <tr>\n",
       "      <th>Area Code</th>\n",
       "      <th>Area</th>\n",
       "      <th></th>\n",
       "      <th></th>\n",
       "      <th></th>\n",
       "      <th></th>\n",
       "      <th></th>\n",
       "      <th></th>\n",
       "      <th></th>\n",
       "      <th></th>\n",
       "      <th></th>\n",
       "      <th></th>\n",
       "      <th></th>\n",
       "      <th></th>\n",
       "      <th></th>\n",
       "      <th></th>\n",
       "      <th></th>\n",
       "      <th></th>\n",
       "      <th></th>\n",
       "      <th></th>\n",
       "      <th></th>\n",
       "      <th></th>\n",
       "    </tr>\n",
       "  </thead>\n",
       "  <tbody>\n",
       "    <tr>\n",
       "      <th>1001</th>\n",
       "      <th>Autauga County, Alabama</th>\n",
       "      <td>-0.955754</td>\n",
       "      <td>-0.922848</td>\n",
       "      <td>-1.063700</td>\n",
       "      <td>-1.087978</td>\n",
       "      <td>-1.167992</td>\n",
       "      <td>-1.290513</td>\n",
       "      <td>-1.398712</td>\n",
       "      <td>-1.410092</td>\n",
       "      <td>-1.451064</td>\n",
       "      <td>-1.428557</td>\n",
       "      <td>-1.505755</td>\n",
       "      <td>-1.526089</td>\n",
       "      <td>-1.583589</td>\n",
       "      <td>-1.581990</td>\n",
       "      <td>-1.580603</td>\n",
       "      <td>-1.586829</td>\n",
       "      <td>-1.553616</td>\n",
       "      <td>-1.551824</td>\n",
       "      <td>-1.524567</td>\n",
       "      <td>-1.467292</td>\n",
       "    </tr>\n",
       "    <tr>\n",
       "      <th>1005</th>\n",
       "      <th>Barbour County, Alabama</th>\n",
       "      <td>0.468338</td>\n",
       "      <td>0.340737</td>\n",
       "      <td>0.214751</td>\n",
       "      <td>0.299678</td>\n",
       "      <td>0.263752</td>\n",
       "      <td>0.322802</td>\n",
       "      <td>0.315558</td>\n",
       "      <td>0.261352</td>\n",
       "      <td>0.154401</td>\n",
       "      <td>0.063194</td>\n",
       "      <td>0.091194</td>\n",
       "      <td>0.005483</td>\n",
       "      <td>-0.148420</td>\n",
       "      <td>-0.155173</td>\n",
       "      <td>-0.221025</td>\n",
       "      <td>-0.164863</td>\n",
       "      <td>-0.206091</td>\n",
       "      <td>-0.159594</td>\n",
       "      <td>-0.026287</td>\n",
       "      <td>-0.100472</td>\n",
       "    </tr>\n",
       "    <tr>\n",
       "      <th>1007</th>\n",
       "      <th>Bibb County, Alabama</th>\n",
       "      <td>-1.561458</td>\n",
       "      <td>-1.774444</td>\n",
       "      <td>-1.641082</td>\n",
       "      <td>-1.572618</td>\n",
       "      <td>-1.477433</td>\n",
       "      <td>-1.510590</td>\n",
       "      <td>-1.467290</td>\n",
       "      <td>-1.357615</td>\n",
       "      <td>-1.384148</td>\n",
       "      <td>-1.437528</td>\n",
       "      <td>-1.303453</td>\n",
       "      <td>-1.300236</td>\n",
       "      <td>-1.215845</td>\n",
       "      <td>-1.123112</td>\n",
       "      <td>-1.094996</td>\n",
       "      <td>-1.253816</td>\n",
       "      <td>-1.167558</td>\n",
       "      <td>-1.220496</td>\n",
       "      <td>-1.195490</td>\n",
       "      <td>-0.895008</td>\n",
       "    </tr>\n",
       "    <tr>\n",
       "      <th>1017</th>\n",
       "      <th>Chambers County, Alabama</th>\n",
       "      <td>-0.003751</td>\n",
       "      <td>0.030334</td>\n",
       "      <td>0.067972</td>\n",
       "      <td>0.048969</td>\n",
       "      <td>-0.167264</td>\n",
       "      <td>-0.256888</td>\n",
       "      <td>-0.430594</td>\n",
       "      <td>-0.575867</td>\n",
       "      <td>-1.059504</td>\n",
       "      <td>-1.201791</td>\n",
       "      <td>-1.106227</td>\n",
       "      <td>-0.982883</td>\n",
       "      <td>-0.976048</td>\n",
       "      <td>-0.946950</td>\n",
       "      <td>-0.927859</td>\n",
       "      <td>-0.953010</td>\n",
       "      <td>-0.903428</td>\n",
       "      <td>-0.825092</td>\n",
       "      <td>-0.805957</td>\n",
       "      <td>-0.753313</td>\n",
       "    </tr>\n",
       "    <tr>\n",
       "      <th>1021</th>\n",
       "      <th>Chilton County, Alabama</th>\n",
       "      <td>-1.705441</td>\n",
       "      <td>-1.815621</td>\n",
       "      <td>-1.752756</td>\n",
       "      <td>-1.723509</td>\n",
       "      <td>-1.635797</td>\n",
       "      <td>-1.602991</td>\n",
       "      <td>-1.495672</td>\n",
       "      <td>-1.491028</td>\n",
       "      <td>-1.581866</td>\n",
       "      <td>-1.644171</td>\n",
       "      <td>-1.642340</td>\n",
       "      <td>-1.575753</td>\n",
       "      <td>-1.485488</td>\n",
       "      <td>-1.349559</td>\n",
       "      <td>-1.346726</td>\n",
       "      <td>-1.335569</td>\n",
       "      <td>-1.351564</td>\n",
       "      <td>-1.317702</td>\n",
       "      <td>-1.269422</td>\n",
       "      <td>-1.269846</td>\n",
       "    </tr>\n",
       "    <tr>\n",
       "      <th>...</th>\n",
       "      <th>...</th>\n",
       "      <td>...</td>\n",
       "      <td>...</td>\n",
       "      <td>...</td>\n",
       "      <td>...</td>\n",
       "      <td>...</td>\n",
       "      <td>...</td>\n",
       "      <td>...</td>\n",
       "      <td>...</td>\n",
       "      <td>...</td>\n",
       "      <td>...</td>\n",
       "      <td>...</td>\n",
       "      <td>...</td>\n",
       "      <td>...</td>\n",
       "      <td>...</td>\n",
       "      <td>...</td>\n",
       "      <td>...</td>\n",
       "      <td>...</td>\n",
       "      <td>...</td>\n",
       "      <td>...</td>\n",
       "      <td>...</td>\n",
       "    </tr>\n",
       "    <tr>\n",
       "      <th>56021</th>\n",
       "      <th>Laramie County, Wyoming</th>\n",
       "      <td>0.406692</td>\n",
       "      <td>0.490997</td>\n",
       "      <td>0.671073</td>\n",
       "      <td>0.743687</td>\n",
       "      <td>0.732733</td>\n",
       "      <td>0.787797</td>\n",
       "      <td>0.940901</td>\n",
       "      <td>0.949856</td>\n",
       "      <td>0.986836</td>\n",
       "      <td>1.073940</td>\n",
       "      <td>0.984445</td>\n",
       "      <td>0.997150</td>\n",
       "      <td>0.974861</td>\n",
       "      <td>0.973015</td>\n",
       "      <td>0.952714</td>\n",
       "      <td>0.913831</td>\n",
       "      <td>0.858149</td>\n",
       "      <td>0.831277</td>\n",
       "      <td>0.823783</td>\n",
       "      <td>0.851365</td>\n",
       "    </tr>\n",
       "    <tr>\n",
       "      <th>56025</th>\n",
       "      <th>Natrona County, Wyoming</th>\n",
       "      <td>0.991718</td>\n",
       "      <td>0.882220</td>\n",
       "      <td>0.957268</td>\n",
       "      <td>1.046574</td>\n",
       "      <td>1.218628</td>\n",
       "      <td>1.372961</td>\n",
       "      <td>1.577902</td>\n",
       "      <td>1.636837</td>\n",
       "      <td>1.730672</td>\n",
       "      <td>1.572997</td>\n",
       "      <td>1.608101</td>\n",
       "      <td>1.660413</td>\n",
       "      <td>1.670565</td>\n",
       "      <td>1.582288</td>\n",
       "      <td>1.644661</td>\n",
       "      <td>1.444370</td>\n",
       "      <td>1.075224</td>\n",
       "      <td>1.110857</td>\n",
       "      <td>1.164925</td>\n",
       "      <td>1.183381</td>\n",
       "    </tr>\n",
       "    <tr>\n",
       "      <th>56027</th>\n",
       "      <th>Niobrara County, Wyoming</th>\n",
       "      <td>0.614836</td>\n",
       "      <td>0.799140</td>\n",
       "      <td>0.952720</td>\n",
       "      <td>0.860624</td>\n",
       "      <td>0.722797</td>\n",
       "      <td>0.779315</td>\n",
       "      <td>0.883834</td>\n",
       "      <td>0.951442</td>\n",
       "      <td>0.816790</td>\n",
       "      <td>1.107465</td>\n",
       "      <td>1.067277</td>\n",
       "      <td>1.101476</td>\n",
       "      <td>1.094767</td>\n",
       "      <td>1.186593</td>\n",
       "      <td>1.208757</td>\n",
       "      <td>1.015909</td>\n",
       "      <td>1.046840</td>\n",
       "      <td>1.085781</td>\n",
       "      <td>1.003678</td>\n",
       "      <td>1.016738</td>\n",
       "    </tr>\n",
       "    <tr>\n",
       "      <th>56031</th>\n",
       "      <th>Platte County, Wyoming</th>\n",
       "      <td>1.117313</td>\n",
       "      <td>1.028834</td>\n",
       "      <td>1.157885</td>\n",
       "      <td>1.143806</td>\n",
       "      <td>1.194121</td>\n",
       "      <td>1.172566</td>\n",
       "      <td>1.127096</td>\n",
       "      <td>1.163185</td>\n",
       "      <td>1.163513</td>\n",
       "      <td>1.375376</td>\n",
       "      <td>1.528113</td>\n",
       "      <td>1.489408</td>\n",
       "      <td>1.296799</td>\n",
       "      <td>1.369041</td>\n",
       "      <td>1.377956</td>\n",
       "      <td>1.514975</td>\n",
       "      <td>1.354530</td>\n",
       "      <td>1.452731</td>\n",
       "      <td>1.501794</td>\n",
       "      <td>1.470118</td>\n",
       "    </tr>\n",
       "    <tr>\n",
       "      <th>56033</th>\n",
       "      <th>Sheridan County, Wyoming</th>\n",
       "      <td>0.537166</td>\n",
       "      <td>0.637437</td>\n",
       "      <td>0.826392</td>\n",
       "      <td>0.858758</td>\n",
       "      <td>0.931761</td>\n",
       "      <td>1.018786</td>\n",
       "      <td>1.225810</td>\n",
       "      <td>1.380135</td>\n",
       "      <td>1.447849</td>\n",
       "      <td>1.356694</td>\n",
       "      <td>1.201615</td>\n",
       "      <td>1.098198</td>\n",
       "      <td>1.040974</td>\n",
       "      <td>0.954079</td>\n",
       "      <td>0.955181</td>\n",
       "      <td>0.951835</td>\n",
       "      <td>0.942572</td>\n",
       "      <td>0.852387</td>\n",
       "      <td>0.855503</td>\n",
       "      <td>0.879325</td>\n",
       "    </tr>\n",
       "  </tbody>\n",
       "</table>\n",
       "<p>1204 rows × 20 columns</p>\n",
       "</div>"
      ],
      "text/plain": [
       "                                        2000      2001      2002      2003  \\\n",
       "Area Code Area                                                               \n",
       "1001      Autauga County, Alabama  -0.955754 -0.922848 -1.063700 -1.087978   \n",
       "1005      Barbour County, Alabama   0.468338  0.340737  0.214751  0.299678   \n",
       "1007      Bibb County, Alabama     -1.561458 -1.774444 -1.641082 -1.572618   \n",
       "1017      Chambers County, Alabama -0.003751  0.030334  0.067972  0.048969   \n",
       "1021      Chilton County, Alabama  -1.705441 -1.815621 -1.752756 -1.723509   \n",
       "...                                      ...       ...       ...       ...   \n",
       "56021     Laramie County, Wyoming   0.406692  0.490997  0.671073  0.743687   \n",
       "56025     Natrona County, Wyoming   0.991718  0.882220  0.957268  1.046574   \n",
       "56027     Niobrara County, Wyoming  0.614836  0.799140  0.952720  0.860624   \n",
       "56031     Platte County, Wyoming    1.117313  1.028834  1.157885  1.143806   \n",
       "56033     Sheridan County, Wyoming  0.537166  0.637437  0.826392  0.858758   \n",
       "\n",
       "                                        2004      2005      2006      2007  \\\n",
       "Area Code Area                                                               \n",
       "1001      Autauga County, Alabama  -1.167992 -1.290513 -1.398712 -1.410092   \n",
       "1005      Barbour County, Alabama   0.263752  0.322802  0.315558  0.261352   \n",
       "1007      Bibb County, Alabama     -1.477433 -1.510590 -1.467290 -1.357615   \n",
       "1017      Chambers County, Alabama -0.167264 -0.256888 -0.430594 -0.575867   \n",
       "1021      Chilton County, Alabama  -1.635797 -1.602991 -1.495672 -1.491028   \n",
       "...                                      ...       ...       ...       ...   \n",
       "56021     Laramie County, Wyoming   0.732733  0.787797  0.940901  0.949856   \n",
       "56025     Natrona County, Wyoming   1.218628  1.372961  1.577902  1.636837   \n",
       "56027     Niobrara County, Wyoming  0.722797  0.779315  0.883834  0.951442   \n",
       "56031     Platte County, Wyoming    1.194121  1.172566  1.127096  1.163185   \n",
       "56033     Sheridan County, Wyoming  0.931761  1.018786  1.225810  1.380135   \n",
       "\n",
       "                                        2008      2009      2010      2011  \\\n",
       "Area Code Area                                                               \n",
       "1001      Autauga County, Alabama  -1.451064 -1.428557 -1.505755 -1.526089   \n",
       "1005      Barbour County, Alabama   0.154401  0.063194  0.091194  0.005483   \n",
       "1007      Bibb County, Alabama     -1.384148 -1.437528 -1.303453 -1.300236   \n",
       "1017      Chambers County, Alabama -1.059504 -1.201791 -1.106227 -0.982883   \n",
       "1021      Chilton County, Alabama  -1.581866 -1.644171 -1.642340 -1.575753   \n",
       "...                                      ...       ...       ...       ...   \n",
       "56021     Laramie County, Wyoming   0.986836  1.073940  0.984445  0.997150   \n",
       "56025     Natrona County, Wyoming   1.730672  1.572997  1.608101  1.660413   \n",
       "56027     Niobrara County, Wyoming  0.816790  1.107465  1.067277  1.101476   \n",
       "56031     Platte County, Wyoming    1.163513  1.375376  1.528113  1.489408   \n",
       "56033     Sheridan County, Wyoming  1.447849  1.356694  1.201615  1.098198   \n",
       "\n",
       "                                        2012      2013      2014      2015  \\\n",
       "Area Code Area                                                               \n",
       "1001      Autauga County, Alabama  -1.583589 -1.581990 -1.580603 -1.586829   \n",
       "1005      Barbour County, Alabama  -0.148420 -0.155173 -0.221025 -0.164863   \n",
       "1007      Bibb County, Alabama     -1.215845 -1.123112 -1.094996 -1.253816   \n",
       "1017      Chambers County, Alabama -0.976048 -0.946950 -0.927859 -0.953010   \n",
       "1021      Chilton County, Alabama  -1.485488 -1.349559 -1.346726 -1.335569   \n",
       "...                                      ...       ...       ...       ...   \n",
       "56021     Laramie County, Wyoming   0.974861  0.973015  0.952714  0.913831   \n",
       "56025     Natrona County, Wyoming   1.670565  1.582288  1.644661  1.444370   \n",
       "56027     Niobrara County, Wyoming  1.094767  1.186593  1.208757  1.015909   \n",
       "56031     Platte County, Wyoming    1.296799  1.369041  1.377956  1.514975   \n",
       "56033     Sheridan County, Wyoming  1.040974  0.954079  0.955181  0.951835   \n",
       "\n",
       "                                        2016      2017      2018      2019  \n",
       "Area Code Area                                                              \n",
       "1001      Autauga County, Alabama  -1.553616 -1.551824 -1.524567 -1.467292  \n",
       "1005      Barbour County, Alabama  -0.206091 -0.159594 -0.026287 -0.100472  \n",
       "1007      Bibb County, Alabama     -1.167558 -1.220496 -1.195490 -0.895008  \n",
       "1017      Chambers County, Alabama -0.903428 -0.825092 -0.805957 -0.753313  \n",
       "1021      Chilton County, Alabama  -1.351564 -1.317702 -1.269422 -1.269846  \n",
       "...                                      ...       ...       ...       ...  \n",
       "56021     Laramie County, Wyoming   0.858149  0.831277  0.823783  0.851365  \n",
       "56025     Natrona County, Wyoming   1.075224  1.110857  1.164925  1.183381  \n",
       "56027     Niobrara County, Wyoming  1.046840  1.085781  1.003678  1.016738  \n",
       "56031     Platte County, Wyoming    1.354530  1.452731  1.501794  1.470118  \n",
       "56033     Sheridan County, Wyoming  0.942572  0.852387  0.855503  0.879325  \n",
       "\n",
       "[1204 rows x 20 columns]"
      ]
     },
     "execution_count": 9,
     "metadata": {},
     "output_type": "execute_result"
    }
   ],
   "source": [
    "wage = pd.read_csv(\"../data/processed/Unstable/wage.csv\", index_col=[0,1])\n",
    "wage"
   ]
  },
  {
   "cell_type": "code",
   "execution_count": 10,
   "metadata": {},
   "outputs": [
    {
     "name": "stdout",
     "output_type": "stream",
     "text": [
      "Train Score: 0.9746023531506285\n",
      "Coefs: [-0.01627989  0.02883811 -0.0828928  -0.06149505  1.11739477]\n",
      "Intercept: 0.004628031938030561\n"
     ]
    }
   ],
   "source": [
    "X_train = wage[[str(i) for i in range(2000,2005)]]\n",
    "y_train = wage[\"2005\"]\n",
    "lin_reg = LinearRegression().fit(X_train, y_train)\n",
    "print(f\"Train Score: {lin_reg.score(X_train, y_train)}\")\n",
    "print(f\"Coefs: {lin_reg.coef_}\")\n",
    "print(f\"Intercept: {lin_reg.intercept_}\")"
   ]
  },
  {
   "cell_type": "code",
   "execution_count": 11,
   "metadata": {},
   "outputs": [
    {
     "name": "stdout",
     "output_type": "stream",
     "text": [
      "2001-2006: 0.9647693357922483\n",
      "2002-2007: 0.9706067435494149\n",
      "2003-2008: 0.9648871491958017\n",
      "2004-2009: 0.9551233570774736\n",
      "2005-2010: 0.9711802667605686\n",
      "2006-2011: 0.9754389136065913\n",
      "2007-2012: 0.9778009133970887\n",
      "2008-2013: 0.9738446222764967\n",
      "2009-2014: 0.9837002952471066\n",
      "2010-2015: 0.9760642065789351\n",
      "2011-2016: 0.9704588162779282\n",
      "2012-2017: 0.9825249813727023\n",
      "2013-2018: 0.9814783269929676\n",
      "2014-2019: 0.9853979792078622\n"
     ]
    }
   ],
   "source": [
    "for year in range(2001, 2015):\n",
    "\tX_test = wage[[str(i) for i in range(year, year+5)]]\n",
    "\ty_test = wage[str(year+5)]\n",
    "\tprint(f\"{year}-{year+5}: {lin_reg.score(X_test, y_test)}\")"
   ]
  },
  {
   "cell_type": "code",
   "execution_count": 12,
   "metadata": {},
   "outputs": [
    {
     "name": "stdout",
     "output_type": "stream",
     "text": [
      "Train Score: 0.9548423509952779\n",
      "Coefs: [array([-0.01627989,  0.02883811, -0.0828928 , -0.06149505,  1.11739477]), array([-0.18778857,  0.20232781, -0.20469031,  0.06355825,  1.08726105])]\n",
      "Intercepts: [0.004628031938030561, 0.015115009453679482]\n"
     ]
    }
   ],
   "source": [
    "X_multi_train = wage[[str(i) for i in range(2000,2005)]]\n",
    "y_multi_train = wage[[str(i) for i in range(2005,2007)]]\n",
    "multi_lin_reg = MultiOutputRegressor(LinearRegression()).fit(X_multi_train, y_multi_train)\n",
    "print(f\"Train Score: {multi_lin_reg.score(X_multi_train, y_multi_train)}\")\n",
    "print(f\"Coefs: {[model.coef_ for model in multi_lin_reg.estimators_]}\")\n",
    "print(f\"Intercepts: {[model.intercept_ for model in multi_lin_reg.estimators_]}\")"
   ]
  },
  {
   "cell_type": "code",
   "execution_count": 13,
   "metadata": {},
   "outputs": [
    {
     "name": "stdout",
     "output_type": "stream",
     "text": [
      "2001-2007: 0.9484230084454166\n",
      "2002-2008: 0.943948330178886\n",
      "2003-2009: 0.943944628455007\n",
      "2004-2010: 0.9425648980636303\n",
      "2005-2011: 0.9521010810279031\n",
      "2006-2012: 0.9557302940365648\n",
      "2007-2013: 0.961036752949693\n",
      "2008-2014: 0.9647902978767753\n",
      "2009-2015: 0.9695460606658242\n",
      "2010-2016: 0.9510676040703572\n",
      "2011-2017: 0.9653741260572395\n",
      "2012-2018: 0.9675807013708626\n",
      "2013-2019: 0.9726366987319208\n"
     ]
    }
   ],
   "source": [
    "for year in range(2001, 2014):\n",
    "\tX_test = wage[[str(i) for i in range(year, year+5)]]\n",
    "\ty_test = wage[[str(i) for i in range(year+5, year+7)]]\n",
    "\tprint(f\"{year}-{year+6}: {multi_lin_reg.score(X_test, y_test)}\")"
   ]
  },
  {
   "cell_type": "code",
   "execution_count": 14,
   "metadata": {},
   "outputs": [
    {
     "name": "stdout",
     "output_type": "stream",
     "text": [
      "Train Score: 0.8933104184871603\n",
      "Coefs: [array([-0.01627989,  0.02883811, -0.0828928 , -0.06149505,  1.11739477]), array([-0.18778857,  0.20232781, -0.20469031,  0.06355825,  1.08726105]), array([-0.2748635 ,  0.23877669, -0.20709104, -0.0105228 ,  1.19106411]), array([-0.52247195,  0.43097811, -0.28255924,  0.05965864,  1.21094795]), array([-0.63459083,  0.34026839, -0.14566188,  0.15632832,  1.14871145])]\n",
      "Intercepts: [0.004628031938030561, 0.015115009453679482, 0.02121971989446729, 0.028546873289087435, 0.014407205472007092]\n"
     ]
    }
   ],
   "source": [
    "X_multi_5_train = wage[[str(i) for i in range(2000,2005)]]\n",
    "y_multi_5_train = wage[[str(i) for i in range(2005,2010)]]\n",
    "multi_5_lin_reg = MultiOutputRegressor(LinearRegression()).fit(X_multi_5_train, y_multi_5_train)\n",
    "print(f\"Train Score: {multi_5_lin_reg.score(X_multi_5_train, y_multi_5_train)}\")\n",
    "print(f\"Coefs: {[model.coef_ for model in multi_5_lin_reg.estimators_]}\")\n",
    "print(f\"Intercepts: {[model.intercept_ for model in multi_5_lin_reg.estimators_]}\")"
   ]
  },
  {
   "cell_type": "code",
   "execution_count": 15,
   "metadata": {},
   "outputs": [
    {
     "name": "stdout",
     "output_type": "stream",
     "text": [
      "2001-2005, 2006-2010: 0.8862228484952752\n",
      "2002-2006, 2007-2011: 0.8904688012676993\n",
      "2003-2007, 2008-2012: 0.9019544648539355\n",
      "2004-2008, 2009-2013: 0.8938310544025418\n",
      "2005-2009, 2010-2014: 0.8898066218571117\n",
      "2006-2010, 2011-2015: 0.906755425673726\n",
      "2007-2011, 2012-2016: 0.9148695673040089\n",
      "2008-2012, 2013-2017: 0.9175299514350066\n",
      "2009-2013, 2014-2018: 0.921418719541568\n",
      "2010-2014, 2015-2019: 0.9146768355334135\n"
     ]
    }
   ],
   "source": [
    "for year in range(2001, 2011):\n",
    "\tX_test = wage[[str(i) for i in range(year, year+5)]]\n",
    "\ty_test = wage[[str(i) for i in range(year+5, year+10)]]\n",
    "\tprint(f\"{year}-{year+4}, {year+5}-{year+9}: {multi_5_lin_reg.score(X_test, y_test)}\")"
   ]
  },
  {
   "cell_type": "markdown",
   "metadata": {},
   "source": [
    "## ESTAB"
   ]
  },
  {
   "cell_type": "code",
   "execution_count": 16,
   "metadata": {},
   "outputs": [
    {
     "data": {
      "text/html": [
       "<div>\n",
       "<style scoped>\n",
       "    .dataframe tbody tr th:only-of-type {\n",
       "        vertical-align: middle;\n",
       "    }\n",
       "\n",
       "    .dataframe tbody tr th {\n",
       "        vertical-align: top;\n",
       "    }\n",
       "\n",
       "    .dataframe thead th {\n",
       "        text-align: right;\n",
       "    }\n",
       "</style>\n",
       "<table border=\"1\" class=\"dataframe\">\n",
       "  <thead>\n",
       "    <tr style=\"text-align: right;\">\n",
       "      <th></th>\n",
       "      <th></th>\n",
       "      <th>2000</th>\n",
       "      <th>2001</th>\n",
       "      <th>2002</th>\n",
       "      <th>2003</th>\n",
       "      <th>2004</th>\n",
       "      <th>2005</th>\n",
       "      <th>2006</th>\n",
       "      <th>2007</th>\n",
       "      <th>2008</th>\n",
       "      <th>2009</th>\n",
       "      <th>2010</th>\n",
       "      <th>2011</th>\n",
       "      <th>2012</th>\n",
       "      <th>2013</th>\n",
       "      <th>2014</th>\n",
       "      <th>2015</th>\n",
       "      <th>2016</th>\n",
       "      <th>2017</th>\n",
       "      <th>2018</th>\n",
       "      <th>2019</th>\n",
       "    </tr>\n",
       "    <tr>\n",
       "      <th>Area Code</th>\n",
       "      <th>Area</th>\n",
       "      <th></th>\n",
       "      <th></th>\n",
       "      <th></th>\n",
       "      <th></th>\n",
       "      <th></th>\n",
       "      <th></th>\n",
       "      <th></th>\n",
       "      <th></th>\n",
       "      <th></th>\n",
       "      <th></th>\n",
       "      <th></th>\n",
       "      <th></th>\n",
       "      <th></th>\n",
       "      <th></th>\n",
       "      <th></th>\n",
       "      <th></th>\n",
       "      <th></th>\n",
       "      <th></th>\n",
       "      <th></th>\n",
       "      <th></th>\n",
       "    </tr>\n",
       "  </thead>\n",
       "  <tbody>\n",
       "    <tr>\n",
       "      <th>1001</th>\n",
       "      <th>Autauga County, Alabama</th>\n",
       "      <td>-0.897420</td>\n",
       "      <td>-0.945031</td>\n",
       "      <td>-1.016636</td>\n",
       "      <td>-1.134364</td>\n",
       "      <td>-1.154319</td>\n",
       "      <td>-1.078529</td>\n",
       "      <td>-1.227047</td>\n",
       "      <td>-1.263515</td>\n",
       "      <td>-1.256926</td>\n",
       "      <td>-1.285256</td>\n",
       "      <td>-1.285490</td>\n",
       "      <td>-1.334473</td>\n",
       "      <td>-1.390846</td>\n",
       "      <td>-1.427358</td>\n",
       "      <td>-1.465702</td>\n",
       "      <td>-1.403439</td>\n",
       "      <td>-1.383765</td>\n",
       "      <td>-1.329593</td>\n",
       "      <td>-1.352392</td>\n",
       "      <td>-1.355087</td>\n",
       "    </tr>\n",
       "    <tr>\n",
       "      <th>1009</th>\n",
       "      <th>Blount County, Alabama</th>\n",
       "      <td>-1.370566</td>\n",
       "      <td>-1.492710</td>\n",
       "      <td>-1.674200</td>\n",
       "      <td>-1.755758</td>\n",
       "      <td>-1.691365</td>\n",
       "      <td>-1.579026</td>\n",
       "      <td>-1.647609</td>\n",
       "      <td>-1.715907</td>\n",
       "      <td>-1.736649</td>\n",
       "      <td>-1.804301</td>\n",
       "      <td>-1.869951</td>\n",
       "      <td>-1.903667</td>\n",
       "      <td>-1.940925</td>\n",
       "      <td>-1.979482</td>\n",
       "      <td>-2.003894</td>\n",
       "      <td>-1.943702</td>\n",
       "      <td>-1.870874</td>\n",
       "      <td>-1.787143</td>\n",
       "      <td>-1.776697</td>\n",
       "      <td>-1.800335</td>\n",
       "    </tr>\n",
       "    <tr>\n",
       "      <th>1019</th>\n",
       "      <th>Cherokee County, Alabama</th>\n",
       "      <td>-1.243710</td>\n",
       "      <td>-1.194276</td>\n",
       "      <td>-1.278712</td>\n",
       "      <td>-1.370148</td>\n",
       "      <td>-1.366230</td>\n",
       "      <td>-1.366544</td>\n",
       "      <td>-1.507150</td>\n",
       "      <td>-1.401909</td>\n",
       "      <td>-1.394494</td>\n",
       "      <td>-1.594237</td>\n",
       "      <td>-1.552763</td>\n",
       "      <td>-1.487472</td>\n",
       "      <td>-1.477574</td>\n",
       "      <td>-1.514157</td>\n",
       "      <td>-1.451745</td>\n",
       "      <td>-1.438992</td>\n",
       "      <td>-1.488498</td>\n",
       "      <td>-1.494457</td>\n",
       "      <td>-1.425596</td>\n",
       "      <td>-1.515630</td>\n",
       "    </tr>\n",
       "    <tr>\n",
       "      <th>1025</th>\n",
       "      <th>Clarke County, Alabama</th>\n",
       "      <td>0.389515</td>\n",
       "      <td>0.254954</td>\n",
       "      <td>0.244144</td>\n",
       "      <td>0.226732</td>\n",
       "      <td>0.234658</td>\n",
       "      <td>0.253363</td>\n",
       "      <td>0.195287</td>\n",
       "      <td>0.244023</td>\n",
       "      <td>0.265710</td>\n",
       "      <td>0.177726</td>\n",
       "      <td>0.226199</td>\n",
       "      <td>0.223650</td>\n",
       "      <td>0.191109</td>\n",
       "      <td>0.074380</td>\n",
       "      <td>0.128315</td>\n",
       "      <td>0.054425</td>\n",
       "      <td>0.092419</td>\n",
       "      <td>0.100534</td>\n",
       "      <td>0.091361</td>\n",
       "      <td>0.136397</td>\n",
       "    </tr>\n",
       "    <tr>\n",
       "      <th>1027</th>\n",
       "      <th>Clay County, Alabama</th>\n",
       "      <td>-1.056969</td>\n",
       "      <td>-1.170761</td>\n",
       "      <td>-1.286569</td>\n",
       "      <td>-1.356547</td>\n",
       "      <td>-1.424200</td>\n",
       "      <td>-1.387447</td>\n",
       "      <td>-1.417958</td>\n",
       "      <td>-1.318700</td>\n",
       "      <td>-1.318882</td>\n",
       "      <td>-1.344706</td>\n",
       "      <td>-1.421837</td>\n",
       "      <td>-1.412059</td>\n",
       "      <td>-1.428604</td>\n",
       "      <td>-1.487006</td>\n",
       "      <td>-1.590497</td>\n",
       "      <td>-1.630659</td>\n",
       "      <td>-1.591377</td>\n",
       "      <td>-1.585158</td>\n",
       "      <td>-1.503814</td>\n",
       "      <td>-1.482014</td>\n",
       "    </tr>\n",
       "    <tr>\n",
       "      <th>...</th>\n",
       "      <th>...</th>\n",
       "      <td>...</td>\n",
       "      <td>...</td>\n",
       "      <td>...</td>\n",
       "      <td>...</td>\n",
       "      <td>...</td>\n",
       "      <td>...</td>\n",
       "      <td>...</td>\n",
       "      <td>...</td>\n",
       "      <td>...</td>\n",
       "      <td>...</td>\n",
       "      <td>...</td>\n",
       "      <td>...</td>\n",
       "      <td>...</td>\n",
       "      <td>...</td>\n",
       "      <td>...</td>\n",
       "      <td>...</td>\n",
       "      <td>...</td>\n",
       "      <td>...</td>\n",
       "      <td>...</td>\n",
       "      <td>...</td>\n",
       "    </tr>\n",
       "    <tr>\n",
       "      <th>55125</th>\n",
       "      <th>Vilas County, Wisconsin</th>\n",
       "      <td>2.164698</td>\n",
       "      <td>2.187640</td>\n",
       "      <td>2.178533</td>\n",
       "      <td>2.209910</td>\n",
       "      <td>2.152078</td>\n",
       "      <td>2.121793</td>\n",
       "      <td>2.009225</td>\n",
       "      <td>1.934911</td>\n",
       "      <td>1.885100</td>\n",
       "      <td>1.817137</td>\n",
       "      <td>1.749210</td>\n",
       "      <td>1.767609</td>\n",
       "      <td>1.669503</td>\n",
       "      <td>1.616147</td>\n",
       "      <td>1.500038</td>\n",
       "      <td>1.545289</td>\n",
       "      <td>1.502995</td>\n",
       "      <td>1.472274</td>\n",
       "      <td>1.488634</td>\n",
       "      <td>1.485741</td>\n",
       "    </tr>\n",
       "    <tr>\n",
       "      <th>55133</th>\n",
       "      <th>Waukesha County, Wisconsin</th>\n",
       "      <td>1.410862</td>\n",
       "      <td>1.443453</td>\n",
       "      <td>1.438258</td>\n",
       "      <td>1.479486</td>\n",
       "      <td>1.435956</td>\n",
       "      <td>1.422190</td>\n",
       "      <td>1.335568</td>\n",
       "      <td>1.306365</td>\n",
       "      <td>1.269147</td>\n",
       "      <td>1.222017</td>\n",
       "      <td>1.192130</td>\n",
       "      <td>1.205581</td>\n",
       "      <td>1.186877</td>\n",
       "      <td>1.158140</td>\n",
       "      <td>1.066434</td>\n",
       "      <td>1.123200</td>\n",
       "      <td>1.112750</td>\n",
       "      <td>1.124616</td>\n",
       "      <td>1.173988</td>\n",
       "      <td>1.172990</td>\n",
       "    </tr>\n",
       "    <tr>\n",
       "      <th>55137</th>\n",
       "      <th>Waushara County, Wisconsin</th>\n",
       "      <td>0.072388</td>\n",
       "      <td>0.157218</td>\n",
       "      <td>-0.033920</td>\n",
       "      <td>-0.018147</td>\n",
       "      <td>-0.076789</td>\n",
       "      <td>-0.175695</td>\n",
       "      <td>-0.301792</td>\n",
       "      <td>-0.391862</td>\n",
       "      <td>-0.430844</td>\n",
       "      <td>-0.525557</td>\n",
       "      <td>-0.550334</td>\n",
       "      <td>-0.528919</td>\n",
       "      <td>-0.568887</td>\n",
       "      <td>-0.520708</td>\n",
       "      <td>-0.602944</td>\n",
       "      <td>-0.621737</td>\n",
       "      <td>-0.650799</td>\n",
       "      <td>-0.631833</td>\n",
       "      <td>-0.542860</td>\n",
       "      <td>-0.677997</td>\n",
       "    </tr>\n",
       "    <tr>\n",
       "      <th>56027</th>\n",
       "      <th>Niobrara County, Wyoming</th>\n",
       "      <td>2.186979</td>\n",
       "      <td>2.188497</td>\n",
       "      <td>2.224104</td>\n",
       "      <td>2.193620</td>\n",
       "      <td>2.009937</td>\n",
       "      <td>1.906893</td>\n",
       "      <td>1.888814</td>\n",
       "      <td>1.823671</td>\n",
       "      <td>1.805021</td>\n",
       "      <td>1.841003</td>\n",
       "      <td>1.749179</td>\n",
       "      <td>1.826723</td>\n",
       "      <td>1.901075</td>\n",
       "      <td>1.761991</td>\n",
       "      <td>1.729990</td>\n",
       "      <td>1.688306</td>\n",
       "      <td>1.685307</td>\n",
       "      <td>1.709576</td>\n",
       "      <td>1.725914</td>\n",
       "      <td>1.794638</td>\n",
       "    </tr>\n",
       "    <tr>\n",
       "      <th>56035</th>\n",
       "      <th>Sublette County, Wyoming</th>\n",
       "      <td>2.804633</td>\n",
       "      <td>2.837126</td>\n",
       "      <td>2.692743</td>\n",
       "      <td>2.782489</td>\n",
       "      <td>2.749797</td>\n",
       "      <td>2.736664</td>\n",
       "      <td>2.860424</td>\n",
       "      <td>2.825297</td>\n",
       "      <td>2.694819</td>\n",
       "      <td>2.494005</td>\n",
       "      <td>2.411676</td>\n",
       "      <td>2.385528</td>\n",
       "      <td>2.261880</td>\n",
       "      <td>2.195186</td>\n",
       "      <td>2.033638</td>\n",
       "      <td>2.001319</td>\n",
       "      <td>1.852469</td>\n",
       "      <td>1.950513</td>\n",
       "      <td>1.904434</td>\n",
       "      <td>1.972059</td>\n",
       "    </tr>\n",
       "  </tbody>\n",
       "</table>\n",
       "<p>1088 rows × 20 columns</p>\n",
       "</div>"
      ],
      "text/plain": [
       "                                          2000      2001      2002      2003  \\\n",
       "Area Code Area                                                                 \n",
       "1001      Autauga County, Alabama    -0.897420 -0.945031 -1.016636 -1.134364   \n",
       "1009      Blount County, Alabama     -1.370566 -1.492710 -1.674200 -1.755758   \n",
       "1019      Cherokee County, Alabama   -1.243710 -1.194276 -1.278712 -1.370148   \n",
       "1025      Clarke County, Alabama      0.389515  0.254954  0.244144  0.226732   \n",
       "1027      Clay County, Alabama       -1.056969 -1.170761 -1.286569 -1.356547   \n",
       "...                                        ...       ...       ...       ...   \n",
       "55125     Vilas County, Wisconsin     2.164698  2.187640  2.178533  2.209910   \n",
       "55133     Waukesha County, Wisconsin  1.410862  1.443453  1.438258  1.479486   \n",
       "55137     Waushara County, Wisconsin  0.072388  0.157218 -0.033920 -0.018147   \n",
       "56027     Niobrara County, Wyoming    2.186979  2.188497  2.224104  2.193620   \n",
       "56035     Sublette County, Wyoming    2.804633  2.837126  2.692743  2.782489   \n",
       "\n",
       "                                          2004      2005      2006      2007  \\\n",
       "Area Code Area                                                                 \n",
       "1001      Autauga County, Alabama    -1.154319 -1.078529 -1.227047 -1.263515   \n",
       "1009      Blount County, Alabama     -1.691365 -1.579026 -1.647609 -1.715907   \n",
       "1019      Cherokee County, Alabama   -1.366230 -1.366544 -1.507150 -1.401909   \n",
       "1025      Clarke County, Alabama      0.234658  0.253363  0.195287  0.244023   \n",
       "1027      Clay County, Alabama       -1.424200 -1.387447 -1.417958 -1.318700   \n",
       "...                                        ...       ...       ...       ...   \n",
       "55125     Vilas County, Wisconsin     2.152078  2.121793  2.009225  1.934911   \n",
       "55133     Waukesha County, Wisconsin  1.435956  1.422190  1.335568  1.306365   \n",
       "55137     Waushara County, Wisconsin -0.076789 -0.175695 -0.301792 -0.391862   \n",
       "56027     Niobrara County, Wyoming    2.009937  1.906893  1.888814  1.823671   \n",
       "56035     Sublette County, Wyoming    2.749797  2.736664  2.860424  2.825297   \n",
       "\n",
       "                                          2008      2009      2010      2011  \\\n",
       "Area Code Area                                                                 \n",
       "1001      Autauga County, Alabama    -1.256926 -1.285256 -1.285490 -1.334473   \n",
       "1009      Blount County, Alabama     -1.736649 -1.804301 -1.869951 -1.903667   \n",
       "1019      Cherokee County, Alabama   -1.394494 -1.594237 -1.552763 -1.487472   \n",
       "1025      Clarke County, Alabama      0.265710  0.177726  0.226199  0.223650   \n",
       "1027      Clay County, Alabama       -1.318882 -1.344706 -1.421837 -1.412059   \n",
       "...                                        ...       ...       ...       ...   \n",
       "55125     Vilas County, Wisconsin     1.885100  1.817137  1.749210  1.767609   \n",
       "55133     Waukesha County, Wisconsin  1.269147  1.222017  1.192130  1.205581   \n",
       "55137     Waushara County, Wisconsin -0.430844 -0.525557 -0.550334 -0.528919   \n",
       "56027     Niobrara County, Wyoming    1.805021  1.841003  1.749179  1.826723   \n",
       "56035     Sublette County, Wyoming    2.694819  2.494005  2.411676  2.385528   \n",
       "\n",
       "                                          2012      2013      2014      2015  \\\n",
       "Area Code Area                                                                 \n",
       "1001      Autauga County, Alabama    -1.390846 -1.427358 -1.465702 -1.403439   \n",
       "1009      Blount County, Alabama     -1.940925 -1.979482 -2.003894 -1.943702   \n",
       "1019      Cherokee County, Alabama   -1.477574 -1.514157 -1.451745 -1.438992   \n",
       "1025      Clarke County, Alabama      0.191109  0.074380  0.128315  0.054425   \n",
       "1027      Clay County, Alabama       -1.428604 -1.487006 -1.590497 -1.630659   \n",
       "...                                        ...       ...       ...       ...   \n",
       "55125     Vilas County, Wisconsin     1.669503  1.616147  1.500038  1.545289   \n",
       "55133     Waukesha County, Wisconsin  1.186877  1.158140  1.066434  1.123200   \n",
       "55137     Waushara County, Wisconsin -0.568887 -0.520708 -0.602944 -0.621737   \n",
       "56027     Niobrara County, Wyoming    1.901075  1.761991  1.729990  1.688306   \n",
       "56035     Sublette County, Wyoming    2.261880  2.195186  2.033638  2.001319   \n",
       "\n",
       "                                          2016      2017      2018      2019  \n",
       "Area Code Area                                                                \n",
       "1001      Autauga County, Alabama    -1.383765 -1.329593 -1.352392 -1.355087  \n",
       "1009      Blount County, Alabama     -1.870874 -1.787143 -1.776697 -1.800335  \n",
       "1019      Cherokee County, Alabama   -1.488498 -1.494457 -1.425596 -1.515630  \n",
       "1025      Clarke County, Alabama      0.092419  0.100534  0.091361  0.136397  \n",
       "1027      Clay County, Alabama       -1.591377 -1.585158 -1.503814 -1.482014  \n",
       "...                                        ...       ...       ...       ...  \n",
       "55125     Vilas County, Wisconsin     1.502995  1.472274  1.488634  1.485741  \n",
       "55133     Waukesha County, Wisconsin  1.112750  1.124616  1.173988  1.172990  \n",
       "55137     Waushara County, Wisconsin -0.650799 -0.631833 -0.542860 -0.677997  \n",
       "56027     Niobrara County, Wyoming    1.685307  1.709576  1.725914  1.794638  \n",
       "56035     Sublette County, Wyoming    1.852469  1.950513  1.904434  1.972059  \n",
       "\n",
       "[1088 rows x 20 columns]"
      ]
     },
     "execution_count": 16,
     "metadata": {},
     "output_type": "execute_result"
    }
   ],
   "source": [
    "estab = pd.read_csv(\"../data/processed/Unstable/estab.csv\", index_col=[0,1])\n",
    "estab"
   ]
  },
  {
   "cell_type": "code",
   "execution_count": 17,
   "metadata": {},
   "outputs": [
    {
     "name": "stdout",
     "output_type": "stream",
     "text": [
      "Train Score: 0.9906089118266415\n",
      "Coefs: [ 0.01523046 -0.08260725  0.01301342 -0.18068295  1.2219791 ]\n",
      "Intercept: -0.0020312797303120396\n"
     ]
    }
   ],
   "source": [
    "X_train = estab[[str(i) for i in range(2000,2005)]]\n",
    "y_train = estab[\"2005\"]\n",
    "lin_reg = LinearRegression().fit(X_train, y_train)\n",
    "print(f\"Train Score: {lin_reg.score(X_train, y_train)}\")\n",
    "print(f\"Coefs: {lin_reg.coef_}\")\n",
    "print(f\"Intercept: {lin_reg.intercept_}\")"
   ]
  },
  {
   "cell_type": "code",
   "execution_count": 18,
   "metadata": {},
   "outputs": [
    {
     "name": "stdout",
     "output_type": "stream",
     "text": [
      "2001-2006: 0.9646451469794459\n",
      "2002-2007: 0.9699981252196869\n",
      "2003-2008: 0.965787870145811\n",
      "2004-2009: 0.9526349937855969\n",
      "2005-2010: 0.9693924747601289\n",
      "2006-2011: 0.9760788303787672\n",
      "2007-2012: 0.9779567078264059\n",
      "2008-2013: 0.9736312638842255\n",
      "2009-2014: 0.9826410284301981\n",
      "2010-2015: 0.9754831181773895\n",
      "2011-2016: 0.9711486904580394\n",
      "2012-2017: 0.9808447481481812\n",
      "2013-2018: 0.9810965241255756\n",
      "2014-2019: 0.9850765239805517\n"
     ]
    }
   ],
   "source": [
    "for year in range(2001, 2015):\n",
    "\tX_test = wage[[str(i) for i in range(year, year+5)]]\n",
    "\ty_test = wage[str(year+5)]\n",
    "\tprint(f\"{year}-{year+5}: {lin_reg.score(X_test, y_test)}\")"
   ]
  },
  {
   "cell_type": "code",
   "execution_count": 19,
   "metadata": {},
   "outputs": [
    {
     "name": "stdout",
     "output_type": "stream",
     "text": [
      "Train Score: 0.9793668277500478\n",
      "Coefs: [array([ 0.01523046, -0.08260725,  0.01301342, -0.18068295,  1.2219791 ]), array([ 0.06257463, -0.16328093,  0.01377259, -0.20958348,  1.27290184])]\n",
      "Intercepts: [-0.0020312797303120396, -0.007467871089011079]\n"
     ]
    }
   ],
   "source": [
    "X_multi_train = estab[[str(i) for i in range(2000,2005)]]\n",
    "y_multi_train = estab[[str(i) for i in range(2005,2007)]]\n",
    "multi_lin_reg = MultiOutputRegressor(LinearRegression()).fit(X_multi_train, y_multi_train)\n",
    "print(f\"Train Score: {multi_lin_reg.score(X_multi_train, y_multi_train)}\")\n",
    "print(f\"Coefs: {[model.coef_ for model in multi_lin_reg.estimators_]}\")\n",
    "print(f\"Intercepts: {[model.intercept_ for model in multi_lin_reg.estimators_]}\")"
   ]
  },
  {
   "cell_type": "code",
   "execution_count": 20,
   "metadata": {},
   "outputs": [
    {
     "name": "stdout",
     "output_type": "stream",
     "text": [
      "2001-2007: 0.9787100146763985\n",
      "2002-2008: 0.9704540140360747\n",
      "2003-2009: 0.9842666639687112\n",
      "2004-2010: 0.9859596577398686\n",
      "2005-2011: 0.9863573040200473\n",
      "2006-2012: 0.981547498206318\n",
      "2007-2013: 0.9815618131425915\n",
      "2008-2014: 0.9878043061254336\n",
      "2009-2015: 0.9852458487972997\n",
      "2010-2016: 0.9808819872909853\n",
      "2011-2017: 0.9808349049065175\n",
      "2012-2018: 0.9829013599444372\n",
      "2013-2019: 0.9888690721195144\n"
     ]
    }
   ],
   "source": [
    "for year in range(2001, 2014):\n",
    "\tX_test = estab[[str(i) for i in range(year, year+5)]]\n",
    "\ty_test = estab[[str(i) for i in range(year+5, year+7)]]\n",
    "\tprint(f\"{year}-{year+6}: {multi_lin_reg.score(X_test, y_test)}\")"
   ]
  },
  {
   "cell_type": "code",
   "execution_count": 21,
   "metadata": {},
   "outputs": [
    {
     "name": "stdout",
     "output_type": "stream",
     "text": [
      "Train Score: 0.9650152112401369\n",
      "Coefs: [array([ 0.01523046, -0.08260725,  0.01301342, -0.18068295,  1.2219791 ]), array([ 0.06257463, -0.16328093,  0.01377259, -0.20958348,  1.27290184]), array([-0.06135972,  0.06260394, -0.39659721, -0.05894374,  1.42880723]), array([-0.14238174,  0.08985306, -0.44046246, -0.0720479 ,  1.52897061]), array([-0.24525408,  0.15960345, -0.47569522, -0.07324953,  1.58905727])]\n",
      "Intercepts: [-0.0020312797303120396, -0.007467871089011079, -0.009285046604032152, -0.0034714707605652973, -0.0013939207798265452]\n"
     ]
    }
   ],
   "source": [
    "X_multi_5_train = estab[[str(i) for i in range(2000,2005)]]\n",
    "y_multi_5_train = estab[[str(i) for i in range(2005,2010)]]\n",
    "multi_5_lin_reg = MultiOutputRegressor(LinearRegression()).fit(X_multi_5_train, y_multi_5_train)\n",
    "print(f\"Train Score: {multi_5_lin_reg.score(X_multi_5_train, y_multi_5_train)}\")\n",
    "print(f\"Coefs: {[model.coef_ for model in multi_5_lin_reg.estimators_]}\")\n",
    "print(f\"Intercepts: {[model.intercept_ for model in multi_5_lin_reg.estimators_]}\")"
   ]
  },
  {
   "cell_type": "code",
   "execution_count": 22,
   "metadata": {},
   "outputs": [
    {
     "name": "stdout",
     "output_type": "stream",
     "text": [
      "2001-2005, 2006-2010: 0.9597567305704893\n",
      "2002-2006, 2007-2011: 0.9362811698215092\n",
      "2003-2007, 2008-2012: 0.9582549394724849\n",
      "2004-2008, 2009-2013: 0.96098494089802\n",
      "2005-2009, 2010-2014: 0.9597598105366238\n",
      "2006-2010, 2011-2015: 0.9627853537533173\n",
      "2007-2011, 2012-2016: 0.9625954130640622\n",
      "2008-2012, 2013-2017: 0.9602944587414541\n",
      "2009-2013, 2014-2018: 0.9530933854178916\n",
      "2010-2014, 2015-2019: 0.9565142289384105\n"
     ]
    }
   ],
   "source": [
    "for year in range(2001, 2011):\n",
    "\tX_test = estab[[str(i) for i in range(year, year+5)]]\n",
    "\ty_test = estab[[str(i) for i in range(year+5, year+10)]]\n",
    "\tprint(f\"{year}-{year+4}, {year+5}-{year+9}: {multi_5_lin_reg.score(X_test, y_test)}\")"
   ]
  },
  {
   "cell_type": "markdown",
   "metadata": {},
   "source": [
    "# DIFF "
   ]
  },
  {
   "cell_type": "markdown",
   "metadata": {},
   "source": [
    "## EMP"
   ]
  },
  {
   "cell_type": "code",
   "execution_count": 23,
   "metadata": {},
   "outputs": [
    {
     "data": {
      "text/html": [
       "<div>\n",
       "<style scoped>\n",
       "    .dataframe tbody tr th:only-of-type {\n",
       "        vertical-align: middle;\n",
       "    }\n",
       "\n",
       "    .dataframe tbody tr th {\n",
       "        vertical-align: top;\n",
       "    }\n",
       "\n",
       "    .dataframe thead th {\n",
       "        text-align: right;\n",
       "    }\n",
       "</style>\n",
       "<table border=\"1\" class=\"dataframe\">\n",
       "  <thead>\n",
       "    <tr style=\"text-align: right;\">\n",
       "      <th></th>\n",
       "      <th></th>\n",
       "      <th>2000</th>\n",
       "      <th>2001</th>\n",
       "      <th>2002</th>\n",
       "      <th>2003</th>\n",
       "      <th>2004</th>\n",
       "      <th>2005</th>\n",
       "      <th>2006</th>\n",
       "      <th>2007</th>\n",
       "      <th>2008</th>\n",
       "      <th>2009</th>\n",
       "      <th>2010</th>\n",
       "      <th>2011</th>\n",
       "      <th>2012</th>\n",
       "      <th>2013</th>\n",
       "      <th>2014</th>\n",
       "      <th>2015</th>\n",
       "      <th>2016</th>\n",
       "      <th>2017</th>\n",
       "      <th>2018</th>\n",
       "      <th>2019</th>\n",
       "    </tr>\n",
       "    <tr>\n",
       "      <th>Area Code</th>\n",
       "      <th>Area</th>\n",
       "      <th></th>\n",
       "      <th></th>\n",
       "      <th></th>\n",
       "      <th></th>\n",
       "      <th></th>\n",
       "      <th></th>\n",
       "      <th></th>\n",
       "      <th></th>\n",
       "      <th></th>\n",
       "      <th></th>\n",
       "      <th></th>\n",
       "      <th></th>\n",
       "      <th></th>\n",
       "      <th></th>\n",
       "      <th></th>\n",
       "      <th></th>\n",
       "      <th></th>\n",
       "      <th></th>\n",
       "      <th></th>\n",
       "      <th></th>\n",
       "    </tr>\n",
       "  </thead>\n",
       "  <tbody>\n",
       "    <tr>\n",
       "      <th>1001</th>\n",
       "      <th>Autauga County, Alabama</th>\n",
       "      <td>NaN</td>\n",
       "      <td>-0.032036</td>\n",
       "      <td>-0.058547</td>\n",
       "      <td>-0.029438</td>\n",
       "      <td>-0.076499</td>\n",
       "      <td>-0.112329</td>\n",
       "      <td>-0.098795</td>\n",
       "      <td>-0.023937</td>\n",
       "      <td>-0.000402</td>\n",
       "      <td>-0.027150</td>\n",
       "      <td>-0.063977</td>\n",
       "      <td>-0.095861</td>\n",
       "      <td>-0.069372</td>\n",
       "      <td>0.027515</td>\n",
       "      <td>0.025339</td>\n",
       "      <td>0.001366</td>\n",
       "      <td>0.003814</td>\n",
       "      <td>0.017103</td>\n",
       "      <td>0.016174</td>\n",
       "      <td>NaN</td>\n",
       "    </tr>\n",
       "    <tr>\n",
       "      <th>1005</th>\n",
       "      <th>Barbour County, Alabama</th>\n",
       "      <td>NaN</td>\n",
       "      <td>-0.061158</td>\n",
       "      <td>-0.016124</td>\n",
       "      <td>-0.034927</td>\n",
       "      <td>-0.003060</td>\n",
       "      <td>0.048076</td>\n",
       "      <td>-0.064882</td>\n",
       "      <td>-0.108184</td>\n",
       "      <td>-0.110931</td>\n",
       "      <td>-0.036678</td>\n",
       "      <td>-0.046225</td>\n",
       "      <td>-0.168623</td>\n",
       "      <td>-0.114039</td>\n",
       "      <td>-0.063998</td>\n",
       "      <td>-0.023673</td>\n",
       "      <td>0.004610</td>\n",
       "      <td>0.031753</td>\n",
       "      <td>0.082279</td>\n",
       "      <td>0.057828</td>\n",
       "      <td>NaN</td>\n",
       "    </tr>\n",
       "    <tr>\n",
       "      <th>1009</th>\n",
       "      <th>Blount County, Alabama</th>\n",
       "      <td>NaN</td>\n",
       "      <td>-0.147244</td>\n",
       "      <td>-0.191716</td>\n",
       "      <td>-0.095291</td>\n",
       "      <td>-0.013689</td>\n",
       "      <td>0.035699</td>\n",
       "      <td>0.083317</td>\n",
       "      <td>0.100233</td>\n",
       "      <td>0.007690</td>\n",
       "      <td>-0.047198</td>\n",
       "      <td>-0.062528</td>\n",
       "      <td>-0.021125</td>\n",
       "      <td>-0.009059</td>\n",
       "      <td>-0.065266</td>\n",
       "      <td>-0.048056</td>\n",
       "      <td>0.000902</td>\n",
       "      <td>0.024632</td>\n",
       "      <td>0.060560</td>\n",
       "      <td>0.063274</td>\n",
       "      <td>NaN</td>\n",
       "    </tr>\n",
       "    <tr>\n",
       "      <th>1017</th>\n",
       "      <th>Chambers County, Alabama</th>\n",
       "      <td>NaN</td>\n",
       "      <td>0.004460</td>\n",
       "      <td>-0.040229</td>\n",
       "      <td>-0.092308</td>\n",
       "      <td>-0.061998</td>\n",
       "      <td>-0.118772</td>\n",
       "      <td>-0.157973</td>\n",
       "      <td>-0.323070</td>\n",
       "      <td>-0.373982</td>\n",
       "      <td>-0.012287</td>\n",
       "      <td>0.169174</td>\n",
       "      <td>0.087036</td>\n",
       "      <td>0.010547</td>\n",
       "      <td>0.019823</td>\n",
       "      <td>-0.029919</td>\n",
       "      <td>-0.030877</td>\n",
       "      <td>0.056211</td>\n",
       "      <td>0.052660</td>\n",
       "      <td>0.040427</td>\n",
       "      <td>NaN</td>\n",
       "    </tr>\n",
       "    <tr>\n",
       "      <th>1027</th>\n",
       "      <th>Clay County, Alabama</th>\n",
       "      <td>NaN</td>\n",
       "      <td>-0.109987</td>\n",
       "      <td>-0.153775</td>\n",
       "      <td>-0.103586</td>\n",
       "      <td>0.049591</td>\n",
       "      <td>0.132796</td>\n",
       "      <td>0.023855</td>\n",
       "      <td>-0.237066</td>\n",
       "      <td>-0.297587</td>\n",
       "      <td>-0.132829</td>\n",
       "      <td>-0.034016</td>\n",
       "      <td>-0.044043</td>\n",
       "      <td>-0.021417</td>\n",
       "      <td>0.063873</td>\n",
       "      <td>0.108986</td>\n",
       "      <td>0.076637</td>\n",
       "      <td>0.109055</td>\n",
       "      <td>0.132627</td>\n",
       "      <td>0.069401</td>\n",
       "      <td>NaN</td>\n",
       "    </tr>\n",
       "    <tr>\n",
       "      <th>...</th>\n",
       "      <th>...</th>\n",
       "      <td>...</td>\n",
       "      <td>...</td>\n",
       "      <td>...</td>\n",
       "      <td>...</td>\n",
       "      <td>...</td>\n",
       "      <td>...</td>\n",
       "      <td>...</td>\n",
       "      <td>...</td>\n",
       "      <td>...</td>\n",
       "      <td>...</td>\n",
       "      <td>...</td>\n",
       "      <td>...</td>\n",
       "      <td>...</td>\n",
       "      <td>...</td>\n",
       "      <td>...</td>\n",
       "      <td>...</td>\n",
       "      <td>...</td>\n",
       "      <td>...</td>\n",
       "      <td>...</td>\n",
       "      <td>...</td>\n",
       "    </tr>\n",
       "    <tr>\n",
       "      <th>55119</th>\n",
       "      <th>Taylor County, Wisconsin</th>\n",
       "      <td>NaN</td>\n",
       "      <td>0.016690</td>\n",
       "      <td>0.052591</td>\n",
       "      <td>0.008310</td>\n",
       "      <td>-0.085985</td>\n",
       "      <td>-0.109893</td>\n",
       "      <td>-0.123329</td>\n",
       "      <td>-0.097631</td>\n",
       "      <td>-0.065880</td>\n",
       "      <td>0.011723</td>\n",
       "      <td>0.046334</td>\n",
       "      <td>0.015209</td>\n",
       "      <td>0.014067</td>\n",
       "      <td>-0.076624</td>\n",
       "      <td>-0.048302</td>\n",
       "      <td>0.062147</td>\n",
       "      <td>0.038678</td>\n",
       "      <td>-0.019088</td>\n",
       "      <td>-0.019151</td>\n",
       "      <td>NaN</td>\n",
       "    </tr>\n",
       "    <tr>\n",
       "      <th>56001</th>\n",
       "      <th>Albany County, Wyoming</th>\n",
       "      <td>NaN</td>\n",
       "      <td>0.033883</td>\n",
       "      <td>0.056672</td>\n",
       "      <td>0.184453</td>\n",
       "      <td>-0.012836</td>\n",
       "      <td>-0.215266</td>\n",
       "      <td>-0.026067</td>\n",
       "      <td>0.010827</td>\n",
       "      <td>0.017297</td>\n",
       "      <td>-0.046669</td>\n",
       "      <td>-0.085062</td>\n",
       "      <td>-0.056451</td>\n",
       "      <td>-0.054175</td>\n",
       "      <td>-0.027766</td>\n",
       "      <td>-0.017105</td>\n",
       "      <td>0.007454</td>\n",
       "      <td>-0.049777</td>\n",
       "      <td>-0.073506</td>\n",
       "      <td>-0.016410</td>\n",
       "      <td>NaN</td>\n",
       "    </tr>\n",
       "    <tr>\n",
       "      <th>56009</th>\n",
       "      <th>Converse County, Wyoming</th>\n",
       "      <td>NaN</td>\n",
       "      <td>-0.067740</td>\n",
       "      <td>0.010239</td>\n",
       "      <td>0.089387</td>\n",
       "      <td>0.031466</td>\n",
       "      <td>-0.002686</td>\n",
       "      <td>-0.007011</td>\n",
       "      <td>0.098384</td>\n",
       "      <td>0.086356</td>\n",
       "      <td>0.036247</td>\n",
       "      <td>0.052887</td>\n",
       "      <td>0.062717</td>\n",
       "      <td>0.046152</td>\n",
       "      <td>0.100784</td>\n",
       "      <td>0.076347</td>\n",
       "      <td>-0.162043</td>\n",
       "      <td>-0.149299</td>\n",
       "      <td>0.079777</td>\n",
       "      <td>0.383286</td>\n",
       "      <td>NaN</td>\n",
       "    </tr>\n",
       "    <tr>\n",
       "      <th>56023</th>\n",
       "      <th>Lincoln County, Wyoming</th>\n",
       "      <td>NaN</td>\n",
       "      <td>0.076259</td>\n",
       "      <td>0.214697</td>\n",
       "      <td>0.107762</td>\n",
       "      <td>-0.179941</td>\n",
       "      <td>-0.020961</td>\n",
       "      <td>0.194932</td>\n",
       "      <td>-0.045171</td>\n",
       "      <td>-0.263507</td>\n",
       "      <td>-0.130104</td>\n",
       "      <td>-0.036455</td>\n",
       "      <td>-0.105320</td>\n",
       "      <td>-0.174247</td>\n",
       "      <td>-0.062566</td>\n",
       "      <td>0.022267</td>\n",
       "      <td>0.043169</td>\n",
       "      <td>0.022481</td>\n",
       "      <td>0.004963</td>\n",
       "      <td>-0.000334</td>\n",
       "      <td>NaN</td>\n",
       "    </tr>\n",
       "    <tr>\n",
       "      <th>56035</th>\n",
       "      <th>Sublette County, Wyoming</th>\n",
       "      <td>NaN</td>\n",
       "      <td>0.147374</td>\n",
       "      <td>0.068066</td>\n",
       "      <td>0.120388</td>\n",
       "      <td>0.191402</td>\n",
       "      <td>0.264796</td>\n",
       "      <td>0.273488</td>\n",
       "      <td>0.093248</td>\n",
       "      <td>-0.102816</td>\n",
       "      <td>-0.080575</td>\n",
       "      <td>0.076524</td>\n",
       "      <td>-0.092088</td>\n",
       "      <td>-0.278053</td>\n",
       "      <td>-0.168664</td>\n",
       "      <td>-0.187411</td>\n",
       "      <td>-0.307483</td>\n",
       "      <td>-0.088753</td>\n",
       "      <td>0.092297</td>\n",
       "      <td>-0.064017</td>\n",
       "      <td>NaN</td>\n",
       "    </tr>\n",
       "  </tbody>\n",
       "</table>\n",
       "<p>1136 rows × 20 columns</p>\n",
       "</div>"
      ],
      "text/plain": [
       "                                    2000      2001      2002      2003  \\\n",
       "Area Code Area                                                           \n",
       "1001      Autauga County, Alabama    NaN -0.032036 -0.058547 -0.029438   \n",
       "1005      Barbour County, Alabama    NaN -0.061158 -0.016124 -0.034927   \n",
       "1009      Blount County, Alabama     NaN -0.147244 -0.191716 -0.095291   \n",
       "1017      Chambers County, Alabama   NaN  0.004460 -0.040229 -0.092308   \n",
       "1027      Clay County, Alabama       NaN -0.109987 -0.153775 -0.103586   \n",
       "...                                  ...       ...       ...       ...   \n",
       "55119     Taylor County, Wisconsin   NaN  0.016690  0.052591  0.008310   \n",
       "56001     Albany County, Wyoming     NaN  0.033883  0.056672  0.184453   \n",
       "56009     Converse County, Wyoming   NaN -0.067740  0.010239  0.089387   \n",
       "56023     Lincoln County, Wyoming    NaN  0.076259  0.214697  0.107762   \n",
       "56035     Sublette County, Wyoming   NaN  0.147374  0.068066  0.120388   \n",
       "\n",
       "                                        2004      2005      2006      2007  \\\n",
       "Area Code Area                                                               \n",
       "1001      Autauga County, Alabama  -0.076499 -0.112329 -0.098795 -0.023937   \n",
       "1005      Barbour County, Alabama  -0.003060  0.048076 -0.064882 -0.108184   \n",
       "1009      Blount County, Alabama   -0.013689  0.035699  0.083317  0.100233   \n",
       "1017      Chambers County, Alabama -0.061998 -0.118772 -0.157973 -0.323070   \n",
       "1027      Clay County, Alabama      0.049591  0.132796  0.023855 -0.237066   \n",
       "...                                      ...       ...       ...       ...   \n",
       "55119     Taylor County, Wisconsin -0.085985 -0.109893 -0.123329 -0.097631   \n",
       "56001     Albany County, Wyoming   -0.012836 -0.215266 -0.026067  0.010827   \n",
       "56009     Converse County, Wyoming  0.031466 -0.002686 -0.007011  0.098384   \n",
       "56023     Lincoln County, Wyoming  -0.179941 -0.020961  0.194932 -0.045171   \n",
       "56035     Sublette County, Wyoming  0.191402  0.264796  0.273488  0.093248   \n",
       "\n",
       "                                        2008      2009      2010      2011  \\\n",
       "Area Code Area                                                               \n",
       "1001      Autauga County, Alabama  -0.000402 -0.027150 -0.063977 -0.095861   \n",
       "1005      Barbour County, Alabama  -0.110931 -0.036678 -0.046225 -0.168623   \n",
       "1009      Blount County, Alabama    0.007690 -0.047198 -0.062528 -0.021125   \n",
       "1017      Chambers County, Alabama -0.373982 -0.012287  0.169174  0.087036   \n",
       "1027      Clay County, Alabama     -0.297587 -0.132829 -0.034016 -0.044043   \n",
       "...                                      ...       ...       ...       ...   \n",
       "55119     Taylor County, Wisconsin -0.065880  0.011723  0.046334  0.015209   \n",
       "56001     Albany County, Wyoming    0.017297 -0.046669 -0.085062 -0.056451   \n",
       "56009     Converse County, Wyoming  0.086356  0.036247  0.052887  0.062717   \n",
       "56023     Lincoln County, Wyoming  -0.263507 -0.130104 -0.036455 -0.105320   \n",
       "56035     Sublette County, Wyoming -0.102816 -0.080575  0.076524 -0.092088   \n",
       "\n",
       "                                        2012      2013      2014      2015  \\\n",
       "Area Code Area                                                               \n",
       "1001      Autauga County, Alabama  -0.069372  0.027515  0.025339  0.001366   \n",
       "1005      Barbour County, Alabama  -0.114039 -0.063998 -0.023673  0.004610   \n",
       "1009      Blount County, Alabama   -0.009059 -0.065266 -0.048056  0.000902   \n",
       "1017      Chambers County, Alabama  0.010547  0.019823 -0.029919 -0.030877   \n",
       "1027      Clay County, Alabama     -0.021417  0.063873  0.108986  0.076637   \n",
       "...                                      ...       ...       ...       ...   \n",
       "55119     Taylor County, Wisconsin  0.014067 -0.076624 -0.048302  0.062147   \n",
       "56001     Albany County, Wyoming   -0.054175 -0.027766 -0.017105  0.007454   \n",
       "56009     Converse County, Wyoming  0.046152  0.100784  0.076347 -0.162043   \n",
       "56023     Lincoln County, Wyoming  -0.174247 -0.062566  0.022267  0.043169   \n",
       "56035     Sublette County, Wyoming -0.278053 -0.168664 -0.187411 -0.307483   \n",
       "\n",
       "                                        2016      2017      2018  2019  \n",
       "Area Code Area                                                          \n",
       "1001      Autauga County, Alabama   0.003814  0.017103  0.016174   NaN  \n",
       "1005      Barbour County, Alabama   0.031753  0.082279  0.057828   NaN  \n",
       "1009      Blount County, Alabama    0.024632  0.060560  0.063274   NaN  \n",
       "1017      Chambers County, Alabama  0.056211  0.052660  0.040427   NaN  \n",
       "1027      Clay County, Alabama      0.109055  0.132627  0.069401   NaN  \n",
       "...                                      ...       ...       ...   ...  \n",
       "55119     Taylor County, Wisconsin  0.038678 -0.019088 -0.019151   NaN  \n",
       "56001     Albany County, Wyoming   -0.049777 -0.073506 -0.016410   NaN  \n",
       "56009     Converse County, Wyoming -0.149299  0.079777  0.383286   NaN  \n",
       "56023     Lincoln County, Wyoming   0.022481  0.004963 -0.000334   NaN  \n",
       "56035     Sublette County, Wyoming -0.088753  0.092297 -0.064017   NaN  \n",
       "\n",
       "[1136 rows x 20 columns]"
      ]
     },
     "execution_count": 23,
     "metadata": {},
     "output_type": "execute_result"
    }
   ],
   "source": [
    "emp_diff = emp.diff(axis=1, periods=2).shift(periods=-1, axis=1) / 2\n",
    "emp_diffdiff = emp_diff.diff(axis=1, periods=2).shift(periods=-1, axis=1) / 2\n",
    "emp_diff"
   ]
  },
  {
   "cell_type": "code",
   "execution_count": 24,
   "metadata": {},
   "outputs": [
    {
     "data": {
      "text/html": [
       "<div>\n",
       "<style scoped>\n",
       "    .dataframe tbody tr th:only-of-type {\n",
       "        vertical-align: middle;\n",
       "    }\n",
       "\n",
       "    .dataframe tbody tr th {\n",
       "        vertical-align: top;\n",
       "    }\n",
       "\n",
       "    .dataframe thead th {\n",
       "        text-align: right;\n",
       "    }\n",
       "</style>\n",
       "<table border=\"1\" class=\"dataframe\">\n",
       "  <thead>\n",
       "    <tr style=\"text-align: right;\">\n",
       "      <th></th>\n",
       "      <th></th>\n",
       "      <th>2000</th>\n",
       "      <th>2001</th>\n",
       "      <th>2002</th>\n",
       "      <th>2003</th>\n",
       "      <th>2004</th>\n",
       "      <th>2005</th>\n",
       "      <th>2006</th>\n",
       "      <th>2007</th>\n",
       "      <th>2008</th>\n",
       "      <th>2009</th>\n",
       "      <th>2010</th>\n",
       "      <th>2011</th>\n",
       "      <th>2012</th>\n",
       "      <th>2013</th>\n",
       "      <th>2014</th>\n",
       "      <th>2015</th>\n",
       "      <th>2016</th>\n",
       "      <th>2017</th>\n",
       "      <th>2018</th>\n",
       "      <th>2019</th>\n",
       "    </tr>\n",
       "    <tr>\n",
       "      <th>Area Code</th>\n",
       "      <th>Area</th>\n",
       "      <th></th>\n",
       "      <th></th>\n",
       "      <th></th>\n",
       "      <th></th>\n",
       "      <th></th>\n",
       "      <th></th>\n",
       "      <th></th>\n",
       "      <th></th>\n",
       "      <th></th>\n",
       "      <th></th>\n",
       "      <th></th>\n",
       "      <th></th>\n",
       "      <th></th>\n",
       "      <th></th>\n",
       "      <th></th>\n",
       "      <th></th>\n",
       "      <th></th>\n",
       "      <th></th>\n",
       "      <th></th>\n",
       "      <th></th>\n",
       "    </tr>\n",
       "  </thead>\n",
       "  <tbody>\n",
       "    <tr>\n",
       "      <th>1001</th>\n",
       "      <th>Autauga County, Alabama</th>\n",
       "      <td>NaN</td>\n",
       "      <td>NaN</td>\n",
       "      <td>0.001299</td>\n",
       "      <td>-0.008976</td>\n",
       "      <td>-0.041446</td>\n",
       "      <td>-0.011148</td>\n",
       "      <td>0.044196</td>\n",
       "      <td>0.049197</td>\n",
       "      <td>-0.001606</td>\n",
       "      <td>-0.031788</td>\n",
       "      <td>-0.034355</td>\n",
       "      <td>-0.002697</td>\n",
       "      <td>0.061688</td>\n",
       "      <td>0.047355</td>\n",
       "      <td>-0.013075</td>\n",
       "      <td>-0.010762</td>\n",
       "      <td>0.007869</td>\n",
       "      <td>0.006180</td>\n",
       "      <td>NaN</td>\n",
       "      <td>NaN</td>\n",
       "    </tr>\n",
       "    <tr>\n",
       "      <th>1005</th>\n",
       "      <th>Barbour County, Alabama</th>\n",
       "      <td>NaN</td>\n",
       "      <td>NaN</td>\n",
       "      <td>0.013116</td>\n",
       "      <td>0.006532</td>\n",
       "      <td>0.041501</td>\n",
       "      <td>-0.030911</td>\n",
       "      <td>-0.078130</td>\n",
       "      <td>-0.023024</td>\n",
       "      <td>0.035753</td>\n",
       "      <td>0.032353</td>\n",
       "      <td>-0.065973</td>\n",
       "      <td>-0.033907</td>\n",
       "      <td>0.052312</td>\n",
       "      <td>0.045183</td>\n",
       "      <td>0.034304</td>\n",
       "      <td>0.027713</td>\n",
       "      <td>0.038834</td>\n",
       "      <td>0.013038</td>\n",
       "      <td>NaN</td>\n",
       "      <td>NaN</td>\n",
       "    </tr>\n",
       "    <tr>\n",
       "      <th>1009</th>\n",
       "      <th>Blount County, Alabama</th>\n",
       "      <td>NaN</td>\n",
       "      <td>NaN</td>\n",
       "      <td>0.025977</td>\n",
       "      <td>0.089014</td>\n",
       "      <td>0.065495</td>\n",
       "      <td>0.048503</td>\n",
       "      <td>0.032267</td>\n",
       "      <td>-0.037813</td>\n",
       "      <td>-0.073715</td>\n",
       "      <td>-0.035109</td>\n",
       "      <td>0.013036</td>\n",
       "      <td>0.026734</td>\n",
       "      <td>-0.022070</td>\n",
       "      <td>-0.019498</td>\n",
       "      <td>0.033084</td>\n",
       "      <td>0.036344</td>\n",
       "      <td>0.029829</td>\n",
       "      <td>0.019321</td>\n",
       "      <td>NaN</td>\n",
       "      <td>NaN</td>\n",
       "    </tr>\n",
       "    <tr>\n",
       "      <th>1017</th>\n",
       "      <th>Chambers County, Alabama</th>\n",
       "      <td>NaN</td>\n",
       "      <td>NaN</td>\n",
       "      <td>-0.048384</td>\n",
       "      <td>-0.010885</td>\n",
       "      <td>-0.013232</td>\n",
       "      <td>-0.047987</td>\n",
       "      <td>-0.102149</td>\n",
       "      <td>-0.108005</td>\n",
       "      <td>0.155391</td>\n",
       "      <td>0.271578</td>\n",
       "      <td>0.049661</td>\n",
       "      <td>-0.079314</td>\n",
       "      <td>-0.033606</td>\n",
       "      <td>-0.020233</td>\n",
       "      <td>-0.025350</td>\n",
       "      <td>0.043065</td>\n",
       "      <td>0.041768</td>\n",
       "      <td>-0.007892</td>\n",
       "      <td>NaN</td>\n",
       "      <td>NaN</td>\n",
       "    </tr>\n",
       "    <tr>\n",
       "      <th>1027</th>\n",
       "      <th>Clay County, Alabama</th>\n",
       "      <td>NaN</td>\n",
       "      <td>NaN</td>\n",
       "      <td>0.003201</td>\n",
       "      <td>0.101683</td>\n",
       "      <td>0.118191</td>\n",
       "      <td>-0.012868</td>\n",
       "      <td>-0.184931</td>\n",
       "      <td>-0.160721</td>\n",
       "      <td>0.052118</td>\n",
       "      <td>0.131785</td>\n",
       "      <td>0.044393</td>\n",
       "      <td>0.006300</td>\n",
       "      <td>0.053958</td>\n",
       "      <td>0.065202</td>\n",
       "      <td>0.006382</td>\n",
       "      <td>0.000034</td>\n",
       "      <td>0.027995</td>\n",
       "      <td>-0.019827</td>\n",
       "      <td>NaN</td>\n",
       "      <td>NaN</td>\n",
       "    </tr>\n",
       "    <tr>\n",
       "      <th>...</th>\n",
       "      <th>...</th>\n",
       "      <td>...</td>\n",
       "      <td>...</td>\n",
       "      <td>...</td>\n",
       "      <td>...</td>\n",
       "      <td>...</td>\n",
       "      <td>...</td>\n",
       "      <td>...</td>\n",
       "      <td>...</td>\n",
       "      <td>...</td>\n",
       "      <td>...</td>\n",
       "      <td>...</td>\n",
       "      <td>...</td>\n",
       "      <td>...</td>\n",
       "      <td>...</td>\n",
       "      <td>...</td>\n",
       "      <td>...</td>\n",
       "      <td>...</td>\n",
       "      <td>...</td>\n",
       "      <td>...</td>\n",
       "      <td>...</td>\n",
       "    </tr>\n",
       "    <tr>\n",
       "      <th>55119</th>\n",
       "      <th>Taylor County, Wisconsin</th>\n",
       "      <td>NaN</td>\n",
       "      <td>NaN</td>\n",
       "      <td>-0.004190</td>\n",
       "      <td>-0.069288</td>\n",
       "      <td>-0.059102</td>\n",
       "      <td>-0.018672</td>\n",
       "      <td>0.006131</td>\n",
       "      <td>0.028725</td>\n",
       "      <td>0.054677</td>\n",
       "      <td>0.056107</td>\n",
       "      <td>0.001743</td>\n",
       "      <td>-0.016134</td>\n",
       "      <td>-0.045916</td>\n",
       "      <td>-0.031184</td>\n",
       "      <td>0.069386</td>\n",
       "      <td>0.043490</td>\n",
       "      <td>-0.040618</td>\n",
       "      <td>-0.028915</td>\n",
       "      <td>NaN</td>\n",
       "      <td>NaN</td>\n",
       "    </tr>\n",
       "    <tr>\n",
       "      <th>56001</th>\n",
       "      <th>Albany County, Wyoming</th>\n",
       "      <td>NaN</td>\n",
       "      <td>NaN</td>\n",
       "      <td>0.075285</td>\n",
       "      <td>-0.034754</td>\n",
       "      <td>-0.199860</td>\n",
       "      <td>-0.006615</td>\n",
       "      <td>0.113047</td>\n",
       "      <td>0.021682</td>\n",
       "      <td>-0.028748</td>\n",
       "      <td>-0.051179</td>\n",
       "      <td>-0.004891</td>\n",
       "      <td>0.015443</td>\n",
       "      <td>0.014343</td>\n",
       "      <td>0.018535</td>\n",
       "      <td>0.017610</td>\n",
       "      <td>-0.016336</td>\n",
       "      <td>-0.040480</td>\n",
       "      <td>0.016684</td>\n",
       "      <td>NaN</td>\n",
       "      <td>NaN</td>\n",
       "    </tr>\n",
       "    <tr>\n",
       "      <th>56009</th>\n",
       "      <th>Converse County, Wyoming</th>\n",
       "      <td>NaN</td>\n",
       "      <td>NaN</td>\n",
       "      <td>0.078563</td>\n",
       "      <td>0.010613</td>\n",
       "      <td>-0.046037</td>\n",
       "      <td>-0.019238</td>\n",
       "      <td>0.050535</td>\n",
       "      <td>0.046683</td>\n",
       "      <td>-0.031069</td>\n",
       "      <td>-0.016735</td>\n",
       "      <td>0.013235</td>\n",
       "      <td>-0.003367</td>\n",
       "      <td>0.019034</td>\n",
       "      <td>0.015097</td>\n",
       "      <td>-0.131414</td>\n",
       "      <td>-0.112823</td>\n",
       "      <td>0.120910</td>\n",
       "      <td>0.266293</td>\n",
       "      <td>NaN</td>\n",
       "      <td>NaN</td>\n",
       "    </tr>\n",
       "    <tr>\n",
       "      <th>56023</th>\n",
       "      <th>Lincoln County, Wyoming</th>\n",
       "      <td>NaN</td>\n",
       "      <td>NaN</td>\n",
       "      <td>0.015751</td>\n",
       "      <td>-0.197319</td>\n",
       "      <td>-0.064361</td>\n",
       "      <td>0.187436</td>\n",
       "      <td>-0.012105</td>\n",
       "      <td>-0.229219</td>\n",
       "      <td>-0.042467</td>\n",
       "      <td>0.113526</td>\n",
       "      <td>0.012392</td>\n",
       "      <td>-0.068896</td>\n",
       "      <td>0.021377</td>\n",
       "      <td>0.098257</td>\n",
       "      <td>0.052867</td>\n",
       "      <td>0.000107</td>\n",
       "      <td>-0.019103</td>\n",
       "      <td>-0.011408</td>\n",
       "      <td>NaN</td>\n",
       "      <td>NaN</td>\n",
       "    </tr>\n",
       "    <tr>\n",
       "      <th>56035</th>\n",
       "      <th>Sublette County, Wyoming</th>\n",
       "      <td>NaN</td>\n",
       "      <td>NaN</td>\n",
       "      <td>-0.013493</td>\n",
       "      <td>0.061668</td>\n",
       "      <td>0.072204</td>\n",
       "      <td>0.041043</td>\n",
       "      <td>-0.085774</td>\n",
       "      <td>-0.188152</td>\n",
       "      <td>-0.086911</td>\n",
       "      <td>0.089670</td>\n",
       "      <td>-0.005757</td>\n",
       "      <td>-0.177289</td>\n",
       "      <td>-0.038288</td>\n",
       "      <td>0.045321</td>\n",
       "      <td>-0.069410</td>\n",
       "      <td>0.049329</td>\n",
       "      <td>0.199890</td>\n",
       "      <td>0.012368</td>\n",
       "      <td>NaN</td>\n",
       "      <td>NaN</td>\n",
       "    </tr>\n",
       "  </tbody>\n",
       "</table>\n",
       "<p>1136 rows × 20 columns</p>\n",
       "</div>"
      ],
      "text/plain": [
       "                                    2000  2001      2002      2003      2004  \\\n",
       "Area Code Area                                                                 \n",
       "1001      Autauga County, Alabama    NaN   NaN  0.001299 -0.008976 -0.041446   \n",
       "1005      Barbour County, Alabama    NaN   NaN  0.013116  0.006532  0.041501   \n",
       "1009      Blount County, Alabama     NaN   NaN  0.025977  0.089014  0.065495   \n",
       "1017      Chambers County, Alabama   NaN   NaN -0.048384 -0.010885 -0.013232   \n",
       "1027      Clay County, Alabama       NaN   NaN  0.003201  0.101683  0.118191   \n",
       "...                                  ...   ...       ...       ...       ...   \n",
       "55119     Taylor County, Wisconsin   NaN   NaN -0.004190 -0.069288 -0.059102   \n",
       "56001     Albany County, Wyoming     NaN   NaN  0.075285 -0.034754 -0.199860   \n",
       "56009     Converse County, Wyoming   NaN   NaN  0.078563  0.010613 -0.046037   \n",
       "56023     Lincoln County, Wyoming    NaN   NaN  0.015751 -0.197319 -0.064361   \n",
       "56035     Sublette County, Wyoming   NaN   NaN -0.013493  0.061668  0.072204   \n",
       "\n",
       "                                        2005      2006      2007      2008  \\\n",
       "Area Code Area                                                               \n",
       "1001      Autauga County, Alabama  -0.011148  0.044196  0.049197 -0.001606   \n",
       "1005      Barbour County, Alabama  -0.030911 -0.078130 -0.023024  0.035753   \n",
       "1009      Blount County, Alabama    0.048503  0.032267 -0.037813 -0.073715   \n",
       "1017      Chambers County, Alabama -0.047987 -0.102149 -0.108005  0.155391   \n",
       "1027      Clay County, Alabama     -0.012868 -0.184931 -0.160721  0.052118   \n",
       "...                                      ...       ...       ...       ...   \n",
       "55119     Taylor County, Wisconsin -0.018672  0.006131  0.028725  0.054677   \n",
       "56001     Albany County, Wyoming   -0.006615  0.113047  0.021682 -0.028748   \n",
       "56009     Converse County, Wyoming -0.019238  0.050535  0.046683 -0.031069   \n",
       "56023     Lincoln County, Wyoming   0.187436 -0.012105 -0.229219 -0.042467   \n",
       "56035     Sublette County, Wyoming  0.041043 -0.085774 -0.188152 -0.086911   \n",
       "\n",
       "                                        2009      2010      2011      2012  \\\n",
       "Area Code Area                                                               \n",
       "1001      Autauga County, Alabama  -0.031788 -0.034355 -0.002697  0.061688   \n",
       "1005      Barbour County, Alabama   0.032353 -0.065973 -0.033907  0.052312   \n",
       "1009      Blount County, Alabama   -0.035109  0.013036  0.026734 -0.022070   \n",
       "1017      Chambers County, Alabama  0.271578  0.049661 -0.079314 -0.033606   \n",
       "1027      Clay County, Alabama      0.131785  0.044393  0.006300  0.053958   \n",
       "...                                      ...       ...       ...       ...   \n",
       "55119     Taylor County, Wisconsin  0.056107  0.001743 -0.016134 -0.045916   \n",
       "56001     Albany County, Wyoming   -0.051179 -0.004891  0.015443  0.014343   \n",
       "56009     Converse County, Wyoming -0.016735  0.013235 -0.003367  0.019034   \n",
       "56023     Lincoln County, Wyoming   0.113526  0.012392 -0.068896  0.021377   \n",
       "56035     Sublette County, Wyoming  0.089670 -0.005757 -0.177289 -0.038288   \n",
       "\n",
       "                                        2013      2014      2015      2016  \\\n",
       "Area Code Area                                                               \n",
       "1001      Autauga County, Alabama   0.047355 -0.013075 -0.010762  0.007869   \n",
       "1005      Barbour County, Alabama   0.045183  0.034304  0.027713  0.038834   \n",
       "1009      Blount County, Alabama   -0.019498  0.033084  0.036344  0.029829   \n",
       "1017      Chambers County, Alabama -0.020233 -0.025350  0.043065  0.041768   \n",
       "1027      Clay County, Alabama      0.065202  0.006382  0.000034  0.027995   \n",
       "...                                      ...       ...       ...       ...   \n",
       "55119     Taylor County, Wisconsin -0.031184  0.069386  0.043490 -0.040618   \n",
       "56001     Albany County, Wyoming    0.018535  0.017610 -0.016336 -0.040480   \n",
       "56009     Converse County, Wyoming  0.015097 -0.131414 -0.112823  0.120910   \n",
       "56023     Lincoln County, Wyoming   0.098257  0.052867  0.000107 -0.019103   \n",
       "56035     Sublette County, Wyoming  0.045321 -0.069410  0.049329  0.199890   \n",
       "\n",
       "                                        2017  2018  2019  \n",
       "Area Code Area                                            \n",
       "1001      Autauga County, Alabama   0.006180   NaN   NaN  \n",
       "1005      Barbour County, Alabama   0.013038   NaN   NaN  \n",
       "1009      Blount County, Alabama    0.019321   NaN   NaN  \n",
       "1017      Chambers County, Alabama -0.007892   NaN   NaN  \n",
       "1027      Clay County, Alabama     -0.019827   NaN   NaN  \n",
       "...                                      ...   ...   ...  \n",
       "55119     Taylor County, Wisconsin -0.028915   NaN   NaN  \n",
       "56001     Albany County, Wyoming    0.016684   NaN   NaN  \n",
       "56009     Converse County, Wyoming  0.266293   NaN   NaN  \n",
       "56023     Lincoln County, Wyoming  -0.011408   NaN   NaN  \n",
       "56035     Sublette County, Wyoming  0.012368   NaN   NaN  \n",
       "\n",
       "[1136 rows x 20 columns]"
      ]
     },
     "execution_count": 24,
     "metadata": {},
     "output_type": "execute_result"
    }
   ],
   "source": [
    "emp_diffdiff"
   ]
  },
  {
   "cell_type": "code",
   "execution_count": 25,
   "metadata": {},
   "outputs": [],
   "source": [
    "emp_diff.drop([\"2000\", \"2019\"], axis=1, inplace=True)\n",
    "emp_diffdiff.drop([\"2000\", \"2001\",\"2018\",\"2019\"], axis=1, inplace=True)"
   ]
  },
  {
   "cell_type": "code",
   "execution_count": 26,
   "metadata": {},
   "outputs": [
    {
     "name": "stdout",
     "output_type": "stream",
     "text": [
      "Train Score: 0.39331470787821565\n",
      "Coefs: [-0.07901357  0.34391124 -0.56118517  0.84506244]\n",
      "Intercept: -0.0032950213412580283\n"
     ]
    }
   ],
   "source": [
    "X_train = emp_diff[[str(i) for i in range(2001,2005)]]\n",
    "y_train = emp_diff[\"2005\"]\n",
    "lin_reg = LinearRegression().fit(X_train, y_train)\n",
    "print(f\"Train Score: {lin_reg.score(X_train, y_train)}\")\n",
    "print(f\"Coefs: {lin_reg.coef_}\")\n",
    "print(f\"Intercept: {lin_reg.intercept_}\")"
   ]
  },
  {
   "cell_type": "code",
   "execution_count": 27,
   "metadata": {},
   "outputs": [
    {
     "name": "stdout",
     "output_type": "stream",
     "text": [
      "2002-2006: 0.5278408242194641\n",
      "2003-2007: 0.5012979912405666\n",
      "2004-2008: 0.26140341298230874\n",
      "2005-2009: 0.5822893150390773\n",
      "2006-2010: 0.39978753686287316\n",
      "2007-2011: 0.5394740072130685\n",
      "2008-2012: 0.45172546343143627\n",
      "2009-2013: 0.5020044087213082\n",
      "2010-2014: 0.3895344328393501\n",
      "2011-2015: 0.4121082808310984\n",
      "2012-2016: 0.4734344815108015\n",
      "2013-2017: 0.45491239387279947\n",
      "2014-2018: 0.4054884110176965\n"
     ]
    }
   ],
   "source": [
    "for year in range(2002, 2015):\n",
    "\tX_test = emp_diff[[str(i) for i in range(year, year+4)]]\n",
    "\ty_test = emp_diff[str(year+4)]\n",
    "\tprint(f\"{year}-{year+4}: {lin_reg.score(X_test, y_test)}\")"
   ]
  },
  {
   "cell_type": "code",
   "execution_count": 28,
   "metadata": {},
   "outputs": [
    {
     "name": "stdout",
     "output_type": "stream",
     "text": [
      "Train Score: 0.30693118509633915\n",
      "Coefs: [array([ 0.15592376, -0.26209367,  0.57123746, -0.69271625,  0.95812663]), array([ 0.20724667, -0.05223205,  0.18722294, -0.05922717,  0.13597233])]\n",
      "Intercepts: [-0.0013337603793726963, -0.0052124062654507]\n"
     ]
    }
   ],
   "source": [
    "X_multi_train = emp_diff[[str(i) for i in range(2001,2006)]]\n",
    "y_multi_train = emp_diff[[str(i) for i in range(2006,2008)]]\n",
    "multi_lin_reg = MultiOutputRegressor(LinearRegression()).fit(X_multi_train, y_multi_train)\n",
    "print(f\"Train Score: {multi_lin_reg.score(X_multi_train, y_multi_train)}\")\n",
    "print(f\"Coefs: {[model.coef_ for model in multi_lin_reg.estimators_]}\")\n",
    "print(f\"Intercepts: {[model.intercept_ for model in multi_lin_reg.estimators_]}\")"
   ]
  },
  {
   "cell_type": "code",
   "execution_count": 29,
   "metadata": {},
   "outputs": [
    {
     "name": "stdout",
     "output_type": "stream",
     "text": [
      "2002-2008: 0.2627435943638665\n",
      "2003-2009: 0.08365448535508374\n",
      "2004-2010: 0.2778386302617405\n",
      "2005-2011: 0.21487857703486235\n",
      "2006-2012: 0.2791279002074481\n",
      "2007-2013: 0.19329526115097218\n",
      "2008-2014: 0.14071045064217708\n",
      "2009-2015: 0.12086800744561738\n",
      "2010-2016: 0.1479911320851105\n",
      "2011-2017: 0.19871740502273105\n",
      "2012-2018: 0.1921336395125956\n"
     ]
    }
   ],
   "source": [
    "for year in range(2002, 2013):\n",
    "\tX_test = emp_diff[[str(i) for i in range(year, year+5)]]\n",
    "\ty_test = emp_diff[[str(i) for i in range(year+5, year+7)]]\n",
    "\tprint(f\"{year}-{year+6}: {multi_lin_reg.score(X_test, y_test)}\")"
   ]
  },
  {
   "cell_type": "code",
   "execution_count": 30,
   "metadata": {},
   "outputs": [
    {
     "name": "stdout",
     "output_type": "stream",
     "text": [
      "Train Score: 0.14849325022912868\n",
      "Coefs: [array([ 0.15592376, -0.26209367,  0.57123746, -0.69271625,  0.95812663]), array([ 0.20724667, -0.05223205,  0.18722294, -0.05922717,  0.13597233]), array([ 0.31669944, -0.11201385,  0.16135103, -0.09309168, -0.02336957]), array([ 0.14801029,  0.04437249,  0.01184837,  0.00313349, -0.07347879]), array([ 0.02516097,  0.11018062, -0.04826447,  0.04733319, -0.00277468])]\n",
      "Intercepts: [-0.0013337603793726963, -0.0052124062654507, -0.013287590579714653, -0.009514867071709478, 0.005645628789053525]\n"
     ]
    }
   ],
   "source": [
    "X_multi_5_train = emp_diff[[str(i) for i in range(2001,2006)]]\n",
    "y_multi_5_train = emp_diff[[str(i) for i in range(2006,2011)]]\n",
    "multi_5_lin_reg = MultiOutputRegressor(LinearRegression()).fit(X_multi_5_train, y_multi_5_train)\n",
    "print(f\"Train Score: {multi_5_lin_reg.score(X_multi_5_train, y_multi_5_train)}\")\n",
    "print(f\"Coefs: {[model.coef_ for model in multi_5_lin_reg.estimators_]}\")\n",
    "print(f\"Intercepts: {[model.intercept_ for model in multi_5_lin_reg.estimators_]}\")"
   ]
  },
  {
   "cell_type": "code",
   "execution_count": 31,
   "metadata": {},
   "outputs": [
    {
     "name": "stdout",
     "output_type": "stream",
     "text": [
      "2002-2006, 2007-2012: 0.09794163804019859\n",
      "2003-2007, 2008-2013: -0.004571669249194543\n",
      "2004-2008, 2009-2014: 0.06938761650697303\n",
      "2005-2009, 2010-2015: 0.03354835497453723\n",
      "2006-2010, 2011-2016: 0.04164575568648419\n",
      "2007-2011, 2012-2017: 0.010475889259169025\n",
      "2008-2012, 2013-2018: -0.006651977099949113\n"
     ]
    }
   ],
   "source": [
    "for year in range(2002, 2009):\n",
    "\tX_test = emp_diff[[str(i) for i in range(year, year+5)]]\n",
    "\ty_test = emp_diff[[str(i) for i in range(year+5, year+10)]]\n",
    "\tprint(f\"{year}-{year+4}, {year+5}-{year+10}: {multi_5_lin_reg.score(X_test, y_test)}\")"
   ]
  },
  {
   "cell_type": "code",
   "execution_count": 32,
   "metadata": {},
   "outputs": [
    {
     "name": "stdout",
     "output_type": "stream",
     "text": [
      "Train Score: 0.5175518600508324\n",
      "Coefs: [-0.15141987 -0.40608929  0.17152994 -0.88132935  0.44448625]\n",
      "Intercept: -0.002637469784063421\n"
     ]
    }
   ],
   "source": [
    "X_train = emp_diffdiff[[str(i) for i in range(2002,2007)]]\n",
    "y_train = emp_diffdiff[\"2007\"]\n",
    "lin_reg = LinearRegression().fit(X_train, y_train)\n",
    "print(f\"Train Score: {lin_reg.score(X_train, y_train)}\")\n",
    "print(f\"Coefs: {lin_reg.coef_}\")\n",
    "print(f\"Intercept: {lin_reg.intercept_}\")"
   ]
  },
  {
   "cell_type": "code",
   "execution_count": 33,
   "metadata": {},
   "outputs": [
    {
     "name": "stdout",
     "output_type": "stream",
     "text": [
      "2003-2008: 0.6102946901648395\n",
      "2004-2009: 0.4223544221444213\n",
      "2005-2010: 0.5497104855628221\n",
      "2006-2011: 0.3092607766964981\n",
      "2007-2012: 0.5200273572885502\n",
      "2008-2013: 0.4185568836406185\n",
      "2009-2014: 0.3219816425887283\n",
      "2010-2015: 0.4873956966200568\n",
      "2011-2016: 0.64934263574986\n",
      "2012-2017: 0.46607389609297933\n"
     ]
    }
   ],
   "source": [
    "for year in range(2003, 2013):\n",
    "\tX_test = emp_diffdiff[[str(i) for i in range(year, year+5)]]\n",
    "\ty_test = emp_diffdiff[str(year+5)]\n",
    "\tprint(f\"{year}-{year+5}: {lin_reg.score(X_test, y_test)}\")"
   ]
  },
  {
   "cell_type": "code",
   "execution_count": 34,
   "metadata": {},
   "outputs": [
    {
     "name": "stdout",
     "output_type": "stream",
     "text": [
      "Train Score: 0.476117330314581\n",
      "Coefs: [array([-0.15141987, -0.40608929,  0.17152994, -0.88132935,  0.44448625]), array([-0.40103246, -0.04363651, -0.67676242, -0.04719364, -0.87127836])]\n",
      "Intercepts: [-0.002637469784063421, 0.00038017710554395594]\n"
     ]
    }
   ],
   "source": [
    "X_multi_train = emp_diffdiff[[str(i) for i in range(2002,2007)]]\n",
    "y_multi_train = emp_diffdiff[[str(i) for i in range(2007,2009)]]\n",
    "multi_lin_reg = MultiOutputRegressor(LinearRegression()).fit(X_multi_train, y_multi_train)\n",
    "print(f\"Train Score: {multi_lin_reg.score(X_multi_train, y_multi_train)}\")\n",
    "print(f\"Coefs: {[model.coef_ for model in multi_lin_reg.estimators_]}\")\n",
    "print(f\"Intercepts: {[model.intercept_ for model in multi_lin_reg.estimators_]}\")"
   ]
  },
  {
   "cell_type": "code",
   "execution_count": 35,
   "metadata": {},
   "outputs": [
    {
     "name": "stdout",
     "output_type": "stream",
     "text": [
      "2003-2009: 0.4768332979572682\n",
      "2004-2010: 0.3735432246401381\n",
      "2005-2011: 0.28849484753469723\n",
      "2006-2012: 0.2952742858331681\n",
      "2007-2013: 0.3878396027131028\n",
      "2008-2014: 0.2009037512704192\n",
      "2009-2015: 0.19366569054981275\n",
      "2010-2016: 0.4683949316568744\n",
      "2011-2017: 0.4846941461637898\n"
     ]
    }
   ],
   "source": [
    "for year in range(2003, 2012):\n",
    "\tX_test = emp_diffdiff[[str(i) for i in range(year, year+5)]]\n",
    "\ty_test = emp_diffdiff[[str(i) for i in range(year+5, year+7)]]\n",
    "\tprint(f\"{year}-{year+6}: {multi_lin_reg.score(X_test, y_test)}\")"
   ]
  },
  {
   "cell_type": "code",
   "execution_count": 36,
   "metadata": {},
   "outputs": [
    {
     "name": "stdout",
     "output_type": "stream",
     "text": [
      "Train Score: 0.211338901692337\n",
      "Coefs: [array([-0.15141987, -0.40608929,  0.17152994, -0.88132935,  0.44448625]), array([-0.40103246, -0.04363651, -0.67676242, -0.04719364, -0.87127836]), array([ 0.03400961,  0.03146997, -0.12196069,  0.09154559, -0.29633701]), array([ 0.14026267, -0.00555929,  0.20747971, -0.01095893,  0.14611736]), array([-0.0533828 ,  0.0762559 , -0.07597537,  0.06466425, -0.04819863])]\n",
      "Intercepts: [-0.002637469784063421, 0.00038017710554395594, 0.010349770885704244, 0.011098265551924983, 0.0032196619962923064]\n"
     ]
    }
   ],
   "source": [
    "X_multi_5_train = emp_diffdiff[[str(i) for i in range(2002,2007)]]\n",
    "y_multi_5_train = emp_diffdiff[[str(i) for i in range(2007,2012)]]\n",
    "multi_5_lin_reg = MultiOutputRegressor(LinearRegression()).fit(X_multi_5_train, y_multi_5_train)\n",
    "print(f\"Train Score: {multi_5_lin_reg.score(X_multi_5_train, y_multi_5_train)}\")\n",
    "print(f\"Coefs: {[model.coef_ for model in multi_5_lin_reg.estimators_]}\")\n",
    "print(f\"Intercepts: {[model.intercept_ for model in multi_5_lin_reg.estimators_]}\")"
   ]
  },
  {
   "cell_type": "code",
   "execution_count": 37,
   "metadata": {},
   "outputs": [
    {
     "name": "stdout",
     "output_type": "stream",
     "text": [
      "2003-2007, 2008-2012: 0.21231282727580575\n",
      "2004-2008, 2009-2013: 0.1379097265905696\n",
      "2005-2009, 2010-2014: 0.1112000316847769\n",
      "2006-2010, 2011-2015: 0.1107102911084658\n",
      "2007-2011, 2012-2016: 0.13998151993086566\n",
      "2008-2012, 2013-2017: 0.078720807937759\n"
     ]
    }
   ],
   "source": [
    "for year in range(2003, 2009):\n",
    "\tX_test = emp_diffdiff[[str(i) for i in range(year, year+5)]]\n",
    "\ty_test = emp_diffdiff[[str(i) for i in range(year+5, year+10)]]\n",
    "\tprint(f\"{year}-{year+4}, {year+5}-{year+9}: {multi_5_lin_reg.score(X_test, y_test)}\")"
   ]
  },
  {
   "cell_type": "markdown",
   "metadata": {},
   "source": [
    "## WAGE"
   ]
  },
  {
   "cell_type": "code",
   "execution_count": 38,
   "metadata": {},
   "outputs": [],
   "source": [
    "wage_diff = wage.diff(2, 1).shift(-1, axis=1) / 2\n",
    "wage_diffdiff = wage_diff.diff(2, 1).shift(-1, axis=1) / 2"
   ]
  },
  {
   "cell_type": "code",
   "execution_count": 39,
   "metadata": {},
   "outputs": [],
   "source": [
    "wage_diff.drop([\"2000\", \"2019\"], axis=1, inplace=True)\n",
    "wage_diffdiff.drop([\"2000\", \"2001\", \"2018\", \"2019\"], axis=1, inplace=True)"
   ]
  },
  {
   "cell_type": "code",
   "execution_count": 40,
   "metadata": {},
   "outputs": [
    {
     "name": "stdout",
     "output_type": "stream",
     "text": [
      "Train Score: 0.5431714614497161\n",
      "Coefs: [ 0.20134145 -0.31163544  0.54633783 -0.64143149  0.90239176]\n",
      "Intercept: 0.003601662884309139\n"
     ]
    }
   ],
   "source": [
    "X_train = wage_diff[[str(i) for i in range(2001,2006)]]\n",
    "y_train = wage_diff[\"2006\"]\n",
    "lin_reg = LinearRegression().fit(X_train, y_train)\n",
    "print(f\"Train Score: {lin_reg.score(X_train, y_train)}\")\n",
    "print(f\"Coefs: {lin_reg.coef_}\")\n",
    "print(f\"Intercept: {lin_reg.intercept_}\")"
   ]
  },
  {
   "cell_type": "code",
   "execution_count": 41,
   "metadata": {},
   "outputs": [
    {
     "name": "stdout",
     "output_type": "stream",
     "text": [
      "2002-2007: 0.5220315354441091\n",
      "2003-2008: 0.41495141444106676\n",
      "2004-2009: 0.4800165678557605\n",
      "2005-2010: 0.44673649580804564\n",
      "2006-2011: 0.5512727323877902\n",
      "2007-2012: 0.45017136161551974\n",
      "2008-2013: 0.5542315916759457\n",
      "2009-2014: 0.29281786652861264\n",
      "2010-2015: 0.3962355852800925\n",
      "2011-2016: 0.4816553665463088\n",
      "2012-2017: 0.4257418876763326\n",
      "2013-2018: 0.4702607647706821\n"
     ]
    }
   ],
   "source": [
    "for year in range(2002, 2014):\n",
    "\tX_test = wage_diff[[str(i) for i in range(year, year+5)]]\n",
    "\ty_test = wage_diff[str(year+5)]\n",
    "\tprint(f\"{year}-{year+5}: {lin_reg.score(X_test, y_test)}\")"
   ]
  },
  {
   "cell_type": "code",
   "execution_count": 42,
   "metadata": {},
   "outputs": [
    {
     "name": "stdout",
     "output_type": "stream",
     "text": [
      "Train Score: 0.30736790292303523\n",
      "Coefs: [array([ 0.20134145, -0.31163544,  0.54633783, -0.64143149,  0.90239176]), array([ 0.26112991, -0.12166245,  0.20922551, -0.01919838,  0.15467145])]\n",
      "Intercepts: [0.003601662884309139, 0.008296414457247193]\n"
     ]
    }
   ],
   "source": [
    "X_multi_train = wage_diff[[str(i) for i in range(2001,2006)]]\n",
    "y_multi_train = wage_diff[[str(i) for i in range(2006,2008)]]\n",
    "multi_lin_reg = MultiOutputRegressor(LinearRegression()).fit(X_multi_train, y_multi_train)\n",
    "print(f\"Train Score: {multi_lin_reg.score(X_multi_train, y_multi_train)}\")\n",
    "print(f\"Coefs: {[model.coef_ for model in multi_lin_reg.estimators_]}\")\n",
    "print(f\"Intercepts: {[model.intercept_ for model in multi_lin_reg.estimators_]}\")"
   ]
  },
  {
   "cell_type": "code",
   "execution_count": 43,
   "metadata": {},
   "outputs": [
    {
     "name": "stdout",
     "output_type": "stream",
     "text": [
      "2002-2008: 0.2825157633012288\n",
      "2003-2009: 0.1438582730099452\n",
      "2004-2010: 0.18194365690198827\n",
      "2005-2011: 0.210731392315544\n",
      "2006-2012: 0.26634279182109655\n",
      "2007-2013: 0.19501614890376834\n",
      "2008-2014: 0.14726826685471428\n",
      "2009-2015: 0.038233631384134326\n",
      "2010-2016: 0.07535059596398974\n",
      "2011-2017: 0.18536867895443732\n",
      "2012-2018: 0.15189367184412672\n"
     ]
    }
   ],
   "source": [
    "for year in range(2002, 2013):\n",
    "\tX_test = wage_diff[[str(i) for i in range(year, year+5)]]\n",
    "\ty_test = wage_diff[[str(i) for i in range(year+5, year+7)]]\n",
    "\tprint(f\"{year}-{year+6}: {multi_lin_reg.score(X_test, y_test)}\")"
   ]
  },
  {
   "cell_type": "code",
   "execution_count": 44,
   "metadata": {},
   "outputs": [
    {
     "name": "stdout",
     "output_type": "stream",
     "text": [
      "Train Score: 0.1468459924054466\n",
      "Coefs: [array([ 0.20134145, -0.31163544,  0.54633783, -0.64143149,  0.90239176]), array([ 0.26112991, -0.12166245,  0.20922551, -0.01919838,  0.15467145]), array([0.2894641 , 0.0258615 , 0.061494  , 0.00912553, 0.01504205]), array([ 0.12987661,  0.12349804, -0.05772748,  0.05345171, -0.06519862]), array([ 0.07121248, -0.07571745,  0.10431168, -0.07316987,  0.09348515])]\n",
      "Intercepts: [0.003601662884309139, 0.008296414457247193, -0.00018112120826587527, -0.003887835142657658, 0.008907745501924556]\n"
     ]
    }
   ],
   "source": [
    "X_multi_5_train = wage_diff[[str(i) for i in range(2001,2006)]]\n",
    "y_multi_5_train = wage_diff[[str(i) for i in range(2006,2011)]]\n",
    "multi_5_lin_reg = MultiOutputRegressor(LinearRegression()).fit(X_multi_5_train, y_multi_5_train)\n",
    "print(f\"Train Score: {multi_5_lin_reg.score(X_multi_5_train, y_multi_5_train)}\")\n",
    "print(f\"Coefs: {[model.coef_ for model in multi_5_lin_reg.estimators_]}\")\n",
    "print(f\"Intercepts: {[model.intercept_ for model in multi_5_lin_reg.estimators_]}\")"
   ]
  },
  {
   "cell_type": "code",
   "execution_count": 45,
   "metadata": {},
   "outputs": [
    {
     "name": "stdout",
     "output_type": "stream",
     "text": [
      "2002-2006, 2007-2011: 0.10437389393528498\n",
      "2003-2007, 2008-2012: 0.03512130553334554\n",
      "2004-2008, 2009-2013: 0.04709895606776719\n",
      "2005-2009, 2010-2014: 0.04404397183551774\n",
      "2006-2010, 2011-2015: 0.03935880963055274\n",
      "2007-2011, 2012-2016: -0.009388944022377976\n",
      "2008-2012, 2013-2017: -0.00267725479519354\n",
      "2009-2013, 2014-2018: -0.05605384598963339\n"
     ]
    }
   ],
   "source": [
    "for year in range(2002, 2010):\n",
    "\tX_test = wage_diff[[str(i) for i in range(year, year+5)]]\n",
    "\ty_test = wage_diff[[str(i) for i in range(year+5, year+10)]]\n",
    "\tprint(f\"{year}-{year+4}, {year+5}-{year+9}: {multi_5_lin_reg.score(X_test, y_test)}\")"
   ]
  },
  {
   "cell_type": "code",
   "execution_count": 46,
   "metadata": {},
   "outputs": [
    {
     "name": "stdout",
     "output_type": "stream",
     "text": [
      "Train Score: 0.5425964898200417\n",
      "Coefs: [-0.0407456  -0.53837319  0.3802068  -0.99744848  0.56515661]\n",
      "Intercept: -0.002068966096057958\n"
     ]
    }
   ],
   "source": [
    "X_train = wage_diffdiff[[str(i) for i in range(2002,2007)]]\n",
    "y_train = wage_diffdiff[\"2007\"]\n",
    "lin_reg = LinearRegression().fit(X_train, y_train)\n",
    "print(f\"Train Score: {lin_reg.score(X_train, y_train)}\")\n",
    "print(f\"Coefs: {lin_reg.coef_}\")\n",
    "print(f\"Intercept: {lin_reg.intercept_}\")"
   ]
  },
  {
   "cell_type": "code",
   "execution_count": 47,
   "metadata": {},
   "outputs": [
    {
     "name": "stdout",
     "output_type": "stream",
     "text": [
      "2003-2008: 0.6081325533741841\n",
      "2004-2009: 0.5757679952362615\n",
      "2005-2010: 0.6023962959481709\n",
      "2006-2011: 0.45678978751600274\n",
      "2007-2012: 0.5890350349352145\n",
      "2008-2013: 0.42882918721732544\n",
      "2009-2014: 0.42721964734237583\n",
      "2010-2015: 0.5375040426714903\n",
      "2011-2016: 0.6844518619200578\n",
      "2012-2017: 0.4842364326781281\n"
     ]
    }
   ],
   "source": [
    "for year in range(2003, 2013):\n",
    "\tX_test = wage_diffdiff[[str(i) for i in range(year, year+5)]]\n",
    "\ty_test = wage_diffdiff[str(year+5)]\n",
    "\tprint(f\"{year}-{year+5}: {lin_reg.score(X_test, y_test)}\")"
   ]
  },
  {
   "cell_type": "code",
   "execution_count": 48,
   "metadata": {},
   "outputs": [
    {
     "name": "stdout",
     "output_type": "stream",
     "text": [
      "Train Score: 0.5193137985833985\n",
      "Coefs: [array([-0.0407456 , -0.53837319,  0.3802068 , -0.99744848,  0.56515661]), array([-0.41395128, -0.07463573, -0.72829029, -0.03654683, -0.92473338])]\n",
      "Intercepts: [-0.002068966096057958, -0.0026243581507432194]\n"
     ]
    }
   ],
   "source": [
    "X_multi_train = wage_diffdiff[[str(i) for i in range(2002,2007)]]\n",
    "y_multi_train = wage_diffdiff[[str(i) for i in range(2007,2009)]]\n",
    "multi_lin_reg = MultiOutputRegressor(LinearRegression()).fit(X_multi_train, y_multi_train)\n",
    "print(f\"Train Score: {multi_lin_reg.score(X_multi_train, y_multi_train)}\")\n",
    "print(f\"Coefs: {[model.coef_ for model in multi_lin_reg.estimators_]}\")\n",
    "print(f\"Intercepts: {[model.intercept_ for model in multi_lin_reg.estimators_]}\")"
   ]
  },
  {
   "cell_type": "code",
   "execution_count": 49,
   "metadata": {},
   "outputs": [
    {
     "name": "stdout",
     "output_type": "stream",
     "text": [
      "2003-2009: 0.5391073553322433\n",
      "2004-2010: 0.4617171572627896\n",
      "2005-2011: 0.39621659145280247\n",
      "2006-2012: 0.34077831751296633\n",
      "2007-2013: 0.3973629692027679\n",
      "2008-2014: 0.23765729509071432\n",
      "2009-2015: 0.2564787272206107\n",
      "2010-2016: 0.530345075758618\n",
      "2011-2017: 0.4280106610493484\n"
     ]
    }
   ],
   "source": [
    "for year in range(2003, 2012):\n",
    "\tX_test = wage_diffdiff[[str(i) for i in range(year, year+5)]]\n",
    "\ty_test = wage_diffdiff[[str(i) for i in range(year+5, year+7)]]\n",
    "\tprint(f\"{year}-{year+6}: {multi_lin_reg.score(X_test, y_test)}\")"
   ]
  },
  {
   "cell_type": "code",
   "execution_count": 50,
   "metadata": {},
   "outputs": [
    {
     "name": "stdout",
     "output_type": "stream",
     "text": [
      "Train Score: 0.24825016981759518\n",
      "Coefs: [array([-0.0407456 , -0.53837319,  0.3802068 , -0.99744848,  0.56515661]), array([-0.41395128, -0.07463573, -0.72829029, -0.03654683, -0.92473338]), array([-0.14209535,  0.26639654, -0.54271277,  0.34950764, -0.62950596]), array([0.13339683, 0.08013774, 0.13365766, 0.05787127, 0.06555452]), array([ 0.02610681, -0.05034797,  0.11447146, -0.05656897,  0.09505981])]\n",
      "Intercepts: [-0.002068966096057958, -0.0026243581507432194, 0.006055175283340092, 0.00973465296825642, 0.0011886804124609449]\n"
     ]
    }
   ],
   "source": [
    "X_multi_5_train = wage_diffdiff[[str(i) for i in range(2002,2007)]]\n",
    "y_multi_5_train = wage_diffdiff[[str(i) for i in range(2007,2012)]]\n",
    "multi_5_lin_reg = MultiOutputRegressor(LinearRegression()).fit(X_multi_5_train, y_multi_5_train)\n",
    "print(f\"Train Score: {multi_5_lin_reg.score(X_multi_5_train, y_multi_5_train)}\")\n",
    "print(f\"Coefs: {[model.coef_ for model in multi_5_lin_reg.estimators_]}\")\n",
    "print(f\"Intercepts: {[model.intercept_ for model in multi_5_lin_reg.estimators_]}\")"
   ]
  },
  {
   "cell_type": "code",
   "execution_count": 51,
   "metadata": {},
   "outputs": [
    {
     "name": "stdout",
     "output_type": "stream",
     "text": [
      "2003-2007, 2008-2012: 0.2555333118104869\n",
      "2004-2008, 2009-2013: 0.18326155588601695\n",
      "2005-2009, 2010-2014: 0.16461907457156955\n",
      "2006-2010, 2011-2015: 0.1399435131507828\n",
      "2007-2011, 2012-2016: 0.15433110394263044\n",
      "2008-2012, 2013-2017: 0.10559810178810425\n"
     ]
    }
   ],
   "source": [
    "for year in range(2003, 2009):\n",
    "\tX_test = wage_diffdiff[[str(i) for i in range(year, year+5)]]\n",
    "\ty_test = wage_diffdiff[[str(i) for i in range(year+5, year+10)]]\n",
    "\tprint(f\"{year}-{year+4}, {year+5}-{year+9}: {multi_5_lin_reg.score(X_test, y_test)}\")"
   ]
  },
  {
   "cell_type": "markdown",
   "metadata": {},
   "source": [
    "## ESTAB"
   ]
  },
  {
   "cell_type": "code",
   "execution_count": 52,
   "metadata": {},
   "outputs": [],
   "source": [
    "estab_diff = estab.diff(2, 1).shift(-1, axis=1) / 2\n",
    "estab_diffdiff = estab_diff.diff(2, 1).shift(-1, axis=1) / 2"
   ]
  },
  {
   "cell_type": "code",
   "execution_count": 53,
   "metadata": {},
   "outputs": [],
   "source": [
    "estab_diff.drop([\"2000\", \"2019\"], axis=1, inplace=True)\n",
    "estab_diffdiff.drop([\"2000\", \"2001\", \"2018\", \"2019\"], axis=1, inplace=True)"
   ]
  },
  {
   "cell_type": "code",
   "execution_count": 54,
   "metadata": {},
   "outputs": [
    {
     "name": "stdout",
     "output_type": "stream",
     "text": [
      "Train Score: 0.43683269899093\n",
      "Coefs: [ 0.16611622 -0.33168335  0.71581782 -0.60749902  0.64928538]\n",
      "Intercept: -0.0014233708462512203\n"
     ]
    }
   ],
   "source": [
    "X_train = estab_diff[[str(i) for i in range(2001,2006)]]\n",
    "y_train = estab_diff[\"2006\"]\n",
    "lin_reg = LinearRegression().fit(X_train, y_train)\n",
    "print(f\"Train Score: {lin_reg.score(X_train, y_train)}\")\n",
    "print(f\"Coefs: {lin_reg.coef_}\")\n",
    "print(f\"Intercept: {lin_reg.intercept_}\")"
   ]
  },
  {
   "cell_type": "code",
   "execution_count": 55,
   "metadata": {},
   "outputs": [
    {
     "name": "stdout",
     "output_type": "stream",
     "text": [
      "2002-2007: 0.5457788121579084\n",
      "2003-2008: 0.4126535917774792\n",
      "2004-2009: 0.3751005851971452\n",
      "2005-2010: 0.3722592353129238\n",
      "2006-2011: 0.36875312254844095\n",
      "2007-2012: 0.5727407313342123\n",
      "2008-2013: 0.4164407923933364\n",
      "2009-2014: 0.35436511740644694\n",
      "2010-2015: 0.34814087439536845\n",
      "2011-2016: 0.4023397180115671\n",
      "2012-2017: 0.5575963395672401\n",
      "2013-2018: 0.24694724504228716\n"
     ]
    }
   ],
   "source": [
    "for year in range(2002, 2014):\n",
    "\tX_test = estab_diff[[str(i) for i in range(year, year+5)]]\n",
    "\ty_test = estab_diff[str(year+5)]\n",
    "\tprint(f\"{year}-{year+5}: {lin_reg.score(X_test, y_test)}\")"
   ]
  },
  {
   "cell_type": "code",
   "execution_count": 56,
   "metadata": {},
   "outputs": [
    {
     "name": "stdout",
     "output_type": "stream",
     "text": [
      "Train Score: 0.3068507022018829\n",
      "Coefs: [array([ 0.16611622, -0.33168335,  0.71581782, -0.60749902,  0.64928538]), array([ 0.06974637,  0.02190005,  0.25953635,  0.18723595, -0.3247671 ])]\n",
      "Intercepts: [-0.0014233708462512203, 2.3059935295299296e-05]\n"
     ]
    }
   ],
   "source": [
    "X_multi_train = estab_diff[[str(i) for i in range(2001,2006)]]\n",
    "y_multi_train = estab_diff[[str(i) for i in range(2006,2008)]]\n",
    "multi_lin_reg = MultiOutputRegressor(LinearRegression()).fit(X_multi_train, y_multi_train)\n",
    "print(f\"Train Score: {multi_lin_reg.score(X_multi_train, y_multi_train)}\")\n",
    "print(f\"Coefs: {[model.coef_ for model in multi_lin_reg.estimators_]}\")\n",
    "print(f\"Intercepts: {[model.intercept_ for model in multi_lin_reg.estimators_]}\")"
   ]
  },
  {
   "cell_type": "code",
   "execution_count": 57,
   "metadata": {},
   "outputs": [
    {
     "name": "stdout",
     "output_type": "stream",
     "text": [
      "2002-2008: 0.16999883641864855\n",
      "2003-2009: -0.08862921234489218\n",
      "2004-2010: 0.09046789909906261\n",
      "2005-2011: 0.13285660439425812\n",
      "2006-2012: 0.10155189315112251\n",
      "2007-2013: 0.20040370262803953\n",
      "2008-2014: 0.12037206855447724\n",
      "2009-2015: 0.021384383956405795\n",
      "2010-2016: 0.0014679704946533034\n",
      "2011-2017: 0.038096900956503976\n",
      "2012-2018: 0.11442091350900652\n"
     ]
    }
   ],
   "source": [
    "for year in range(2002, 2013):\n",
    "\tX_test = estab_diff[[str(i) for i in range(year, year+5)]]\n",
    "\ty_test = estab_diff[[str(i) for i in range(year+5, year+7)]]\n",
    "\tprint(f\"{year}-{year+6}: {multi_lin_reg.score(X_test, y_test)}\")"
   ]
  },
  {
   "cell_type": "code",
   "execution_count": 58,
   "metadata": {},
   "outputs": [
    {
     "name": "stdout",
     "output_type": "stream",
     "text": [
      "Train Score: 0.1465307697190531\n",
      "Coefs: [array([ 0.16611622, -0.33168335,  0.71581782, -0.60749902,  0.64928538]), array([ 0.06974637,  0.02190005,  0.25953635,  0.18723595, -0.3247671 ]), array([ 0.14299515, -0.03040386,  0.15269384,  0.07812021, -0.09876793]), array([ 0.10221986, -0.03135223,  0.10455125,  0.0005592 , -0.06015402]), array([ 0.05456483, -0.12708839,  0.20555123, -0.01501845, -0.02139668])]\n",
      "Intercepts: [-0.0014233708462512203, 2.3059935295299296e-05, 0.003279238646232925, -0.0005257621743379622, -0.00025088912117652044]\n"
     ]
    }
   ],
   "source": [
    "X_multi_5_train = estab_diff[[str(i) for i in range(2001,2006)]]\n",
    "y_multi_5_train = estab_diff[[str(i) for i in range(2006,2011)]]\n",
    "multi_5_lin_reg = MultiOutputRegressor(LinearRegression()).fit(X_multi_5_train, y_multi_5_train)\n",
    "print(f\"Train Score: {multi_5_lin_reg.score(X_multi_5_train, y_multi_5_train)}\")\n",
    "print(f\"Coefs: {[model.coef_ for model in multi_5_lin_reg.estimators_]}\")\n",
    "print(f\"Intercepts: {[model.intercept_ for model in multi_5_lin_reg.estimators_]}\")"
   ]
  },
  {
   "cell_type": "code",
   "execution_count": 59,
   "metadata": {},
   "outputs": [
    {
     "name": "stdout",
     "output_type": "stream",
     "text": [
      "2002-2006, 2007-2011: 0.04931743534144717\n",
      "2003-2007, 2008-2012: -0.061923036076299856\n",
      "2004-2008, 2009-2013: 0.04633518005629027\n",
      "2005-2009, 2010-2014: 0.054447604303538163\n",
      "2006-2010, 2011-2015: 0.04974125674304257\n",
      "2007-2011, 2012-2016: 0.08836878028730952\n",
      "2008-2012, 2013-2017: 0.04312836532704758\n",
      "2009-2013, 2014-2018: -0.03073049503371068\n"
     ]
    }
   ],
   "source": [
    "for year in range(2002, 2010):\n",
    "\tX_test = estab_diff[[str(i) for i in range(year, year+5)]]\n",
    "\ty_test = estab_diff[[str(i) for i in range(year+5, year+10)]]\n",
    "\tprint(f\"{year}-{year+4}, {year+5}-{year+9}: {multi_5_lin_reg.score(X_test, y_test)}\")"
   ]
  },
  {
   "cell_type": "code",
   "execution_count": 60,
   "metadata": {},
   "outputs": [
    {
     "name": "stdout",
     "output_type": "stream",
     "text": [
      "Train Score: 0.5751707757256985\n",
      "Coefs: [ 0.09434939 -0.49748611  0.58481082 -0.98346557  0.60771712]\n",
      "Intercept: 0.0020798144335200646\n"
     ]
    }
   ],
   "source": [
    "X_train = estab_diffdiff[[str(i) for i in range(2002,2007)]]\n",
    "y_train = estab_diffdiff[\"2007\"]\n",
    "lin_reg = LinearRegression().fit(X_train, y_train)\n",
    "print(f\"Train Score: {lin_reg.score(X_train, y_train)}\")\n",
    "print(f\"Coefs: {lin_reg.coef_}\")\n",
    "print(f\"Intercept: {lin_reg.intercept_}\")"
   ]
  },
  {
   "cell_type": "code",
   "execution_count": 61,
   "metadata": {},
   "outputs": [
    {
     "name": "stdout",
     "output_type": "stream",
     "text": [
      "2003-2007: 0.5144181148585154\n",
      "2004-2008: 0.4528810684413579\n",
      "2005-2009: 0.49153092802878795\n",
      "2006-2010: 0.5101278533228683\n",
      "2007-2011: 0.5239324803142713\n",
      "2008-2012: 0.5954425343379174\n",
      "2009-2013: 0.42835303336782293\n",
      "2010-2014: 0.4847903772492368\n",
      "2011-2015: 0.6249570445284776\n",
      "2012-2016: 0.5240504195909859\n"
     ]
    }
   ],
   "source": [
    "for year in range(2003, 2013):\n",
    "\tX_test = estab_diffdiff[[str(i) for i in range(year, year+5)]]\n",
    "\ty_test = estab_diffdiff[str(year+5)]\n",
    "\tprint(f\"{year}-{year+4}: {lin_reg.score(X_test, y_test)}\")"
   ]
  },
  {
   "cell_type": "code",
   "execution_count": 62,
   "metadata": {},
   "outputs": [
    {
     "name": "stdout",
     "output_type": "stream",
     "text": [
      "Train Score: 0.46948433741949475\n",
      "Coefs: [array([ 0.09434939, -0.49748611,  0.58481082, -0.98346557,  0.60771712]), array([-0.23571442, -0.01143648, -0.32053348, -0.02944723, -0.53862742])]\n",
      "Intercepts: [0.0020798144335200646, 0.001900706474483638]\n"
     ]
    }
   ],
   "source": [
    "X_multi_train = estab_diffdiff[[str(i) for i in range(2002,2007)]]\n",
    "y_multi_train = estab_diffdiff[[str(i) for i in range(2007,2009)]]\n",
    "multi_lin_reg = MultiOutputRegressor(LinearRegression()).fit(X_multi_train, y_multi_train)\n",
    "print(f\"Train Score: {multi_lin_reg.score(X_multi_train, y_multi_train)}\")\n",
    "print(f\"Coefs: {[model.coef_ for model in multi_lin_reg.estimators_]}\")\n",
    "print(f\"Intercepts: {[model.intercept_ for model in multi_lin_reg.estimators_]}\")"
   ]
  },
  {
   "cell_type": "code",
   "execution_count": 63,
   "metadata": {},
   "outputs": [
    {
     "name": "stdout",
     "output_type": "stream",
     "text": [
      "2003-2009: 0.3726184310026354\n",
      "2004-2010: 0.33401097143857483\n",
      "2005-2011: 0.33090759919108415\n",
      "2006-2012: 0.4662789272169677\n",
      "2007-2013: 0.4338391803681956\n",
      "2008-2014: 0.36195837495017635\n",
      "2009-2015: 0.30781108879478203\n",
      "2010-2016: 0.39894038104208646\n",
      "2011-2017: 0.5086823970180988\n"
     ]
    }
   ],
   "source": [
    "for year in range(2003, 2012):\n",
    "\tX_test = estab_diffdiff[[str(i) for i in range(year, year+5)]]\n",
    "\ty_test = estab_diffdiff[[str(i) for i in range(year+5, year+7)]]\n",
    "\tprint(f\"{year}-{year+6}: {multi_lin_reg.score(X_test, y_test)}\")"
   ]
  },
  {
   "cell_type": "code",
   "execution_count": 64,
   "metadata": {},
   "outputs": [
    {
     "name": "stdout",
     "output_type": "stream",
     "text": [
      "Train Score: 0.2231124978562476\n",
      "Coefs: [array([ 0.09434939, -0.49748611,  0.58481082, -0.98346557,  0.60771712]), array([-0.23571442, -0.01143648, -0.32053348, -0.02944723, -0.53862742]), array([-0.16244249,  0.27268251, -0.47172949,  0.3181955 , -0.39062229]), array([ 0.02307416,  0.15608819, -0.10829757,  0.07674912, -0.11312385]), array([-0.04864335, -0.00827822,  0.01892564,  0.06028201, -0.05720834])]\n",
      "Intercepts: [0.0020798144335200646, 0.001900706474483638, 0.00024226262414996677, 0.0017054812664249997, 0.00039263218427079726]\n"
     ]
    }
   ],
   "source": [
    "X_multi_5_train = estab_diffdiff[[str(i) for i in range(2002,2007)]]\n",
    "y_multi_5_train = estab_diffdiff[[str(i) for i in range(2007,2012)]]\n",
    "multi_5_lin_reg = MultiOutputRegressor(LinearRegression()).fit(X_multi_5_train, y_multi_5_train)\n",
    "print(f\"Train Score: {multi_5_lin_reg.score(X_multi_5_train, y_multi_5_train)}\")\n",
    "print(f\"Coefs: {[model.coef_ for model in multi_5_lin_reg.estimators_]}\")\n",
    "print(f\"Intercepts: {[model.intercept_ for model in multi_5_lin_reg.estimators_]}\")"
   ]
  },
  {
   "cell_type": "code",
   "execution_count": 65,
   "metadata": {},
   "outputs": [
    {
     "name": "stdout",
     "output_type": "stream",
     "text": [
      "2003-2007, 2008-2012: 0.16946721306140985\n",
      "2004-2008, 2009-2013: 0.14869486922965552\n",
      "2005-2009, 2010-2014: 0.16455407639380815\n",
      "2006-2010, 2011-2015: 0.22904665016038034\n",
      "2007-2011, 2012-2016: 0.19575148896736438\n",
      "2008-2012, 2013-2017: 0.16696720618434224\n"
     ]
    }
   ],
   "source": [
    "for year in range(2003, 2009):\n",
    "\tX_test = estab_diffdiff[[str(i) for i in range(year, year+5)]]\n",
    "\ty_test = estab_diffdiff[[str(i) for i in range(year+5, year+10)]]\n",
    "\tprint(f\"{year}-{year+4}, {year+5}-{year+9}: {multi_5_lin_reg.score(X_test, y_test)}\")"
   ]
  },
  {
   "cell_type": "markdown",
   "metadata": {},
   "source": [
    "## Non-linear methods"
   ]
  },
  {
   "cell_type": "markdown",
   "metadata": {},
   "source": [
    "### WAGE"
   ]
  },
  {
   "cell_type": "code",
   "execution_count": 66,
   "metadata": {},
   "outputs": [
    {
     "name": "stdout",
     "output_type": "stream",
     "text": [
      "Train score: 0.7734104650339892\n"
     ]
    }
   ],
   "source": [
    "X_train = wage_diff[[str(i) for i in range(2001,2006)]]\n",
    "y_train = wage_diff[\"2006\"]\n",
    "reg = GradientBoostingRegressor().fit(X_train, y_train)\n",
    "print(f\"Train score: {reg.score(X_train, y_train)}\")"
   ]
  },
  {
   "cell_type": "code",
   "execution_count": 67,
   "metadata": {},
   "outputs": [
    {
     "name": "stdout",
     "output_type": "stream",
     "text": [
      "2002-2007: 0.3823223102538146\n",
      "2003-2008: 0.3968969393344187\n",
      "2004-2009: 0.21145919110749967\n",
      "2005-2010: 0.19600091082818571\n",
      "2006-2011: 0.3356177267578081\n",
      "2007-2012: 0.2847901135825279\n",
      "2008-2013: 0.4251629309044811\n",
      "2009-2014: 0.10143638676380595\n",
      "2010-2015: 0.31929181024069\n",
      "2011-2016: 0.2522620017283975\n",
      "2012-2017: 0.265818463400598\n",
      "2013-2018: 0.23483612181087576\n"
     ]
    }
   ],
   "source": [
    "for year in range(2002, 2014):\n",
    "\tX_test = wage_diff[[str(i) for i in range(year, year+5)]]\n",
    "\ty_test = wage_diff[str(year+5)]\n",
    "\tprint(f\"{year}-{year+5}: {reg.score(X_test, y_test)}\")"
   ]
  },
  {
   "cell_type": "code",
   "execution_count": 68,
   "metadata": {},
   "outputs": [
    {
     "name": "stdout",
     "output_type": "stream",
     "text": [
      "Train score: 0.9202048399494948\n"
     ]
    }
   ],
   "source": [
    "X_train = wage_diff[[str(i) for i in range(2001,2006)]]\n",
    "y_train = wage_diff[\"2006\"]\n",
    "reg = RandomForestRegressor().fit(X_train, y_train)\n",
    "print(f\"Train score: {reg.score(X_train, y_train)}\")"
   ]
  },
  {
   "cell_type": "code",
   "execution_count": 69,
   "metadata": {},
   "outputs": [
    {
     "name": "stdout",
     "output_type": "stream",
     "text": [
      "2002-2007: 0.3608682418549616\n",
      "2003-2008: 0.38477676935007654\n",
      "2004-2009: 0.23934220575022913\n",
      "2005-2010: 0.19043622840961438\n",
      "2006-2011: 0.3276014696881471\n",
      "2007-2012: 0.26267483208522846\n",
      "2008-2013: 0.38734235459933175\n",
      "2009-2014: 0.02338243160218667\n",
      "2010-2015: 0.30059181437315763\n",
      "2011-2016: 0.2760152794507508\n",
      "2012-2017: 0.2200627896663705\n",
      "2013-2018: 0.16705254028934313\n"
     ]
    }
   ],
   "source": [
    "for year in range(2002, 2014):\n",
    "\tX_test = wage_diff[[str(i) for i in range(year, year+5)]]\n",
    "\ty_test = wage_diff[str(year+5)]\n",
    "\tprint(f\"{year}-{year+5}: {reg.score(X_test, y_test)}\")"
   ]
  },
  {
   "cell_type": "code",
   "execution_count": 70,
   "metadata": {},
   "outputs": [
    {
     "name": "stdout",
     "output_type": "stream",
     "text": [
      "Train Score: 0.6740408061668299\n"
     ]
    }
   ],
   "source": [
    "X_multi_train = wage_diff[[str(i) for i in range(2001,2006)]]\n",
    "y_multi_train = wage_diff[[str(i) for i in range(2006,2008)]]\n",
    "reg = MultiOutputRegressor(GradientBoostingRegressor()).fit(X_multi_train, y_multi_train)\n",
    "print(f\"Train Score: {reg.score(X_multi_train, y_multi_train)}\")"
   ]
  },
  {
   "cell_type": "code",
   "execution_count": 71,
   "metadata": {},
   "outputs": [
    {
     "name": "stdout",
     "output_type": "stream",
     "text": [
      "2002-2008: 0.16198359596824213\n",
      "2003-2009: 0.1364572822135987\n",
      "2004-2010: 0.024601276339771216\n",
      "2005-2011: -0.041578840755134794\n",
      "2006-2012: -0.02768351620949072\n",
      "2007-2013: -0.034221979751768605\n",
      "2008-2014: -0.0296519822625137\n",
      "2009-2015: -0.08842040021508085\n",
      "2010-2016: 0.009889924048604781\n",
      "2011-2017: -0.11978530188970776\n",
      "2012-2018: -0.125431751897916\n"
     ]
    }
   ],
   "source": [
    "for year in range(2002,2013):\n",
    "\tX_test = wage_diff[[str(i) for i in range(year, year+5)]]\n",
    "\ty_test = wage_diff[[str(i) for i in range(year+5, year+7)]]\n",
    "\tprint(f\"{year}-{year+6}: {reg.score(X_test, y_test)}\")"
   ]
  },
  {
   "cell_type": "code",
   "execution_count": 72,
   "metadata": {},
   "outputs": [
    {
     "name": "stdout",
     "output_type": "stream",
     "text": [
      "Train Score: 0.8974963035814412\n"
     ]
    }
   ],
   "source": [
    "X_multi_train = wage_diff[[str(i) for i in range(2001,2006)]]\n",
    "y_multi_train = wage_diff[[str(i) for i in range(2006,2008)]]\n",
    "reg = MultiOutputRegressor(RandomForestRegressor()).fit(X_multi_train, y_multi_train)\n",
    "print(f\"Train Score: {reg.score(X_multi_train, y_multi_train)}\")"
   ]
  },
  {
   "cell_type": "code",
   "execution_count": 73,
   "metadata": {},
   "outputs": [
    {
     "name": "stdout",
     "output_type": "stream",
     "text": [
      "2002-2008: 0.17449628064846906\n",
      "2003-2009: 0.11171413478297992\n",
      "2004-2010: 0.05546849298919726\n",
      "2005-2011: -0.054309120182338244\n",
      "2006-2012: 0.0121758448122265\n",
      "2007-2013: -0.0728230976583451\n",
      "2008-2014: -0.053240902232425946\n",
      "2009-2015: -0.19742530938364133\n",
      "2010-2016: -0.046243736454550155\n",
      "2011-2017: -0.05703611165833117\n",
      "2012-2018: -0.11616715014434226\n"
     ]
    }
   ],
   "source": [
    "for year in range(2002,2013):\n",
    "\tX_test = wage_diff[[str(i) for i in range(year, year+5)]]\n",
    "\ty_test = wage_diff[[str(i) for i in range(year+5, year+7)]]\n",
    "\tprint(f\"{year}-{year+6}: {reg.score(X_test, y_test)}\")"
   ]
  },
  {
   "cell_type": "code",
   "execution_count": 74,
   "metadata": {},
   "outputs": [
    {
     "name": "stdout",
     "output_type": "stream",
     "text": [
      "Train Score: 0.5830412059681153\n"
     ]
    }
   ],
   "source": [
    "X_multi_5_train = wage_diff[[str(i) for i in range(2001,2006)]]\n",
    "y_multi_5_train = wage_diff[[str(i) for i in range(2006,2011)]]\n",
    "reg = MultiOutputRegressor(GradientBoostingRegressor()).fit(X_multi_5_train, y_multi_5_train)\n",
    "print(f\"Train Score: {reg.score(X_multi_5_train, y_multi_5_train)}\")"
   ]
  },
  {
   "cell_type": "code",
   "execution_count": 75,
   "metadata": {},
   "outputs": [
    {
     "name": "stdout",
     "output_type": "stream",
     "text": [
      "2003-2007, 2008-2012: -0.011536162078766976\n",
      "2004-2008, 2009-2013: -0.08678633027534018\n",
      "2005-2009, 2010-2014: -0.14869012740274357\n",
      "2006-2010, 2011-2015: -0.14232053144654336\n",
      "2007-2011, 2012-2016: -0.1838805870461949\n",
      "2008-2012, 2013-2017: -0.09284856721731734\n",
      "2009-2013, 2014-2018: -0.1840524049964749\n"
     ]
    }
   ],
   "source": [
    "for year in range(2003, 2010):\n",
    "\tX_test = wage_diff[[str(i) for i in range(year, year+5)]]\n",
    "\ty_test = wage_diff[[str(i) for i in range(year+5, year+10)]]\n",
    "\tprint(f\"{year}-{year+4}, {year+5}-{year+9}: {reg.score(X_test, y_test)}\")"
   ]
  },
  {
   "cell_type": "code",
   "execution_count": 76,
   "metadata": {},
   "outputs": [
    {
     "name": "stdout",
     "output_type": "stream",
     "text": [
      "Train Score: 0.872211484191897\n"
     ]
    }
   ],
   "source": [
    "X_multi_5_train = wage_diff[[str(i) for i in range(2001,2006)]]\n",
    "y_multi_5_train = wage_diff[[str(i) for i in range(2006,2011)]]\n",
    "reg = MultiOutputRegressor(RandomForestRegressor()).fit(X_multi_5_train, y_multi_5_train)\n",
    "print(f\"Train Score: {reg.score(X_multi_5_train, y_multi_5_train)}\")"
   ]
  },
  {
   "cell_type": "code",
   "execution_count": 77,
   "metadata": {},
   "outputs": [
    {
     "name": "stdout",
     "output_type": "stream",
     "text": [
      "2003-2007, 2008-2012: -0.02899189705063452\n",
      "2004-2008, 2009-2013: -0.08103531202682808\n",
      "2005-2009, 2010-2014: -0.13327932696078862\n",
      "2006-2010, 2011-2015: -0.13786211236833798\n",
      "2007-2011, 2012-2016: -0.16808748916924893\n",
      "2008-2012, 2013-2017: -0.1310751979634819\n",
      "2009-2013, 2014-2018: -0.2739933753894245\n"
     ]
    }
   ],
   "source": [
    "for year in range(2003, 2010):\n",
    "\tX_test = wage_diff[[str(i) for i in range(year, year+5)]]\n",
    "\ty_test = wage_diff[[str(i) for i in range(year+5, year+10)]]\n",
    "\tprint(f\"{year}-{year+4}, {year+5}-{year+9}: {reg.score(X_test, y_test)}\")"
   ]
  },
  {
   "cell_type": "code",
   "execution_count": 78,
   "metadata": {},
   "outputs": [
    {
     "name": "stdout",
     "output_type": "stream",
     "text": [
      "Train score: 0.7893397413295268\n"
     ]
    }
   ],
   "source": [
    "X_train = wage_diffdiff[[str(i) for i in range(2002,2007)]]\n",
    "y_train = wage_diffdiff[\"2007\"]\n",
    "reg = GradientBoostingRegressor().fit(X_train, y_train)\n",
    "print(f\"Train score: {reg.score(X_train, y_train)}\")"
   ]
  },
  {
   "cell_type": "code",
   "execution_count": 79,
   "metadata": {},
   "outputs": [
    {
     "name": "stdout",
     "output_type": "stream",
     "text": [
      "2003-2008: 0.3357104053699588\n",
      "2004-2009: 0.48456020494235286\n",
      "2005-2010: 0.4497703688947985\n",
      "2006-2011: 0.2746447565420115\n",
      "2007-2012: 0.41478873819685047\n",
      "2008-2013: 0.3227538938342621\n",
      "2009-2014: 0.287804437165188\n",
      "2010-2015: 0.3574047225503789\n",
      "2011-2016: 0.5523827628667091\n",
      "2012-2017: 0.31678453830041453\n"
     ]
    }
   ],
   "source": [
    "for year in range(2003, 2013):\n",
    "\tX_test = wage_diffdiff[[str(i) for i in range(year, year+5)]]\n",
    "\ty_test = wage_diffdiff[str(year+5)]\n",
    "\tprint(f\"{year}-{year+5}: {reg.score(X_test, y_test)}\")"
   ]
  },
  {
   "cell_type": "code",
   "execution_count": 80,
   "metadata": {},
   "outputs": [
    {
     "name": "stdout",
     "output_type": "stream",
     "text": [
      "Train score: 0.9125375317002379\n"
     ]
    }
   ],
   "source": [
    "X_train = wage_diffdiff[[str(i) for i in range(2002,2007)]]\n",
    "y_train = wage_diffdiff[\"2007\"]\n",
    "reg = RandomForestRegressor().fit(X_train, y_train)\n",
    "print(f\"Train score: {reg.score(X_train, y_train)}\")"
   ]
  },
  {
   "cell_type": "code",
   "execution_count": 81,
   "metadata": {},
   "outputs": [
    {
     "name": "stdout",
     "output_type": "stream",
     "text": [
      "2003-2008: 0.3609196885734207\n",
      "2004-2009: 0.4474248396952599\n",
      "2005-2010: 0.4580155267422117\n",
      "2006-2011: 0.3289324456724728\n",
      "2007-2012: 0.41324938640189224\n",
      "2008-2013: 0.3310754057353593\n",
      "2009-2014: 0.28174495652738185\n",
      "2010-2015: 0.3817725965037242\n",
      "2011-2016: 0.5199529762820259\n",
      "2012-2017: 0.34807659020335435\n"
     ]
    }
   ],
   "source": [
    "for year in range(2003, 2013):\n",
    "\tX_test = wage_diffdiff[[str(i) for i in range(year, year+5)]]\n",
    "\ty_test = wage_diffdiff[str(year+5)]\n",
    "\tprint(f\"{year}-{year+5}: {reg.score(X_test, y_test)}\")"
   ]
  },
  {
   "cell_type": "code",
   "execution_count": 82,
   "metadata": {},
   "outputs": [
    {
     "name": "stdout",
     "output_type": "stream",
     "text": [
      "Train Score: 0.7902067223059834\n"
     ]
    }
   ],
   "source": [
    "X_multi_train = wage_diffdiff[[str(i) for i in range(2002,2007)]]\n",
    "y_multi_train = wage_diffdiff[[str(i) for i in range(2007,2009)]]\n",
    "reg = MultiOutputRegressor(GradientBoostingRegressor()).fit(X_multi_train, y_multi_train)\n",
    "print(f\"Train Score: {reg.score(X_multi_train, y_multi_train)}\")"
   ]
  },
  {
   "cell_type": "code",
   "execution_count": 83,
   "metadata": {},
   "outputs": [
    {
     "name": "stdout",
     "output_type": "stream",
     "text": [
      "2003-2009: 0.33564288425492717\n",
      "2004-2010: 0.205859823533734\n",
      "2005-2011: 0.23911677384228197\n",
      "2006-2012: 0.1397706680995912\n",
      "2007-2013: 0.31054297287879407\n",
      "2008-2014: 0.1559362717051152\n",
      "2009-2015: 0.19950234930241634\n",
      "2010-2016: 0.3825806139481959\n",
      "2011-2017: 0.3681628465669847\n"
     ]
    }
   ],
   "source": [
    "for year in range(2003,2012):\n",
    "\tX_test = wage_diffdiff[[str(i) for i in range(year, year+5)]]\n",
    "\ty_test = wage_diffdiff[[str(i) for i in range(year+5, year+7)]]\n",
    "\tprint(f\"{year}-{year+6}: {reg.score(X_test, y_test)}\")"
   ]
  },
  {
   "cell_type": "code",
   "execution_count": 84,
   "metadata": {},
   "outputs": [
    {
     "name": "stdout",
     "output_type": "stream",
     "text": [
      "Train Score: 0.9082064433659954\n"
     ]
    }
   ],
   "source": [
    "X_multi_train = wage_diffdiff[[str(i) for i in range(2002,2007)]]\n",
    "y_multi_train = wage_diffdiff[[str(i) for i in range(2007,2009)]]\n",
    "reg = MultiOutputRegressor(RandomForestRegressor()).fit(X_multi_train, y_multi_train)\n",
    "print(f\"Train Score: {reg.score(X_multi_train, y_multi_train)}\")"
   ]
  },
  {
   "cell_type": "code",
   "execution_count": 85,
   "metadata": {},
   "outputs": [
    {
     "name": "stdout",
     "output_type": "stream",
     "text": [
      "2003-2009: 0.350072429115986\n",
      "2004-2010: 0.21424541401528446\n",
      "2005-2011: 0.2927183591997168\n",
      "2006-2012: 0.1652839772504917\n",
      "2007-2013: 0.29500384398685126\n",
      "2008-2014: 0.19472957500508542\n",
      "2009-2015: 0.17106486829844314\n",
      "2010-2016: 0.39939209935654696\n",
      "2011-2017: 0.3469264073706069\n"
     ]
    }
   ],
   "source": [
    "for year in range(2003,2012):\n",
    "\tX_test = wage_diffdiff[[str(i) for i in range(year, year+5)]]\n",
    "\ty_test = wage_diffdiff[[str(i) for i in range(year+5, year+7)]]\n",
    "\tprint(f\"{year}-{year+6}: {reg.score(X_test, y_test)}\")"
   ]
  },
  {
   "cell_type": "code",
   "execution_count": 86,
   "metadata": {},
   "outputs": [
    {
     "name": "stdout",
     "output_type": "stream",
     "text": [
      "Train Score: 0.6330130309567679\n"
     ]
    }
   ],
   "source": [
    "X_multi_5_train = wage_diffdiff[[str(i) for i in range(2002,2007)]]\n",
    "y_multi_5_train = wage_diffdiff[[str(i) for i in range(2007,2012)]]\n",
    "reg = MultiOutputRegressor(GradientBoostingRegressor()).fit(X_multi_5_train, y_multi_5_train)\n",
    "print(f\"Train Score: {reg.score(X_multi_5_train, y_multi_5_train)}\")"
   ]
  },
  {
   "cell_type": "code",
   "execution_count": 87,
   "metadata": {},
   "outputs": [
    {
     "name": "stdout",
     "output_type": "stream",
     "text": [
      "2004-2008, 2009-2013: -0.0251509217112174\n",
      "2005-2009, 2010-2014: 0.026978719703212438\n",
      "2006-2010, 2011-2015: -0.0044827242492961215\n",
      "2007-2011, 2012-2016: 0.02194743410348916\n"
     ]
    }
   ],
   "source": [
    "for year in range(2004, 2008):\n",
    "\tX_test = wage_diffdiff[[str(i) for i in range(year, year+5)]]\n",
    "\ty_test = wage_diffdiff[[str(i) for i in range(year+5, year+10)]]\n",
    "\tprint(f\"{year}-{year+4}, {year+5}-{year+9}: {reg.score(X_test, y_test)}\")"
   ]
  },
  {
   "cell_type": "code",
   "execution_count": 88,
   "metadata": {},
   "outputs": [
    {
     "name": "stdout",
     "output_type": "stream",
     "text": [
      "Train Score: 0.8767109359577765\n"
     ]
    }
   ],
   "source": [
    "X_multi_5_train = wage_diffdiff[[str(i) for i in range(2002,2007)]]\n",
    "y_multi_5_train = wage_diffdiff[[str(i) for i in range(2007,2012)]]\n",
    "reg = MultiOutputRegressor(RandomForestRegressor()).fit(X_multi_5_train, y_multi_5_train)\n",
    "print(f\"Train Score: {reg.score(X_multi_5_train, y_multi_5_train)}\")"
   ]
  },
  {
   "cell_type": "code",
   "execution_count": 89,
   "metadata": {},
   "outputs": [
    {
     "name": "stdout",
     "output_type": "stream",
     "text": [
      "2004-2008, 2009-2013: -0.04984939037369294\n",
      "2005-2009, 2010-2014: 0.048369069447129306\n",
      "2006-2010, 2011-2015: 0.005082314723292347\n",
      "2007-2011, 2012-2016: 0.01337925481248452\n"
     ]
    }
   ],
   "source": [
    "for year in range(2004, 2008):\n",
    "\tX_test = wage_diffdiff[[str(i) for i in range(year, year+5)]]\n",
    "\ty_test = wage_diffdiff[[str(i) for i in range(year+5, year+10)]]\n",
    "\tprint(f\"{year}-{year+4}, {year+5}-{year+9}: {reg.score(X_test, y_test)}\")"
   ]
  },
  {
   "cell_type": "markdown",
   "metadata": {},
   "source": [
    "### EMP"
   ]
  },
  {
   "cell_type": "code",
   "execution_count": 90,
   "metadata": {},
   "outputs": [
    {
     "name": "stdout",
     "output_type": "stream",
     "text": [
      "Train score: 0.7800564633176015\n"
     ]
    }
   ],
   "source": [
    "X_train = emp_diff[[str(i) for i in range(2001,2006)]]\n",
    "y_train = emp_diff[\"2006\"]\n",
    "reg = GradientBoostingRegressor().fit(X_train, y_train)\n",
    "print(f\"Train score: {reg.score(X_train, y_train)}\")"
   ]
  },
  {
   "cell_type": "code",
   "execution_count": 91,
   "metadata": {},
   "outputs": [
    {
     "name": "stdout",
     "output_type": "stream",
     "text": [
      "2002-2007: 0.432615115697511\n",
      "2003-2008: 0.2717539302042715\n",
      "2004-2009: 0.46499091981480245\n",
      "2005-2010: 0.23352897302519404\n",
      "2006-2011: 0.45873308829405857\n",
      "2007-2012: 0.37517617690063454\n",
      "2008-2013: 0.2925653314581852\n",
      "2009-2014: 0.1490192146125756\n",
      "2010-2015: 0.29182588454494485\n",
      "2011-2016: 0.298450556524933\n",
      "2012-2017: 0.2894480100729312\n",
      "2013-2018: 0.21200453181330758\n"
     ]
    }
   ],
   "source": [
    "for year in range(2002, 2014):\n",
    "\tX_test = emp_diff[[str(i) for i in range(year, year+5)]]\n",
    "\ty_test = emp_diff[str(year+5)]\n",
    "\tprint(f\"{year}-{year+5}: {reg.score(X_test, y_test)}\")"
   ]
  },
  {
   "cell_type": "code",
   "execution_count": 92,
   "metadata": {},
   "outputs": [
    {
     "name": "stdout",
     "output_type": "stream",
     "text": [
      "Train score: 0.925110491729252\n"
     ]
    }
   ],
   "source": [
    "X_train = emp_diff[[str(i) for i in range(2001,2006)]]\n",
    "y_train = emp_diff[\"2006\"]\n",
    "reg = RandomForestRegressor().fit(X_train, y_train)\n",
    "print(f\"Train score: {reg.score(X_train, y_train)}\")"
   ]
  },
  {
   "cell_type": "code",
   "execution_count": 93,
   "metadata": {},
   "outputs": [
    {
     "name": "stdout",
     "output_type": "stream",
     "text": [
      "2002-2007: 0.3993385759114949\n",
      "2003-2008: 0.2776392530697127\n",
      "2004-2009: 0.4164242601046262\n",
      "2005-2010: 0.21025123411415048\n",
      "2006-2011: 0.4425088726212538\n",
      "2007-2012: 0.3435830780682039\n",
      "2008-2013: 0.28523152706523924\n",
      "2009-2014: 0.16312808720697014\n",
      "2010-2015: 0.29148700979850606\n",
      "2011-2016: 0.3164089966303304\n",
      "2012-2017: 0.265521572546777\n",
      "2013-2018: 0.2346771187846325\n"
     ]
    }
   ],
   "source": [
    "for year in range(2002, 2014):\n",
    "\tX_test = emp_diff[[str(i) for i in range(year, year+5)]]\n",
    "\ty_test = emp_diff[str(year+5)]\n",
    "\tprint(f\"{year}-{year+5}: {reg.score(X_test, y_test)}\")"
   ]
  },
  {
   "cell_type": "code",
   "execution_count": 94,
   "metadata": {},
   "outputs": [
    {
     "name": "stdout",
     "output_type": "stream",
     "text": [
      "Train Score: 0.6639034978305982\n"
     ]
    }
   ],
   "source": [
    "X_multi_train = emp_diff[[str(i) for i in range(2001,2006)]]\n",
    "y_multi_train = emp_diff[[str(i) for i in range(2006,2008)]]\n",
    "reg = MultiOutputRegressor(GradientBoostingRegressor()).fit(X_multi_train, y_multi_train)\n",
    "print(f\"Train Score: {reg.score(X_multi_train, y_multi_train)}\")"
   ]
  },
  {
   "cell_type": "code",
   "execution_count": 95,
   "metadata": {},
   "outputs": [
    {
     "name": "stdout",
     "output_type": "stream",
     "text": [
      "2002-2008: 0.1870358899976713\n",
      "2003-2009: 0.08578237328395583\n",
      "2004-2010: 0.11045037618759546\n",
      "2005-2011: 0.009504157333317886\n",
      "2006-2012: 0.15237173540540633\n",
      "2007-2013: 0.06455812262424382\n",
      "2008-2014: -0.04025411408201329\n",
      "2009-2015: -0.13635305203555215\n",
      "2010-2016: -0.059236721070971776\n",
      "2011-2017: -0.021715301654995134\n",
      "2012-2018: 0.027252498461405317\n"
     ]
    }
   ],
   "source": [
    "for year in range(2002,2013):\n",
    "\tX_test = emp_diff[[str(i) for i in range(year, year+5)]]\n",
    "\ty_test = emp_diff[[str(i) for i in range(year+5, year+7)]]\n",
    "\tprint(f\"{year}-{year+6}: {reg.score(X_test, y_test)}\")"
   ]
  },
  {
   "cell_type": "code",
   "execution_count": 96,
   "metadata": {},
   "outputs": [
    {
     "name": "stdout",
     "output_type": "stream",
     "text": [
      "Train Score: 0.891340910198251\n"
     ]
    }
   ],
   "source": [
    "X_multi_train = emp_diff[[str(i) for i in range(2001,2006)]]\n",
    "y_multi_train = emp_diff[[str(i) for i in range(2006,2008)]]\n",
    "reg = MultiOutputRegressor(RandomForestRegressor()).fit(X_multi_train, y_multi_train)\n",
    "print(f\"Train Score: {reg.score(X_multi_train, y_multi_train)}\")"
   ]
  },
  {
   "cell_type": "code",
   "execution_count": 97,
   "metadata": {},
   "outputs": [
    {
     "name": "stdout",
     "output_type": "stream",
     "text": [
      "2002-2008: 0.17712198230934206\n",
      "2003-2009: 0.12053155701903673\n",
      "2004-2010: 0.11390404938398818\n",
      "2005-2011: 0.01004938424881735\n",
      "2006-2012: 0.14235099062944423\n",
      "2007-2013: 0.02517302516508546\n",
      "2008-2014: -0.02204245944455996\n",
      "2009-2015: -0.07842795547829229\n",
      "2010-2016: -0.03382268590100884\n",
      "2011-2017: -0.007764735868719452\n",
      "2012-2018: -0.012028863818168145\n"
     ]
    }
   ],
   "source": [
    "for year in range(2002,2013):\n",
    "\tX_test = emp_diff[[str(i) for i in range(year, year+5)]]\n",
    "\ty_test = emp_diff[[str(i) for i in range(year+5, year+7)]]\n",
    "\tprint(f\"{year}-{year+6}: {reg.score(X_test, y_test)}\")"
   ]
  },
  {
   "cell_type": "code",
   "execution_count": 98,
   "metadata": {},
   "outputs": [
    {
     "name": "stdout",
     "output_type": "stream",
     "text": [
      "Train Score: 0.5371470806114204\n"
     ]
    }
   ],
   "source": [
    "X_multi_5_train = emp_diff[[str(i) for i in range(2001,2006)]]\n",
    "y_multi_5_train = emp_diff[[str(i) for i in range(2006,2011)]]\n",
    "reg = MultiOutputRegressor(GradientBoostingRegressor()).fit(X_multi_5_train, y_multi_5_train)\n",
    "print(f\"Train Score: {reg.score(X_multi_5_train, y_multi_5_train)}\")"
   ]
  },
  {
   "cell_type": "code",
   "execution_count": 99,
   "metadata": {},
   "outputs": [
    {
     "name": "stdout",
     "output_type": "stream",
     "text": [
      "2003-2007, 2008-2012: -0.03193089057833407\n",
      "2004-2008, 2009-2013: -0.041978945391233057\n",
      "2005-2009, 2010-2014: -0.11731661786045848\n",
      "2006-2010, 2011-2015: -0.05123017101652529\n",
      "2007-2011, 2012-2016: -0.06317151804678978\n",
      "2008-2012, 2013-2017: -0.0919263481493896\n",
      "2009-2013, 2014-2018: -0.14580021838839835\n"
     ]
    }
   ],
   "source": [
    "for year in range(2003, 2010):\n",
    "\tX_test = emp_diff[[str(i) for i in range(year, year+5)]]\n",
    "\ty_test = emp_diff[[str(i) for i in range(year+5, year+10)]]\n",
    "\tprint(f\"{year}-{year+4}, {year+5}-{year+9}: {reg.score(X_test, y_test)}\")"
   ]
  },
  {
   "cell_type": "code",
   "execution_count": 100,
   "metadata": {},
   "outputs": [
    {
     "name": "stdout",
     "output_type": "stream",
     "text": [
      "Train Score: 0.869366024971935\n"
     ]
    }
   ],
   "source": [
    "X_multi_5_train = emp_diff[[str(i) for i in range(2001,2006)]]\n",
    "y_multi_5_train = emp_diff[[str(i) for i in range(2006,2011)]]\n",
    "reg = MultiOutputRegressor(RandomForestRegressor()).fit(X_multi_5_train, y_multi_5_train)\n",
    "print(f\"Train Score: {reg.score(X_multi_5_train, y_multi_5_train)}\")"
   ]
  },
  {
   "cell_type": "code",
   "execution_count": 101,
   "metadata": {},
   "outputs": [
    {
     "name": "stdout",
     "output_type": "stream",
     "text": [
      "2003-2007, 2008-2012: -0.03209534552561168\n",
      "2004-2008, 2009-2013: -0.040633484029092656\n",
      "2005-2009, 2010-2014: -0.1321285165020649\n",
      "2006-2010, 2011-2015: -0.07742475889537788\n",
      "2007-2011, 2012-2016: -0.10290406401716812\n",
      "2008-2012, 2013-2017: -0.12510902833444196\n",
      "2009-2013, 2014-2018: -0.14523648068623143\n"
     ]
    }
   ],
   "source": [
    "for year in range(2003, 2010):\n",
    "\tX_test = emp_diff[[str(i) for i in range(year, year+5)]]\n",
    "\ty_test = emp_diff[[str(i) for i in range(year+5, year+10)]]\n",
    "\tprint(f\"{year}-{year+4}, {year+5}-{year+9}: {reg.score(X_test, y_test)}\")"
   ]
  },
  {
   "cell_type": "code",
   "execution_count": 102,
   "metadata": {},
   "outputs": [
    {
     "name": "stdout",
     "output_type": "stream",
     "text": [
      "Train score: 0.7827033811523725\n"
     ]
    }
   ],
   "source": [
    "X_train = emp_diffdiff[[str(i) for i in range(2002,2007)]]\n",
    "y_train = emp_diffdiff[\"2007\"]\n",
    "reg = GradientBoostingRegressor().fit(X_train, y_train)\n",
    "print(f\"Train score: {reg.score(X_train, y_train)}\")"
   ]
  },
  {
   "cell_type": "code",
   "execution_count": 103,
   "metadata": {},
   "outputs": [
    {
     "name": "stdout",
     "output_type": "stream",
     "text": [
      "2003-2008: 0.41752498282876416\n",
      "2004-2009: 0.2912587645556859\n",
      "2005-2010: 0.4203350669477951\n",
      "2006-2011: 0.1992318922565396\n",
      "2007-2012: 0.38533162573295787\n",
      "2008-2013: 0.34090671104416737\n",
      "2009-2014: 0.2970099043368013\n",
      "2010-2015: 0.349334317777634\n",
      "2011-2016: 0.5677282498683511\n",
      "2012-2017: 0.38075307819489346\n"
     ]
    }
   ],
   "source": [
    "for year in range(2003, 2013):\n",
    "\tX_test = emp_diffdiff[[str(i) for i in range(year, year+5)]]\n",
    "\ty_test = emp_diffdiff[str(year+5)]\n",
    "\tprint(f\"{year}-{year+5}: {reg.score(X_test, y_test)}\")"
   ]
  },
  {
   "cell_type": "code",
   "execution_count": 104,
   "metadata": {},
   "outputs": [
    {
     "name": "stdout",
     "output_type": "stream",
     "text": [
      "Train score: 0.9145591841098978\n"
     ]
    }
   ],
   "source": [
    "reg = RandomForestRegressor().fit(X_train, y_train)\n",
    "print(f\"Train score: {reg.score(X_train, y_train)}\")"
   ]
  },
  {
   "cell_type": "code",
   "execution_count": 105,
   "metadata": {},
   "outputs": [
    {
     "name": "stdout",
     "output_type": "stream",
     "text": [
      "2003-2008: 0.36705956684173247\n",
      "2004-2009: 0.2847957063168134\n",
      "2005-2010: 0.422099499373234\n",
      "2006-2011: 0.21333862540890614\n",
      "2007-2012: 0.4107303455379828\n",
      "2008-2013: 0.31906400647961464\n",
      "2009-2014: 0.2722466527280719\n",
      "2010-2015: 0.33280188481555184\n",
      "2011-2016: 0.5331974751986218\n",
      "2012-2017: 0.36931599172489593\n"
     ]
    }
   ],
   "source": [
    "for year in range(2003, 2013):\n",
    "\tX_test = emp_diffdiff[[str(i) for i in range(year, year+5)]]\n",
    "\ty_test = emp_diffdiff[str(year+5)]\n",
    "\tprint(f\"{year}-{year+5}: {reg.score(X_test, y_test)}\")"
   ]
  },
  {
   "cell_type": "code",
   "execution_count": 106,
   "metadata": {},
   "outputs": [
    {
     "name": "stdout",
     "output_type": "stream",
     "text": [
      "Train Score: 0.7633746217956228\n"
     ]
    }
   ],
   "source": [
    "X_multi_train = emp_diffdiff[[str(i) for i in range(2002,2007)]]\n",
    "y_multi_train = emp_diffdiff[[str(i) for i in range(2007,2009)]]\n",
    "reg = MultiOutputRegressor(GradientBoostingRegressor()).fit(X_multi_train, y_multi_train)\n",
    "print(f\"Train Score: {reg.score(X_multi_train, y_multi_train)}\")"
   ]
  },
  {
   "cell_type": "code",
   "execution_count": 107,
   "metadata": {},
   "outputs": [
    {
     "name": "stdout",
     "output_type": "stream",
     "text": [
      "2003-2009: 0.24663200997383367\n",
      "2004-2010: 0.20750688001079987\n",
      "2005-2011: 0.24139930800655723\n",
      "2006-2012: 0.12419181698574366\n",
      "2007-2013: 0.3184344178855008\n",
      "2008-2014: 0.18117848487581678\n",
      "2009-2015: 0.13491330363457626\n",
      "2010-2016: 0.3466367055238573\n",
      "2011-2017: 0.3502839160163388\n"
     ]
    }
   ],
   "source": [
    "for year in range(2003,2012):\n",
    "\tX_test = emp_diffdiff[[str(i) for i in range(year, year+5)]]\n",
    "\ty_test = emp_diffdiff[[str(i) for i in range(year+5, year+7)]]\n",
    "\tprint(f\"{year}-{year+6}: {reg.score(X_test, y_test)}\")"
   ]
  },
  {
   "cell_type": "code",
   "execution_count": 108,
   "metadata": {},
   "outputs": [
    {
     "name": "stdout",
     "output_type": "stream",
     "text": [
      "Train Score: 0.890649524212466\n"
     ]
    }
   ],
   "source": [
    "reg = MultiOutputRegressor(RandomForestRegressor()).fit(X_multi_train, y_multi_train)\n",
    "print(f\"Train Score: {reg.score(X_multi_train, y_multi_train)}\")"
   ]
  },
  {
   "cell_type": "code",
   "execution_count": 109,
   "metadata": {},
   "outputs": [
    {
     "name": "stdout",
     "output_type": "stream",
     "text": [
      "2003-2009: 0.26226197680071606\n",
      "2004-2010: 0.2468256853321154\n",
      "2005-2011: 0.25097951311837946\n",
      "2006-2012: 0.1637914524234974\n",
      "2007-2013: 0.3101673346302739\n",
      "2008-2014: 0.16578626799885593\n",
      "2009-2015: 0.20905755273887355\n",
      "2010-2016: 0.36667074361828117\n",
      "2011-2017: 0.3701621694748699\n"
     ]
    }
   ],
   "source": [
    "for year in range(2003,2012):\n",
    "\tX_test = emp_diffdiff[[str(i) for i in range(year, year+5)]]\n",
    "\ty_test = emp_diffdiff[[str(i) for i in range(year+5, year+7)]]\n",
    "\tprint(f\"{year}-{year+6}: {reg.score(X_test, y_test)}\")"
   ]
  },
  {
   "cell_type": "code",
   "execution_count": 110,
   "metadata": {},
   "outputs": [
    {
     "name": "stdout",
     "output_type": "stream",
     "text": [
      "Train Score: 0.5903673272707776\n"
     ]
    }
   ],
   "source": [
    "X_multi_5_train = emp_diffdiff[[str(i) for i in range(2002,2007)]]\n",
    "y_multi_5_train = emp_diffdiff[[str(i) for i in range(2007,2012)]]\n",
    "reg = MultiOutputRegressor(GradientBoostingRegressor()).fit(X_multi_5_train, y_multi_5_train)\n",
    "print(f\"Train Score: {reg.score(X_multi_5_train, y_multi_5_train)}\")"
   ]
  },
  {
   "cell_type": "code",
   "execution_count": 111,
   "metadata": {},
   "outputs": [
    {
     "name": "stdout",
     "output_type": "stream",
     "text": [
      "2004-2008, 2009-2013: -0.010540149877745698\n",
      "2005-2009, 2010-2014: 0.03771547018213388\n",
      "2006-2010, 2011-2015: -0.022545505575080192\n",
      "2007-2011, 2012-2016: 0.05175862864557403\n",
      "2008-2012, 2013-2017: 0.0260233170625511\n"
     ]
    }
   ],
   "source": [
    "for year in range(2004, 2009):\n",
    "\tX_test = emp_diffdiff[[str(i) for i in range(year, year+5)]]\n",
    "\ty_test = emp_diffdiff[[str(i) for i in range(year+5, year+10)]]\n",
    "\tprint(f\"{year}-{year+4}, {year+5}-{year+9}: {reg.score(X_test, y_test)}\")"
   ]
  },
  {
   "cell_type": "code",
   "execution_count": 112,
   "metadata": {},
   "outputs": [
    {
     "name": "stdout",
     "output_type": "stream",
     "text": [
      "Train Score: 0.8689455624349594\n"
     ]
    }
   ],
   "source": [
    "reg = MultiOutputRegressor(RandomForestRegressor()).fit(X_multi_5_train, y_multi_5_train)\n",
    "print(f\"Train Score: {reg.score(X_multi_5_train, y_multi_5_train)}\")"
   ]
  },
  {
   "cell_type": "code",
   "execution_count": 113,
   "metadata": {},
   "outputs": [
    {
     "name": "stdout",
     "output_type": "stream",
     "text": [
      "2004-2008, 2009-2013: 0.00465802873748482\n",
      "2005-2009, 2010-2014: 0.04195743730074284\n",
      "2006-2010, 2011-2015: -0.019895635194957028\n",
      "2007-2011, 2012-2016: 0.06804912556468698\n",
      "2008-2012, 2013-2017: 0.031494201259545475\n"
     ]
    }
   ],
   "source": [
    "for year in range(2004, 2009):\n",
    "\tX_test = emp_diffdiff[[str(i) for i in range(year, year+5)]]\n",
    "\ty_test = emp_diffdiff[[str(i) for i in range(year+5, year+10)]]\n",
    "\tprint(f\"{year}-{year+4}, {year+5}-{year+9}: {reg.score(X_test, y_test)}\")"
   ]
  },
  {
   "cell_type": "markdown",
   "metadata": {},
   "source": [
    "### ESTAB"
   ]
  },
  {
   "cell_type": "code",
   "execution_count": 114,
   "metadata": {},
   "outputs": [
    {
     "name": "stdout",
     "output_type": "stream",
     "text": [
      "Train score: 0.776448985640435\n"
     ]
    }
   ],
   "source": [
    "X_train = estab_diff[[str(i) for i in range(2001,2005)]]\n",
    "y_train = estab_diff[\"2005\"]\n",
    "reg = GradientBoostingRegressor().fit(X_train, y_train)\n",
    "print(f\"Train score: {reg.score(X_train, y_train)}\")"
   ]
  },
  {
   "cell_type": "code",
   "execution_count": 115,
   "metadata": {},
   "outputs": [
    {
     "name": "stdout",
     "output_type": "stream",
     "text": [
      "2002-2006: 0.17539977125784822\n",
      "2003-2007: 0.36745539855547815\n",
      "2004-2008: 0.4091209217012405\n",
      "2005-2009: 0.4108594044594336\n",
      "2006-2010: 0.4055175815038078\n",
      "2007-2011: 0.4213749522694249\n",
      "2008-2012: 0.5318392407564516\n",
      "2009-2013: 0.21145340933137258\n",
      "2010-2014: 0.4109681930845872\n",
      "2011-2015: 0.36572654509132363\n",
      "2012-2016: 0.3458915466974769\n",
      "2013-2017: 0.4907467381594016\n",
      "2014-2018: 0.03298062534638546\n"
     ]
    }
   ],
   "source": [
    "for year in range(2002, 2015):\n",
    "\tX_test = estab_diff[[str(i) for i in range(year, year+4)]]\n",
    "\ty_test = estab_diff[str(year+4)]\n",
    "\tprint(f\"{year}-{year+4}: {reg.score(X_test, y_test)}\")"
   ]
  },
  {
   "cell_type": "code",
   "execution_count": 116,
   "metadata": {},
   "outputs": [
    {
     "name": "stdout",
     "output_type": "stream",
     "text": [
      "Train score: 0.9041096195825151\n"
     ]
    }
   ],
   "source": [
    "X_train = estab_diff[[str(i) for i in range(2001,2005)]]\n",
    "y_train = estab_diff[\"2005\"]\n",
    "reg = RandomForestRegressor().fit(X_train, y_train)\n",
    "print(f\"Train score: {reg.score(X_train, y_train)}\")"
   ]
  },
  {
   "cell_type": "code",
   "execution_count": 117,
   "metadata": {},
   "outputs": [
    {
     "name": "stdout",
     "output_type": "stream",
     "text": [
      "2002-2006: 0.14466012065246592\n",
      "2003-2007: 0.31310941600409825\n",
      "2004-2008: 0.3818440746659266\n",
      "2005-2009: 0.3396491331859648\n",
      "2006-2010: 0.3386531663550867\n",
      "2007-2011: 0.39451636643216126\n",
      "2008-2012: 0.5172718208423082\n",
      "2009-2013: 0.17208985128531795\n",
      "2010-2014: 0.3816744335880826\n",
      "2011-2015: 0.37497325330883113\n",
      "2012-2016: 0.30181407647745195\n",
      "2013-2017: 0.41481224523401705\n",
      "2014-2018: 0.1046618353904879\n"
     ]
    }
   ],
   "source": [
    "for year in range(2002, 2015):\n",
    "\tX_test = estab_diff[[str(i) for i in range(year, year+4)]]\n",
    "\ty_test = estab_diff[str(year+4)]\n",
    "\tprint(f\"{year}-{year+4}: {reg.score(X_test, y_test)}\")"
   ]
  },
  {
   "cell_type": "code",
   "execution_count": 118,
   "metadata": {},
   "outputs": [
    {
     "name": "stdout",
     "output_type": "stream",
     "text": [
      "Train Score: 0.623165088531711\n"
     ]
    }
   ],
   "source": [
    "X_multi_train = estab_diff[[str(i) for i in range(2001,2005)]]\n",
    "y_multi_train = estab_diff[[str(i) for i in range(2005,2007)]]\n",
    "reg = MultiOutputRegressor(GradientBoostingRegressor()).fit(X_multi_train, y_multi_train)\n",
    "print(f\"Train Score: {reg.score(X_multi_train, y_multi_train)}\")"
   ]
  },
  {
   "cell_type": "code",
   "execution_count": 119,
   "metadata": {},
   "outputs": [
    {
     "name": "stdout",
     "output_type": "stream",
     "text": [
      "2002-2007: 0.03959712178237901\n",
      "2003-2008: 0.13664668870070423\n",
      "2004-2009: 0.14896075183382285\n",
      "2005-2010: 0.20690938861597075\n",
      "2006-2011: 0.176563680279208\n",
      "2007-2012: 0.24018073260958495\n",
      "2008-2013: 0.21935214737097686\n",
      "2009-2014: -0.016922762511873413\n",
      "2010-2015: 0.1480398024853229\n",
      "2011-2016: 0.15844303193213616\n",
      "2012-2017: 0.14914217790133888\n",
      "2013-2018: 0.09723640296476244\n"
     ]
    }
   ],
   "source": [
    "for year in range(2002,2014):\n",
    "\tX_test = estab_diff[[str(i) for i in range(year, year+4)]]\n",
    "\ty_test = estab_diff[[str(i) for i in range(year+4, year+6)]]\n",
    "\tprint(f\"{year}-{year+5}: {reg.score(X_test, y_test)}\")"
   ]
  },
  {
   "cell_type": "code",
   "execution_count": 120,
   "metadata": {},
   "outputs": [
    {
     "name": "stdout",
     "output_type": "stream",
     "text": [
      "Train Score: 0.8897708283714947\n"
     ]
    }
   ],
   "source": [
    "X_multi_train = estab_diff[[str(i) for i in range(2001,2005)]]\n",
    "y_multi_train = estab_diff[[str(i) for i in range(2005,2007)]]\n",
    "reg = MultiOutputRegressor(RandomForestRegressor()).fit(X_multi_train, y_multi_train)\n",
    "print(f\"Train Score: {reg.score(X_multi_train, y_multi_train)}\")"
   ]
  },
  {
   "cell_type": "code",
   "execution_count": 121,
   "metadata": {},
   "outputs": [
    {
     "name": "stdout",
     "output_type": "stream",
     "text": [
      "2002-2007: 0.018526883080793477\n",
      "2003-2008: 0.09527645964691156\n",
      "2004-2009: 0.14680387068516348\n",
      "2005-2010: 0.14341987574004966\n",
      "2006-2011: 0.14285124239598873\n",
      "2007-2012: 0.21126486794358001\n",
      "2008-2013: 0.20386128423374128\n",
      "2009-2014: -0.047374778053208944\n",
      "2010-2015: 0.10379819600192397\n",
      "2011-2016: 0.1300883679485152\n",
      "2012-2017: 0.11016420769176583\n",
      "2013-2018: 0.0276690941647314\n"
     ]
    }
   ],
   "source": [
    "for year in range(2002,2014):\n",
    "\tX_test = estab_diff[[str(i) for i in range(year, year+4)]]\n",
    "\ty_test = estab_diff[[str(i) for i in range(year+4, year+6)]]\n",
    "\tprint(f\"{year}-{year+5}: {reg.score(X_test, y_test)}\")"
   ]
  },
  {
   "cell_type": "code",
   "execution_count": 122,
   "metadata": {},
   "outputs": [
    {
     "name": "stdout",
     "output_type": "stream",
     "text": [
      "Train Score: 0.5251095700885872\n"
     ]
    }
   ],
   "source": [
    "X_multi_5_train = estab_diff[[str(i) for i in range(2001,2006)]]\n",
    "y_multi_5_train = estab_diff[[str(i) for i in range(2006,2011)]]\n",
    "reg = MultiOutputRegressor(GradientBoostingRegressor()).fit(X_multi_5_train, y_multi_5_train)\n",
    "print(f\"Train Score: {reg.score(X_multi_5_train, y_multi_5_train)}\")"
   ]
  },
  {
   "cell_type": "code",
   "execution_count": 123,
   "metadata": {},
   "outputs": [
    {
     "name": "stdout",
     "output_type": "stream",
     "text": [
      "2003-2008, 2008-2013: 0.00134553683212435\n",
      "2004-2009, 2009-2014: 0.028010483780529415\n",
      "2005-2010, 2010-2015: 0.05109632813623923\n",
      "2006-2011, 2011-2016: 0.05068541091275012\n",
      "2007-2012, 2012-2017: 0.07459088487969905\n",
      "2008-2013, 2013-2018: 0.002568796436207288\n"
     ]
    }
   ],
   "source": [
    "for year in range(2003, 2009):\n",
    "\tX_test = estab_diff[[str(i) for i in range(year, year+5)]]\n",
    "\ty_test = estab_diff[[str(i) for i in range(year+5, year+10)]]\n",
    "\tprint(f\"{year}-{year+5}, {year+5}-{year+10}: {reg.score(X_test, y_test)}\")"
   ]
  },
  {
   "cell_type": "code",
   "execution_count": 124,
   "metadata": {},
   "outputs": [
    {
     "name": "stdout",
     "output_type": "stream",
     "text": [
      "Train Score: 0.874055799896794\n"
     ]
    }
   ],
   "source": [
    "X_multi_5_train = estab_diff[[str(i) for i in range(2001,2006)]]\n",
    "y_multi_5_train = estab_diff[[str(i) for i in range(2006,2011)]]\n",
    "reg = MultiOutputRegressor(RandomForestRegressor()).fit(X_multi_5_train, y_multi_5_train)\n",
    "print(f\"Train Score: {reg.score(X_multi_5_train, y_multi_5_train)}\")"
   ]
  },
  {
   "cell_type": "code",
   "execution_count": 125,
   "metadata": {},
   "outputs": [
    {
     "name": "stdout",
     "output_type": "stream",
     "text": [
      "2003-2008, 2008-2013: -0.007523011823258341\n",
      "2004-2009, 2009-2014: 0.014044600967459098\n",
      "2005-2010, 2010-2015: 0.03101497451151016\n",
      "2006-2011, 2011-2016: 0.021883212773479887\n",
      "2007-2012, 2012-2017: 0.030435228315440675\n",
      "2008-2013, 2013-2018: -0.03278356774828477\n"
     ]
    }
   ],
   "source": [
    "for year in range(2003, 2009):\n",
    "\tX_test = estab_diff[[str(i) for i in range(year, year+5)]]\n",
    "\ty_test = estab_diff[[str(i) for i in range(year+5, year+10)]]\n",
    "\tprint(f\"{year}-{year+5}, {year+5}-{year+10}: {reg.score(X_test, y_test)}\")"
   ]
  },
  {
   "cell_type": "code",
   "execution_count": 126,
   "metadata": {},
   "outputs": [
    {
     "name": "stdout",
     "output_type": "stream",
     "text": [
      "Train score: 0.8882470669886688\n"
     ]
    }
   ],
   "source": [
    "X_train = estab_diffdiff[[str(i) for i in range(2002,2006)]]\n",
    "y_train = estab_diffdiff[\"2006\"]\n",
    "reg = GradientBoostingRegressor().fit(X_train, y_train)\n",
    "print(f\"Train score: {reg.score(X_train, y_train)}\")"
   ]
  },
  {
   "cell_type": "code",
   "execution_count": 127,
   "metadata": {},
   "outputs": [
    {
     "name": "stdout",
     "output_type": "stream",
     "text": [
      "2003-2007: 0.43872140385192027\n",
      "2004-2008: 0.4437377719622714\n",
      "2005-2009: 0.30010670151817653\n",
      "2006-2010: 0.3571846238890375\n",
      "2007-2011: 0.37287485222738537\n",
      "2008-2012: 0.454707056446672\n",
      "2009-2013: 0.4345194052743274\n",
      "2010-2014: 0.25817669664722076\n",
      "2011-2015: 0.017026633956390813\n",
      "2012-2016: 0.4077034245470066\n",
      "2013-2017: 0.4216134796390282\n"
     ]
    }
   ],
   "source": [
    "for year in range(2003, 2014):\n",
    "\tX_test = estab_diffdiff[[str(i) for i in range(year, year+4)]]\n",
    "\ty_test = estab_diffdiff[str(year+4)]\n",
    "\tprint(f\"{year}-{year+4}: {reg.score(X_test, y_test)}\")"
   ]
  },
  {
   "cell_type": "code",
   "execution_count": 128,
   "metadata": {},
   "outputs": [
    {
     "name": "stdout",
     "output_type": "stream",
     "text": [
      "Train score: 0.9060452006021964\n"
     ]
    }
   ],
   "source": [
    "X_train = estab_diffdiff[[str(i) for i in range(2002,2006)]]\n",
    "y_train = estab_diffdiff[\"2006\"]\n",
    "reg = RandomForestRegressor().fit(X_train, y_train)\n",
    "print(f\"Train score: {reg.score(X_train, y_train)}\")"
   ]
  },
  {
   "cell_type": "code",
   "execution_count": 129,
   "metadata": {},
   "outputs": [
    {
     "name": "stdout",
     "output_type": "stream",
     "text": [
      "2003-2007: 0.40727442868202224\n",
      "2004-2008: 0.37854537178772973\n",
      "2005-2009: 0.3330421757370341\n",
      "2006-2010: 0.3486587267090987\n",
      "2007-2011: 0.38415929784729985\n",
      "2008-2012: 0.39914511347725856\n",
      "2009-2013: 0.40604674097812066\n",
      "2010-2014: 0.29186294478430197\n",
      "2011-2015: 0.1384434526030075\n",
      "2012-2016: 0.5402358684724846\n",
      "2013-2017: 0.3975029091451914\n"
     ]
    }
   ],
   "source": [
    "for year in range(2003, 2014):\n",
    "\tX_test = estab_diffdiff[[str(i) for i in range(year, year+4)]]\n",
    "\ty_test = estab_diffdiff[str(year+4)]\n",
    "\tprint(f\"{year}-{year+4}: {reg.score(X_test, y_test)}\")"
   ]
  },
  {
   "cell_type": "code",
   "execution_count": 130,
   "metadata": {},
   "outputs": [
    {
     "name": "stdout",
     "output_type": "stream",
     "text": [
      "Train Score: 0.7641216522248772\n"
     ]
    }
   ],
   "source": [
    "X_multi_train = estab_diffdiff[[str(i) for i in range(2002,2006)]]\n",
    "y_multi_train = estab_diffdiff[[str(i) for i in range(2006,2008)]]\n",
    "reg = MultiOutputRegressor(GradientBoostingRegressor()).fit(X_multi_train, y_multi_train)\n",
    "print(f\"Train Score: {reg.score(X_multi_train, y_multi_train)}\")"
   ]
  },
  {
   "cell_type": "code",
   "execution_count": 131,
   "metadata": {},
   "outputs": [
    {
     "name": "stdout",
     "output_type": "stream",
     "text": [
      "2003-2008: 0.3363041616977139\n",
      "2004-2009: 0.31304145743649175\n",
      "2005-2010: 0.19686159401741615\n",
      "2006-2011: 0.24258466015730396\n",
      "2007-2012: 0.35656219214217166\n",
      "2008-2013: 0.3376577971759034\n",
      "2009-2014: 0.24971754989379985\n",
      "2010-2015: 0.16324365967249516\n",
      "2011-2016: 0.10375172813543276\n",
      "2012-2017: 0.36374702797264813\n"
     ]
    }
   ],
   "source": [
    "for year in range(2003,2013):\n",
    "\tX_test = estab_diffdiff[[str(i) for i in range(year, year+4)]]\n",
    "\ty_test = estab_diffdiff[[str(i) for i in range(year+4, year+6)]]\n",
    "\tprint(f\"{year}-{year+5}: {reg.score(X_test, y_test)}\")"
   ]
  },
  {
   "cell_type": "code",
   "execution_count": 132,
   "metadata": {},
   "outputs": [
    {
     "name": "stdout",
     "output_type": "stream",
     "text": [
      "Train Score: 0.9098362150512515\n"
     ]
    }
   ],
   "source": [
    "X_multi_train = estab_diffdiff[[str(i) for i in range(2002,2006)]]\n",
    "y_multi_train = estab_diffdiff[[str(i) for i in range(2006,2008)]]\n",
    "reg = MultiOutputRegressor(RandomForestRegressor()).fit(X_multi_train, y_multi_train)\n",
    "print(f\"Train Score: {reg.score(X_multi_train, y_multi_train)}\")"
   ]
  },
  {
   "cell_type": "code",
   "execution_count": 133,
   "metadata": {},
   "outputs": [
    {
     "name": "stdout",
     "output_type": "stream",
     "text": [
      "2003-2008: 0.29372790448088837\n",
      "2004-2009: 0.2869476210697278\n",
      "2005-2010: 0.18809491585270577\n",
      "2006-2011: 0.2267930235177924\n",
      "2007-2012: 0.32466599504952703\n",
      "2008-2013: 0.2903539486810195\n",
      "2009-2014: 0.23337380322054746\n",
      "2010-2015: 0.1965463581426678\n",
      "2011-2016: 0.1518612297998489\n",
      "2012-2017: 0.4060580377172551\n"
     ]
    }
   ],
   "source": [
    "for year in range(2003,2013):\n",
    "\tX_test = estab_diffdiff[[str(i) for i in range(year, year+4)]]\n",
    "\ty_test = estab_diffdiff[[str(i) for i in range(year+4, year+6)]]\n",
    "\tprint(f\"{year}-{year+5}: {reg.score(X_test, y_test)}\")"
   ]
  },
  {
   "cell_type": "code",
   "execution_count": 134,
   "metadata": {},
   "outputs": [
    {
     "name": "stdout",
     "output_type": "stream",
     "text": [
      "Train Score: 0.5680050439610564\n"
     ]
    }
   ],
   "source": [
    "X_multi_5_train = estab_diffdiff[[str(i) for i in range(2002,2007)]]\n",
    "y_multi_5_train = estab_diffdiff[[str(i) for i in range(2007,2012)]]\n",
    "reg = MultiOutputRegressor(GradientBoostingRegressor()).fit(X_multi_5_train, y_multi_5_train)\n",
    "print(f\"Train Score: {reg.score(X_multi_5_train, y_multi_5_train)}\")"
   ]
  },
  {
   "cell_type": "code",
   "execution_count": 135,
   "metadata": {},
   "outputs": [
    {
     "name": "stdout",
     "output_type": "stream",
     "text": [
      "2004-2009, 2009-2014: 0.07374589932465717\n",
      "2005-2010, 2010-2015: 0.05459774878630719\n",
      "2006-2011, 2011-2016: 0.1809930695563659\n",
      "2007-2012, 2012-2017: 0.13236953682548053\n"
     ]
    }
   ],
   "source": [
    "for year in range(2004, 2008):\n",
    "\tX_test = estab_diffdiff[[str(i) for i in range(year, year+5)]]\n",
    "\ty_test = estab_diffdiff[[str(i) for i in range(year+5, year+10)]]\n",
    "\tprint(f\"{year}-{year+5}, {year+5}-{year+10}: {reg.score(X_test, y_test)}\")"
   ]
  },
  {
   "cell_type": "code",
   "execution_count": 136,
   "metadata": {},
   "outputs": [
    {
     "name": "stdout",
     "output_type": "stream",
     "text": [
      "Train Score: 0.8747898151685526\n"
     ]
    }
   ],
   "source": [
    "X_multi_5_train = estab_diffdiff[[str(i) for i in range(2002,2007)]]\n",
    "y_multi_5_train = estab_diffdiff[[str(i) for i in range(2007,2012)]]\n",
    "reg = MultiOutputRegressor(RandomForestRegressor()).fit(X_multi_5_train, y_multi_5_train)\n",
    "print(f\"Train Score: {reg.score(X_multi_5_train, y_multi_5_train)}\")"
   ]
  },
  {
   "cell_type": "code",
   "execution_count": 137,
   "metadata": {},
   "outputs": [
    {
     "name": "stdout",
     "output_type": "stream",
     "text": [
      "2004-2009, 2009-2014: 0.059994311594132245\n",
      "2005-2010, 2010-2015: 0.049133561969114004\n",
      "2006-2011, 2011-2016: 0.15841494494251687\n",
      "2007-2012, 2012-2017: 0.10166835425821671\n"
     ]
    }
   ],
   "source": [
    "for year in range(2004, 2008):\n",
    "\tX_test = estab_diffdiff[[str(i) for i in range(year, year+5)]]\n",
    "\ty_test = estab_diffdiff[[str(i) for i in range(year+5, year+10)]]\n",
    "\tprint(f\"{year}-{year+5}, {year+5}-{year+10}: {reg.score(X_test, y_test)}\")"
   ]
  },
  {
   "cell_type": "markdown",
   "metadata": {},
   "source": [
    "pred diff from base data"
   ]
  },
  {
   "cell_type": "code",
   "execution_count": 138,
   "metadata": {},
   "outputs": [
    {
     "name": "stdout",
     "output_type": "stream",
     "text": [
      "Train score: 0.8551186520332354\n"
     ]
    }
   ],
   "source": [
    "X_train = emp[[str(i) for i in range(2000,2005)]]\n",
    "y_train = emp_diff[\"2005\"]\n",
    "reg = RandomForestRegressor().fit(X_train, y_train)\n",
    "print(f\"Train score: {reg.score(X_train, y_train)}\")"
   ]
  },
  {
   "cell_type": "code",
   "execution_count": 139,
   "metadata": {},
   "outputs": [
    {
     "name": "stdout",
     "output_type": "stream",
     "text": [
      "2001-2006: -0.022897466666422117\n",
      "2002-2007: -0.0014374312170133408\n",
      "2003-2008: -0.05350542333454378\n",
      "2004-2009: -0.08213065413817655\n",
      "2005-2010: -0.09377474225160776\n",
      "2006-2011: -0.1203620321777521\n",
      "2007-2012: -0.07906646872504841\n",
      "2008-2013: -0.18275366126398396\n",
      "2009-2014: -0.26777750378842247\n",
      "2010-2015: -0.14204402364387492\n",
      "2011-2016: -0.14788760284785174\n",
      "2012-2017: -0.2817786006789691\n",
      "2013-2018: -0.2562843401751618\n"
     ]
    }
   ],
   "source": [
    "for year in range(2001,2014):\n",
    "\tX_test = emp[[str(i) for i in range(year,year+5)]]\n",
    "\ty_test = emp_diff[str(year+5)]\n",
    "\tprint(f\"{year}-{year+5}: {reg.score(X_test, y_test)}\")"
   ]
  },
  {
   "cell_type": "code",
   "execution_count": 140,
   "metadata": {},
   "outputs": [
    {
     "name": "stdout",
     "output_type": "stream",
     "text": [
      "Train score: 0.8728004841565699\n"
     ]
    }
   ],
   "source": [
    "X_train = emp[[str(i) for i in range(2000,2005)]]\n",
    "y_train = emp_diffdiff[\"2005\"]\n",
    "reg = RandomForestRegressor().fit(X_train, y_train)\n",
    "print(f\"Train score: {reg.score(X_train, y_train)}\")"
   ]
  },
  {
   "cell_type": "code",
   "execution_count": 141,
   "metadata": {},
   "outputs": [
    {
     "name": "stdout",
     "output_type": "stream",
     "text": [
      "2001-2006: 0.06849152433238181\n",
      "2002-2007: 0.08877503029950995\n",
      "2003-2008: 0.08461501295048435\n",
      "2004-2009: -0.010245149269331177\n",
      "2005-2010: 0.137040141319262\n",
      "2006-2011: 0.0024456870671278885\n",
      "2007-2012: 0.08647010842493619\n",
      "2008-2013: 0.07013327660385993\n",
      "2009-2014: 0.027773909159780397\n",
      "2010-2015: 0.01421619347952996\n",
      "2011-2016: 0.06664670119525373\n",
      "2012-2017: 0.08277087907147196\n"
     ]
    }
   ],
   "source": [
    "for year in range(2001,2013):\n",
    "\tX_test = emp[[str(i) for i in range(year,year+5)]]\n",
    "\ty_test = emp_diffdiff[str(year+5)]\n",
    "\tprint(f\"{year}-{year+5}: {reg.score(X_test, y_test)}\")"
   ]
  },
  {
   "cell_type": "code",
   "execution_count": 142,
   "metadata": {},
   "outputs": [
    {
     "name": "stdout",
     "output_type": "stream",
     "text": [
      "Train score: 0.9117635998020508\n"
     ]
    }
   ],
   "source": [
    "X_train = emp_diff[[str(i) for i in range(2001,2006)]]\n",
    "y_train = emp_diffdiff[\"2006\"]\n",
    "reg = RandomForestRegressor().fit(X_train, y_train)\n",
    "print(f\"Train score: {reg.score(X_train, y_train)}\")"
   ]
  },
  {
   "cell_type": "code",
   "execution_count": 143,
   "metadata": {},
   "outputs": [
    {
     "name": "stdout",
     "output_type": "stream",
     "text": [
      "2002-2007: 0.44520479381993006\n",
      "2003-2008: 0.41122748663356024\n",
      "2004-2009: 0.4026622760883397\n",
      "2005-2010: 0.34738615824905394\n",
      "2006-2011: 0.06917449320373614\n",
      "2007-2012: 0.3933174857114299\n",
      "2008-2013: 0.3974798643998363\n",
      "2009-2014: 0.21572478253716643\n",
      "2010-2015: 0.30723046917527497\n",
      "2011-2016: 0.5443693477053758\n",
      "2012-2017: 0.3814303052113339\n"
     ]
    }
   ],
   "source": [
    "for year in range(2002,2013):\n",
    "\tX_test = emp_diff[[str(i) for i in range(year,year+5)]]\n",
    "\ty_test = emp_diffdiff[str(year+5)]\n",
    "\tprint(f\"{year}-{year+5}: {reg.score(X_test, y_test)}\")"
   ]
  }
 ],
 "metadata": {
  "interpreter": {
   "hash": "569f545527bfb29d6fb9aacc607f33a145e1de933e11224bb20d6923ac7349a0"
  },
  "kernelspec": {
   "display_name": "Python 3.9.7 ('base')",
   "language": "python",
   "name": "python3"
  },
  "language_info": {
   "codemirror_mode": {
    "name": "ipython",
    "version": 3
   },
   "file_extension": ".py",
   "mimetype": "text/x-python",
   "name": "python",
   "nbconvert_exporter": "python",
   "pygments_lexer": "ipython3",
   "version": "3.9.7"
  },
  "orig_nbformat": 4
 },
 "nbformat": 4,
 "nbformat_minor": 2
}
